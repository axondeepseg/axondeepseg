{
 "cells": [
  {
   "cell_type": "markdown",
   "metadata": {},
   "source": [
    "# UNET SEGMENTATION"
   ]
  },
  {
   "cell_type": "markdown",
   "metadata": {},
   "source": [
    "Arxiv Link: <a href=\"https://arxiv.org/abs/1505.04597\">U-Net: Convolutional Networks for Biomedical Image Segmentation</a>"
   ]
  },
  {
   "cell_type": "markdown",
   "metadata": {},
   "source": [
    "<ul>\n",
    "<li>UNet is a fully convolutional network(FCN) that does image segmentation. Its goal is to predict each pixel's class.</li>\n",
    " \n",
    "<li>UNet is built upon the FCN and modified in a way that it yields better segmentation in medical imaging.</li>\n",
    "</ul>"
   ]
  },
  {
   "cell_type": "markdown",
   "metadata": {},
   "source": [
    "## 1.1 Architecture\n",
    "\n",
    "<img src=\"images/u-net-architecture.png\"/>\n",
    "\n",
    "<h3>UNet Architecture has 3 parts:</h3>\n",
    "<ol>\n",
    "    <li>The Contracting/Downsampling Path</li>\n",
    "    <li>Bottleneck</li>\n",
    "    <li>The Expanding/Upsampling Path</li>\n",
    "</ol>\n",
    "\n",
    "<h3>Downsampling Path: </h3> \n",
    "<ol>\n",
    "    <li>It consists of two 3x3 convolutions (unpadded convolutions), each followed by a rectified linear unit (ReLU) and a 2x2 max pooling operation with stride 2 for downsampling.</li> \n",
    "    <li>At each downsampling step we double the number of feature channels.</li>\n",
    "</ol>\n",
    "\n",
    "<h3>Upsampling Path: </h3> \n",
    "<ol>\n",
    "     <li> Every  step  in  the  expansive  path  consists  of  an  upsampling  of  the feature map followed by a 2x2 convolution (“up-convolution”), a concatenation with the correspondingly feature  map  from  the  downsampling  path,  and  two  3x3  convolutions,  each  followed by a ReLU.</li>\n",
    "</ol>\n",
    "\n",
    "<h3> Skip Connection: </h3>\n",
    "The skip connection from the downsampling path are concatenated with feature map during upsampling path. These skip connection provide local information to global information while upsampling.\n",
    "\n",
    "<h3> Final Layer: </h3>\n",
    "At the final layer a 1x1 convolution is used to map each feature vector to the desired number of classes."
   ]
  },
  {
   "cell_type": "markdown",
   "metadata": {},
   "source": [
    "## 1.2 Advantages\n",
    "<h3> Advantages: </h3>\n",
    "<ol>\n",
    "    <li>The UNet combines the location information from the downsampling path to finally obtain a general information combining localisation and context, which is necessary to predict a good segmentation map.</li>\n",
    "    <li>No Dense layer is used, so image sizes can be used.</li>\n",
    "</ol>"
   ]
  },
  {
   "cell_type": "markdown",
   "metadata": {},
   "source": [
    "## 1.3 Dataset\n",
    "Link: <a href=\"https://www.kaggle.com/c/data-science-bowl-2018\">Data Science Bowl 2018</a>\n",
    "Find the nuclei in divergent images to advance medical discovery"
   ]
  },
  {
   "cell_type": "markdown",
   "metadata": {},
   "source": [
    "## 1.4 Code"
   ]
  },
  {
   "cell_type": "code",
   "execution_count": 5,
   "metadata": {},
   "outputs": [
    {
     "name": "stderr",
     "output_type": "stream",
     "text": [
      "Using TensorFlow backend.\n"
     ]
    },
    {
     "data": {
      "text/plain": [
       "'\\n## Seeding \\nseed = 2019\\nrandom.seed = seed\\nnp.random.seed = seed\\ntf.seed = seed'"
      ]
     },
     "execution_count": 5,
     "metadata": {},
     "output_type": "execute_result"
    }
   ],
   "source": [
    "## Imports\n",
    "import os\n",
    "import os.path\n",
    "import sys\n",
    "import random\n",
    "\n",
    "\n",
    "import numpy as np\n",
    "import cv2\n",
    "import matplotlib.pyplot as plt\n",
    "\n",
    "\n",
    "import keras\n",
    "from keras.layers import *\n",
    "from keras.models import * \n",
    "from keras.preprocessing.image import ImageDataGenerator\n",
    "\n",
    "\n",
    "\"\"\"\n",
    "## Seeding \n",
    "seed = 2019\n",
    "random.seed = seed\n",
    "np.random.seed = seed\n",
    "tf.seed = seed\"\"\""
   ]
  },
  {
   "cell_type": "code",
   "execution_count": 6,
   "metadata": {},
   "outputs": [],
   "source": [
    "import keras.backend.tensorflow_backend as K\n",
    "\n",
    "K.set_session\n",
    "import tensorflow as tf\n",
    "#K.tensorflow_backend._get_available_gpus()"
   ]
  },
  {
   "cell_type": "markdown",
   "metadata": {},
   "source": [
    "# Sample Config File"
   ]
  },
  {
   "cell_type": "code",
   "execution_count": 7,
   "metadata": {},
   "outputs": [],
   "source": [
    "\"\"\"import json\n",
    "with open('/Users/vasudevsharma/Desktop/axondeepseg-master-2/AxonDeepSeg/models/default_SEM_model_v1/config_network.json') as djson:\n",
    "    training_config = json.load(djson)\n",
    "print(training_config) \"\"\"\n",
    "# Example of network configuration for TEM data (small network trainable on a Titan X GPU card)\n",
    "training_config = {\n",
    "    \n",
    "# General parameters:    \n",
    "  \"n_classes\": 3,  # Number of classes. For this application, the number of classes should be set to **3** (i.e. axon pixel, myelin pixel, or background pixel).\n",
    "  \"thresholds\": [0, 0.2, 0.8],  # Thresholds for the 3-class classification problem. Do not modify.  \n",
    "  \"trainingset_patchsize\": 512,  # Patch size of the training set in pixels (note that the patches have the same size in both dimensions).  \n",
    "  \"trainingset\": \"TEM_3c_512\",  # Name of the training set.\n",
    "  \"batch_size\": 8,  # Batch size, i.e. the number of training patches used in one iteration of the training. Note that a larger batch size will take more memory.\n",
    "\n",
    "# Network architecture parameters:     \n",
    "  \"depth\": 4,  # Depth of the network (i.e. number of blocks of the U-net).\n",
    "  \"convolution_per_layer\": [2, 2, 2, 2],  # Number of convolution layers used at each block.\n",
    "  \"size_of_convolutions_per_layer\": [[5, 5], [3, 3], [3, 3], [3, 3]],  # Kernel size of each convolution layer of the network.\n",
    "  \"features_per_convolution\": [[[1, 16], [16, 16]], [[16, 32], [32, 32]], [[32, 64], [64, 64]], [[64, 128], [128, 128]]],  # Number of features of each convolution layer.\n",
    "  \"downsampling\": \"convolution\",  # Type of downsampling to use in the downsampling layers of the network. Option \"maxpooling\" for standard max pooling layer or option \"convolution\" for learned convolutional downsampling.\n",
    "  \"dropout\": 0.75,  # Dropout to use for the training. Note: In TensorFlow, the keep probability is used instead. For instance, setting this param. to 0.75 means that 75% of the neurons of the network will be kept (i.e. dropout of 25%).\n",
    "     \n",
    "# Learning rate parameters:    \n",
    "  \"learning_rate\": 0.01,  # Learning rate to use in the training.  \n",
    "  \"learning_rate_decay_activate\": True,  # Set to \"True\" to use a decay on the learning rate.  \n",
    "  \"learning_rate_decay_period\": 24000,  # Period of the learning rate decay, expressed in number of images (samples) seen.\n",
    "  \"learning_rate_decay_type\": \"polynomial\",  # Type of decay to use. An exponential decay will be used by default unless this param. is set to \"polynomial\" (to use a polynomial decay).\n",
    "  \"learning_rate_decay_rate\": 0.99,  # Rate of the decay to use for the exponential decay. This only applies when the user does not set the decay type to \"polynomial\".\n",
    "    \n",
    "# Batch normalization parameters:     \n",
    "  \"batch_norm_activate\": True,  # Set to \"True\" to use batch normalization during the training.\n",
    "  \"batch_norm_decay_decay_activate\": True,  # Set to \"True\" to activate an exponential decay for the batch normalization step of the training.  \n",
    "  \"batch_norm_decay_starting_decay\": 0.7,  # The starting decay value for the batch normalization. \n",
    "  \"batch_norm_decay_ending_decay\": 0.9,  # The ending decay value for the batch normalization.\n",
    "  \"batch_norm_decay_decay_period\": 16000,  # Period of the batch normalization decay, expressed in number of images (samples) seen.\n",
    "        \n",
    "# Weighted cost parameters:    \n",
    "  \"weighted_cost-activate\": True,  # Set to \"True\" to use weights based on the class in the cost function for the training.\n",
    "  \"weighted_cost-balanced_activate\": True,  # Set to \"True\" to use weights in the cost function to correct class imbalance. \n",
    "  \"weighted_cost-balanced_weights\": [1.1, 1, 1.3],  # Values of the weights for the class imbalance. Typically, larger weights are assigned to classes with less pixels to add more penalty in the cost function when there is a misclassification. Order of the classes in the weights list: background, myelin, axon.\n",
    "  \"weighted_cost-boundaries_sigma\": 2,  # Set to \"True\" to add weights to the boundaries (e.g. penalize more when misclassification happens in the axon-myelin interface).\n",
    "  \"weighted_cost-boundaries_activate\": False,  # Value to control the distribution of the boundary weights (if activated). \n",
    "    \n",
    "# Data augmentation parameters:\n",
    "  \"da-type\": \"all\",  # Type of data augmentation procedure. Option \"all\" applies all selected data augmentation transformations sequentially, while option \"random\" only applies one of the selected transformations (randomly) to the sample(s). List of available data augmentation transformations: 'random_rotation', 'noise_addition', 'elastic', 'shifting', 'rescaling' and 'flipping'. \n",
    "  \"da-0-shifting-activate\": True, \n",
    "  \"da-1-rescaling-activate\": False,\n",
    "  \"da-2-random_rotation-activate\": False,  \n",
    "  \"da-3-elastic-activate\": True, \n",
    "  \"da-4-flipping-activate\": True, \n",
    "  \"da-5-noise_addition-activate\": False\n",
    "}\n",
    "\n",
    "\n"
   ]
  },
  {
   "cell_type": "markdown",
   "metadata": {},
   "source": [
    "## Data Generator"
   ]
  },
  {
   "cell_type": "code",
   "execution_count": 257,
   "metadata": {},
   "outputs": [],
   "source": [
    "class DataGen(keras.utils.Sequence):\n",
    "    def __init__(self, ids, path, batch_size=8, image_size = 512, thresh_indices = [0, 0.2, 0.8]):\n",
    "        self.ids = ids\n",
    "        self.path = path\n",
    "        self.batch_size = batch_size\n",
    "        self.image_size = image_size\n",
    "        self.on_epoch_end()\n",
    "        self.thresh_indices = thresh_indices\n",
    "        \n",
    "    def __load__(self, id_name):\n",
    "        ## Path\n",
    "        image_path = os.path.join(self.path,  'image_' + id_name) + \".png\"\n",
    "        mask_path = os.path.join(self.path,  'mask_' + id_name) + \".png\"\n",
    "        #all_masks = os.listdir(mask_path)\n",
    "        \n",
    "        ## Reading Image\n",
    "        image = cv2.imread(image_path)\n",
    "        \n",
    "        #image = np.reshape(image, (self.image_size, self.image_size,1))\n",
    "        \n",
    "        mask = cv2.imread(mask_path, cv2.IMREAD_GRAYSCALE)\n",
    "\n",
    "        mask = descritize_mask(mask, self.thresh_indices)\n",
    "        #print(mask.shape)\n",
    "        #mask = np.reshape(mask, (self.image_size, self.image_size,3))\n",
    "        #mask = np.zeros((self.image_size, self.image_size, 1))\n",
    "        \"\"\"\n",
    "        ## Reading Masks\n",
    "        for name in all_masks:\n",
    "            _mask_path = mask_path + name\n",
    "            _mask_image = cv2.imread(_mask_path, -1)\n",
    "            _mask_image = cv2.resize(_mask_image, (self.image_size, self.image_size)) #128x128\n",
    "            _mask_image = np.expand_dims(_mask_image, axis=-1)\n",
    "            mask = np.maximum(mask, _mask_image)\n",
    "        \"\"\"\n",
    "        ## Normalizaing \n",
    "       # image = image/255.0\n",
    "        #mask = mask/255.0\n",
    "        #image = image.reshape((512* 512, 3))\n",
    "        #mask  = mask.reshape((512*512, 3))\n",
    "\n",
    "        \n",
    "        return (image, mask)\n",
    "    \n",
    "    def __getitem__(self, index):\n",
    "        \n",
    "        if(index+1)*self.batch_size > len(self.ids):\n",
    "            self.batch_size = len(self.ids) - index*self.batch_size\n",
    "        \n",
    "        files_batch = self.ids[index*self.batch_size : (index+1)*self.batch_size]\n",
    "  \n",
    "        image = []\n",
    "        mask  = []\n",
    "        \n",
    "        for id_name in files_batch:\n",
    "            _img, _mask = self.__load__(id_name)\n",
    "            image.append(_img)\n",
    "            mask.append(_mask)\n",
    "            \n",
    "        image = np.array(image)\n",
    "        mask  = np.array(mask)\n",
    "        \n",
    "        return (image, mask)\n",
    "    \n",
    "    def on_epoch_end(self):\n",
    "        pass\n",
    "    \n",
    "    def __len__(self):\n",
    "        return int(np.ceil(len(self.ids)/float(self.batch_size)))\n",
    "    "
   ]
  },
  {
   "cell_type": "code",
   "execution_count": 258,
   "metadata": {},
   "outputs": [],
   "source": [
    "def labellize_mask_2d(patch, thresh_indices=[0, 0.2, 0.8]):\n",
    "    '''\n",
    "    Process a patch with 8 bit pixels ([0-255]) so that the pixels between two threshold values are set to the closest threshold, effectively\n",
    "    enabling the creation of a mask with as many different values as there are thresholds.\n",
    "\n",
    "    Returns mask in [0-1] domain\n",
    "    '''\n",
    "    mask = np.zeros_like(patch)\n",
    "    for indice in range(len(thresh_indices)-1):\n",
    "\n",
    "        thresh_inf_8bit = 255*thresh_indices[indice]\n",
    "        thresh_sup_8bit = 255*thresh_indices[indice+1]\n",
    "\n",
    "        idx = np.where((patch >= thresh_inf_8bit) & (patch < thresh_sup_8bit)) # returns (x, y) of the corresponding indices\n",
    "        mask[idx] = np.mean([thresh_inf_8bit/255,thresh_sup_8bit/255])\n",
    "\n",
    "    mask[(patch >= 255*thresh_indices[-1])] = 1\n",
    "\n",
    "    return patch\n"
   ]
  },
  {
   "cell_type": "code",
   "execution_count": 259,
   "metadata": {},
   "outputs": [],
   "source": [
    "def descritize_mask(mask, thresh_indices):\n",
    "# Discretization of the mask\n",
    "        mask = labellize_mask_2d(mask, thresh_indices) # mask intensity float between 0-1\n",
    "\n",
    "        # Working out the real mask (sparse cube with n depth layer, one for each class)\n",
    "        n = len(thresh_indices) # number of classes\n",
    "        thresh_indices = [255*x for x in thresh_indices]\n",
    "        real_mask = np.zeros([mask.shape[0], mask.shape[1], n])\n",
    "\n",
    "        for class_ in range(n-1):\n",
    "            real_mask[:,:,class_] = (mask[:,:] >= thresh_indices[class_]) * (mask[:,:] <  thresh_indices[class_+1])\n",
    "        real_mask[:,:,-1] = (mask[:,:] >= thresh_indices[-1])\n",
    "        real_mask = real_mask.astype(np.uint8)\n",
    "\n",
    "        return real_mask"
   ]
  },
  {
   "cell_type": "code",
   "execution_count": null,
   "metadata": {},
   "outputs": [],
   "source": []
  },
  {
   "cell_type": "markdown",
   "metadata": {},
   "source": [
    "## Hyperparameters"
   ]
  },
  {
   "cell_type": "code",
   "execution_count": 262,
   "metadata": {},
   "outputs": [
    {
     "name": "stdout",
     "output_type": "stream",
     "text": [
      "['0', '1', '2', '3', '4', '5', '6', '7', '8', '9', '10', '11', '12', '13', '14', '15', '16', '17', '18', '19', '20', '21', '22', '23', '24', '25', '26', '27', '28', '29', '30', '31', '32', '33', '34', '35']\n"
     ]
    }
   ],
   "source": [
    "image_size = 512\n",
    "train_path = \"TEM_striatum/data/Train/\"\n",
    "epochs = 100\n",
    "batch_size = 8\n",
    "\n",
    "\n",
    "## Training Ids\n",
    "no_train_images =  int(len(os.listdir(train_path))/2)\n",
    "train_ids = [str(i) for i in range(no_train_images) ]\n",
    "\n",
    "print(train_ids)\n",
    "\n"
   ]
  },
  {
   "cell_type": "code",
   "execution_count": 263,
   "metadata": {},
   "outputs": [
    {
     "name": "stdout",
     "output_type": "stream",
     "text": [
      "['0', '1', '2', '3', '4', '5', '6', '7', '8', '9', '10', '11', '12', '13', '14', '15']\n"
     ]
    }
   ],
   "source": [
    "## Validation Data Size\n",
    "valid_path = \"TEM_striatum/data/Validation/\"\n",
    "\n",
    "\n",
    "## Training Ids\n",
    "no_valid_images =  int(len(os.listdir(valid_path))/2)\n",
    "valid_ids = [str(i) for i in range(no_valid_images) ]\n",
    "\n",
    "print(valid_ids)"
   ]
  },
  {
   "cell_type": "code",
   "execution_count": 264,
   "metadata": {},
   "outputs": [
    {
     "name": "stdout",
     "output_type": "stream",
     "text": [
      "(8, 512, 512, 3) (8, 512, 512, 3)\n"
     ]
    }
   ],
   "source": [
    "gen = DataGen(train_ids, train_path, batch_size=batch_size, image_size=image_size, thresh_indices = training_config['thresholds'])\n",
    "x, y= gen.__getitem__(0)\n",
    "\n",
    "print(x.shape, y.shape)"
   ]
  },
  {
   "cell_type": "code",
   "execution_count": 265,
   "metadata": {},
   "outputs": [
    {
     "name": "stdout",
     "output_type": "stream",
     "text": [
      "(8, 512, 512, 3) (8, 512, 512, 3)\n"
     ]
    }
   ],
   "source": [
    "gen = DataGen(valid_ids, valid_path, batch_size=batch_size, image_size=image_size,  thresh_indices = training_config['thresholds'])\n",
    "x, y= gen.__getitem__(0)\n",
    "\n",
    "print(x.shape, y.shape)"
   ]
  },
  {
   "cell_type": "code",
   "execution_count": 266,
   "metadata": {
    "scrolled": false
   },
   "outputs": [
    {
     "data": {
      "text/plain": [
       "<matplotlib.image.AxesImage at 0x7f75eeb4c550>"
      ]
     },
     "execution_count": 266,
     "metadata": {},
     "output_type": "execute_result"
    },
    {
     "data": {
      "image/png": "[encoded data removed]",
      "text/plain": [
       "<Figure size 432x288 with 2 Axes>"
      ]
     },
     "metadata": {
      "needs_background": "light"
     },
     "output_type": "display_data"
    }
   ],
   "source": [
    "r = random.randint(0, len(x)-1)\n",
    "\n",
    "fig = plt.figure()\n",
    "fig.subplots_adjust(hspace=0.4, wspace=0.4)\n",
    "ax = fig.add_subplot(1, 2, 1)\n",
    "ax.imshow(x[r])\n",
    "ax = fig.add_subplot(1, 2, 2)\n",
    "ax.imshow(y[r])"
   ]
  },
  {
   "cell_type": "code",
   "execution_count": 267,
   "metadata": {},
   "outputs": [
    {
     "data": {
      "text/plain": [
       "'# Normalizing only frame images, since masks contain label info\\ndata_gen_args = dict(rescale=1./255)\\nmask_gen_args = dict()\\n\\ntrain_frames_datagen = ImageDataGenerator(**data_gen_args)\\ntrain_masks_datagen = ImageDataGenerator(**mask_gen_args)\\nval_frames_datagen = ImageDataGenerator(**data_gen_args)\\nval_masks_datagen = ImageDataGenerator(**mask_gen_args)\\n\\n# Seed defined for aligning images and their masks\\nseed = 1\\n\\n\\n'"
      ]
     },
     "execution_count": 267,
     "metadata": {},
     "output_type": "execute_result"
    }
   ],
   "source": [
    "\"\"\"# Normalizing only frame images, since masks contain label info\n",
    "data_gen_args = dict(rescale=1./255)\n",
    "mask_gen_args = dict()\n",
    "\n",
    "train_frames_datagen = ImageDataGenerator(**data_gen_args)\n",
    "train_masks_datagen = ImageDataGenerator(**mask_gen_args)\n",
    "val_frames_datagen = ImageDataGenerator(**data_gen_args)\n",
    "val_masks_datagen = ImageDataGenerator(**mask_gen_args)\n",
    "\n",
    "# Seed defined for aligning images and their masks\n",
    "seed = 1\n",
    "\n",
    "\n",
    "\"\"\""
   ]
  },
  {
   "cell_type": "markdown",
   "metadata": {},
   "source": [
    "## Data Augmentation"
   ]
  },
  {
   "cell_type": "markdown",
   "metadata": {},
   "source": [
    "## TODO"
   ]
  },
  {
   "cell_type": "code",
   "execution_count": null,
   "metadata": {},
   "outputs": [],
   "source": [
    "\"\"\"# data_gen_args = dict(featurewise_center=True,\n",
    "featurewise_std_normalization=True,\n",
    "rotation_range=90.,\n",
    "width_shift_range=0.1,\n",
    "height_shift_range=0.1,\n",
    "zoom_range=0.2)\n",
    "image_datagen = ImageDataGenerator(**data_gen_args)\n",
    "mask_datagen = ImageDataGenerator(**data_gen_args)\n",
    "\n",
    "\"\"\""
   ]
  },
  {
   "cell_type": "code",
   "execution_count": 269,
   "metadata": {},
   "outputs": [
    {
     "name": "stdout",
     "output_type": "stream",
     "text": [
      " AxonDeepSeg\t    docs\t\t\t  requirements.txt\r\n",
      " CHANGELOG.md\t    envs\t\t\t  resources\r\n",
      " CONTRIBUTING.rst   etc\t\t\t\t  runtime.txt\r\n",
      " LICENSE\t    include\t\t\t  sbin\r\n",
      " LICENSE.txt\t   'index.html?action=download'   set_config.py\r\n",
      " README.md\t    labelled_datasets.zip\t  setup.py\r\n",
      " TEM_striatum\t    lib\t\t\t\t  share\r\n",
      " TEM_striatum.zip   libexec\t\t\t  shell\r\n",
      " UNetW.h5\t    man\t\t\t\t  ssl\r\n",
      " Untitled.ipynb     mkspecs\t\t\t  test\r\n",
      " __MACOSX\t    models\t\t\t  train_network_pytorch.ipynb\r\n",
      " bin\t\t    notebooks\t\t\t  translations\r\n",
      " compiler_compat    phrasebooks\t\t\t  unet-segmentation.ipynb\r\n",
      " conda-meta\t    pkgs\t\t\t  var\r\n",
      " condabin\t    plugins\t\t\t  x86_64-conda_cos6-linux-gnu\r\n",
      " data\t\t    postBuild\r\n",
      " doc\t\t    qml\r\n"
     ]
    }
   ],
   "source": [
    "#!ls"
   ]
  },
  {
   "cell_type": "code",
   "execution_count": 270,
   "metadata": {},
   "outputs": [
    {
     "name": "stdout",
     "output_type": "stream",
     "text": [
      "Found 0 images belonging to 0 classes.\n",
      "Found 0 images belonging to 0 classes.\n"
     ]
    }
   ],
   "source": [
    "\"\"\"seed = 1\n",
    "\n",
    "image_generator = image_datagen.flow_from_directory(\n",
    "'TEM_striatum/data/Train',\n",
    "class_mode=None,\n",
    "seed=seed)\n",
    "\n",
    "mask_generator = mask_datagen.flow_from_directory(\n",
    "'TEM_striatum/data/Train',\n",
    "class_mode=None,\n",
    "seed=seed)\"\"\""
   ]
  },
  {
   "cell_type": "markdown",
   "metadata": {},
   "source": [
    "## Different Convolutional Blocks"
   ]
  },
  {
   "cell_type": "code",
   "execution_count": 272,
   "metadata": {},
   "outputs": [],
   "source": [
    "def conv_relu(x, filters , kernel_size , strides , activation = 'relu', kernel_initializer = 'glorot_normal', activate_bn = True, bn_decay = 0.999, keep_prob=1.0):\n",
    "    if activate_bn == True:\n",
    "\n",
    "            net = Conv2D(filters = filters, kernel_size = kernel_size, strides = strides, padding = 'same', activation = activation, kernel_initializer = kernel_initializer)(x)\n",
    "            net = BatchNormalization(axis = 3, momentum = 1 - bn_decay)(net)\n",
    "            \n",
    "    else: \n",
    "            net = Conv2D(filters = filters, kernel_size = kernel_size, strides = strides, activation = activation, kernel_initializer = kernel_initializer, padding = 'same')(net)\n",
    "            \n",
    "    net =  Dropout(rate = 1 - keep_prob)(net)\n",
    "            \n",
    "    return net \n",
    "\n",
    "   \n",
    "def downconv(x, filters , kernel_size = 5, strides = 2, activation = 'relu', kernel_initializer = 'glorot_normal', activate_bn = True, bn_decay = 0.999):\n",
    "    if activate_bn == True:\n",
    "\n",
    "            net = Conv2D(filters = filters, kernel_size = kernel_size, strides = strides, padding = 'same',activation = activation, kernel_initializer = kernel_initializer)(x)\n",
    "            net = BatchNormalization(axis = 3, momentum = 1 - bn_decay)(net)\n",
    "\n",
    "    else:\n",
    "\n",
    "            net = Conv2D(filters = filters, kernel_size = kernel_size, strides = strides, activation = activation, kernel_initializer = kernel_initializer, padding = 'same')(net)\n",
    "            \n",
    "    return net\n",
    "\n",
    "\"\"\"def upconv(x, n_out_chan, scope, \n",
    "              w_initializer=tf.contrib.layers.xavier_initializer_conv2d(),\n",
    "              training_phase=True, activate_bn = True, bn_decay = 0.999):\n",
    "   \n",
    "    \n",
    "    with tf.variable_scope(scope):\n",
    "        if activate_bn == True:\n",
    "            net = tf.contrib.layers.conv2d(x, num_outputs=n_out_chan, kernel_size=3, stride=1, \n",
    "                                       activation_fn=tf.nn.relu, normalizer_fn=tf.contrib.layers.batch_norm,\n",
    "                                       normalizer_params={'scale':True, 'is_training':training_phase,\n",
    "                                                          'decay':bn_decay, 'scope':'bn'},\n",
    "                                       weights_initializer = w_initializer, scope='convolution'\n",
    "                                      )\n",
    "        else:\n",
    "            net = tf.contrib.layers.conv2d(x, num_outputs=n_out_chan, kernel_size=3, stride=1, \n",
    "                                       activation_fn=tf.nn.relu, weights_initializer = w_initializer, scope='convolution'\n",
    "                                      )\n",
    "        \n",
    "        tf.add_to_collection('activations',net)\n",
    "        return net\n",
    "\n",
    "\n",
    "\"\"\"\n"
   ]
  },
  {
   "cell_type": "markdown",
   "metadata": {},
   "source": [
    "## UNet Model"
   ]
  },
  {
   "cell_type": "code",
   "execution_count": 273,
   "metadata": {},
   "outputs": [],
   "source": [
    "\n",
    "\n",
    "# ------------------------ NETWORK STRUCTURE\n",
    "\n",
    "\n",
    "def uconv_net(training_config,bn_updated_decay = None, verbose = True):\n",
    "    \"\"\"\n",
    "    Create the U-net.\n",
    "    Input :\n",
    "        x : TF object to define, ensemble des patchs des images :graph input\n",
    "        config : dict : described in the header.\n",
    "        image_size : int : The image size\n",
    "\n",
    "    Output :\n",
    "        The U-net.\n",
    "    \"\"\"\n",
    "    \n",
    "    # Load the variables\n",
    "    image_size = training_config[\"trainingset_patchsize\"]\n",
    "    n_classes = training_config[\"n_classes\"]\n",
    "    depth = training_config[\"depth\"]\n",
    "    dropout = training_config[\"dropout\"]\n",
    "    number_of_convolutions_per_layer = training_config[\"convolution_per_layer\"]\n",
    "    size_of_convolutions_per_layer = training_config[\"size_of_convolutions_per_layer\"]\n",
    "    features_per_convolution = training_config[\"features_per_convolution\"]\n",
    "    downsampling = training_config[\"downsampling\"]\n",
    "    activate_bn = training_config[\"batch_norm_activate\"]\n",
    "    if bn_updated_decay is None:\n",
    "        bn_decay = training_config[\"batch_norm_decay_starting_decay\"]\n",
    "    else:\n",
    "        bn_decay = bn_updated_decay\n",
    "\n",
    "    # Input picture shape is [batch_size, height, width, number_channels_in] (number_channels_in = 1 for the input layer)\n",
    "    \n",
    "    data_temp_size = [image_size]\n",
    "    relu_results = []\n",
    "\n",
    "    ####################################################################\n",
    "    ######################### CONTRACTION PHASE ########################\n",
    "    ####################################################################\n",
    "    \n",
    "\n",
    "\n",
    "   # print(data_temp)\n",
    "\n",
    "    #X = Input((image_size*image_size, 3))\n",
    "    X = Input((image_size, image_size, 3))\n",
    " \n",
    "    net = X\n",
    "    data_temp = X\n",
    "   # print(net.shape)\n",
    "    #print(depth, number_of_convolutions_per_layer)\n",
    "    for i in range(depth):\n",
    "\n",
    "        for conv_number in range(number_of_convolutions_per_layer[i]):\n",
    "            \n",
    "            if verbose:\n",
    "                #print(('Layer: ', i, ' Conv: ', conv_number, 'Features: ', features_per_convolution[i][conv_number]))\n",
    "                #print(('Size:', size_of_convolutions_per_layer[i][conv_number]))\n",
    "                \n",
    "                net = conv_relu(net, filters = features_per_convolution[i][conv_number][1], kernel_size = size_of_convolutions_per_layer[i][conv_number], strides = 1 , activation = 'relu', kernel_initializer = 'glorot_normal', activate_bn = True, bn_decay = 0.999, keep_prob=1.0)\n",
    "               \n",
    "        relu_results.append(net) # We keep them for the upconvolutions\n",
    "       \n",
    "\n",
    "\n",
    "        if downsampling == 'convolution':\n",
    "              \n",
    "            net = downconv(net, filters = features_per_convolution[i][conv_number][1], kernel_size = 5, strides = 2, activation = 'relu', kernel_initializer = 'glorot_normal', activate_bn = True, bn_decay = 0.999)\n",
    "      \n",
    "        else: \n",
    "\n",
    "            net = MaxPooling2D((2, 2), padding = 'valid', strides = 2,  name ='downmp-d'+str(i))(net)\n",
    "\n",
    "        data_temp_size.append(data_temp_size[-1] // 2)\n",
    "        data_temp = net\n",
    "             \n",
    "\n",
    "\n",
    "    ####################################################################\n",
    "    ########################## EXPANSION PHASE #########################\n",
    "    ####################################################################\n",
    "    \n",
    "    for i in range(depth):        \n",
    "        # Upsampling\n",
    "        print(\"Upsampling\")\n",
    "        net = UpSampling2D(( 2,  2))(net)\n",
    "     \n",
    "\n",
    "        # Convolution\n",
    "        net = conv_relu(net, filters = features_per_convolution[depth - i - 1][-1][1], kernel_size = 2, strides = 1 , activation = 'relu', kernel_initializer = 'glorot_normal', activate_bn = True, bn_decay = 0.999, keep_prob=1.0)\n",
    "        \n",
    "        data_temp_size.append(data_temp_size[-1] * 2)\n",
    "        \n",
    "       # x = Lambda(lambda x: tf.reshape(x, [-1, 1]))(x)\n",
    "        # concatenation (see U-net article)\n",
    "        net = Concatenate(axis = 3)([relu_results[depth-i-1],net])\n",
    "      \n",
    "\n",
    "\n",
    "\n",
    "        \"\"\"net = tf.concat(values=[tf.slice(relu_results[depth-i-1], [0, 0, 0, 0], [-1, data_temp_size[depth-i-1],\n",
    "                                                             data_temp_size[depth-i-1], -1]), net], axis=3)\"\"\"\n",
    "        \n",
    "        # Classic convolutions\n",
    "        for conv_number in range(number_of_convolutions_per_layer[depth - i - 1]):\n",
    "            \"\"\"if verbose:\n",
    "                print(('Layer: ', i, ' Conv: ', conv_number, 'Features: ', features_per_convolution[i][conv_number]))\n",
    "                print(('Size:', size_of_convolutions_per_layer[i][conv_number]))\"\"\"\n",
    "\n",
    "            net = conv_relu(net, filters = features_per_convolution[depth - i - 1][conv_number][1], kernel_size = size_of_convolutions_per_layer[depth - i - 1][conv_number], strides = 1 , activation = 'relu', kernel_initializer = 'glorot_normal', activate_bn = True, bn_decay = 0.999, keep_prob=1.0)\n",
    "            \n",
    "            \n",
    "        data_temp = net\n",
    "\n",
    "\n",
    "   \n",
    "    net = Conv2D(filters = n_classes, kernel_size = 1, strides = 1, name = 'finalconv', padding = 'same',   activation = \"softmax\")(net)\n",
    "\n",
    "  \n",
    "    # Adding summary of the activations for the last convolution\n",
    "    #tf.summary.histogram('activations_last', net)\n",
    "    \n",
    "    # We also display the weights of the first kernel (can help to detect some mistakes)\n",
    "    #first_layer_weights_reshaped = visualize_first_layer(weights['wc'][0][0], size_of_convolutions_per_layer[0][0], features_per_convolution[0][0][1])\n",
    "    #tf.summary.image(\"Visualize_kernel\", first_layer_weights_reshaped)\n",
    "    \n",
    "    # Finally we compute the activations of the last layer\n",
    "    \"\"\"model = tf.reshape(net,[tf.shape(net)[0], data_temp_size[-1] * data_temp_size[-1], n_classes])\n",
    "\n",
    "    \n",
    "    \n",
    "    \"\"\"\n",
    "    #net = Reshape((-1, 3))(net)\n",
    "   # net = Reshape((-1, 3))(net)\n",
    "\n",
    "\n",
    "\n",
    "    model = Model(inputs = X, outputs = net)\n",
    "\n",
    "    \n",
    "\n",
    "    return model\n",
    "\n",
    "        \n",
    "    \n",
    "  \n",
    "\n"
   ]
  },
  {
   "cell_type": "markdown",
   "metadata": {},
   "source": [
    "# METRICS"
   ]
  },
  {
   "cell_type": "code",
   "execution_count": 274,
   "metadata": {},
   "outputs": [],
   "source": [
    " #New metric pw_dices\n",
    "    #Though it is not generalized.\n",
    "def pw_dice_myelin(gt, prediction):\n",
    "    \"\"\"\n",
    "    Computes the pixel-wise dice from the prediction tensor outputted by the network.\n",
    "    :param prediction: Tensor, the prediction outputted by the network. Shape (N,H,W,C).\n",
    "    :param gt: Tensor, the gold standard we work with. Shape (N,H,W,C).\n",
    "    :return: Vector, dice per class for the current batch.\n",
    "    \"\"\"\n",
    "    \n",
    "    prediction = K.reshape(prediction,[-1, K.shape(prediction)[1]*K.shape(prediction)[2], K.shape(prediction)[-1]])\n",
    "    gt = K.reshape(gt,[-1, K.shape(gt)[1]*K.shape(gt)[2], K.shape(gt)[-1]])\n",
    "    \n",
    "    \n",
    "    pred_absolute = K.cast(K.equal(prediction, K.expand_dims(K.max(prediction, axis=-1),axis=-1)), \"float32\")\n",
    "    \n",
    "    \n",
    "    \n",
    "    sum_ = K.sum(prediction, axis=1) + K.sum(gt, axis=1)\n",
    "    \n",
    "    intersection = keras.backend.all(keras.backend.stack([K.cast(prediction, \"bool\"), K.cast(gt, \"bool\")], axis=0), axis=0)\n",
    "    \n",
    "    divResult = Lambda(lambda x: x[0]/x[1])([K.sum(K.cast(intersection, \"float32\"), axis=1), sum_])\n",
    "   \n",
    "    pw_dices =  Lambda(lambda x: x * 2.)(divResult)\n",
    "    \n",
    "    dice = K.mean(pw_dices, axis=0)\n",
    "    \n",
    "    _, pw_dice_myelin, pw_dice_axon = Lambda( lambda x: tf.split(dice, 3, axis=0))(dice)\n",
    "     \n",
    "    return pw_dice_myelin[0]\n",
    "def pw_dice_axon(gt, prediction):\n",
    "    \"\"\"\n",
    "    Computes the pixel-wise dice from the prediction tensor outputted by the network.\n",
    "    :param prediction: Tensor, the prediction outputted by the network. Shape (N,H,W,C).\n",
    "    :param gt: Tensor, the gold standard we work with. Shape (N,H,W,C).\n",
    "    :return: Vector, dice per class for the current batch.\n",
    "    \"\"\"\n",
    "    \n",
    "    prediction = K.reshape(prediction,[-1, K.shape(prediction)[1]*K.shape(prediction)[2], K.shape(prediction)[-1]])\n",
    "    gt = K.reshape(gt,[-1, K.shape(gt)[1]*K.shape(gt)[2], K.shape(gt)[-1]])\n",
    "    \n",
    "    \n",
    "    pred_absolute = K.cast(K.equal(prediction, K.expand_dims(K.max(prediction, axis=-1),axis=-1)), \"float32\")\n",
    "    \n",
    "    \n",
    "    \n",
    "    sum_ = K.sum(prediction, axis=1) + K.sum(gt, axis=1)\n",
    "    \n",
    "    intersection = keras.backend.all(keras.backend.stack([K.cast(prediction, \"bool\"), K.cast(gt, \"bool\")], axis=0), axis=0)\n",
    "    \n",
    "    divResult = Lambda(lambda x: x[0]/x[1])([K.sum(K.cast(intersection, \"float32\"), axis=1), sum_])\n",
    "   \n",
    "    pw_dices =  Lambda(lambda x: x * 2.)(divResult)\n",
    "    \n",
    "    dice = K.mean(pw_dices, axis=0)\n",
    "    \n",
    "    _, pw_dice_myelin, pw_dice_axon = Lambda( lambda x: tf.split(dice, 3, axis=0))(dice)\n",
    "     \n",
    "    return  pw_dice_axon[0]"
   ]
  },
  {
   "cell_type": "code",
   "execution_count": 275,
   "metadata": {},
   "outputs": [],
   "source": []
  },
  {
   "cell_type": "code",
   "execution_count": 286,
   "metadata": {},
   "outputs": [],
   "source": [
    "def make_loss(loss_name):\n",
    "    if loss_name == 'axon':\n",
    "        def loss(y, p):\n",
    "            return pw_dice_axon(gt = y, prediction = p)\n",
    "\n",
    "        return loss\n",
    "    elif loss_name == 'myelin':\n",
    "        def loss(y, p):\n",
    "            return pw_dice_myelin(gt = y, prediction = p)\n",
    "\n",
    "        return loss\n",
    "    else:\n",
    "        ValueError(\"Unknown loss.\")"
   ]
  },
  {
   "cell_type": "code",
   "execution_count": 276,
   "metadata": {},
   "outputs": [],
   "source": [
    "\n",
    "#### loss and metrics #####\n",
    "\n",
    "def dice_coef(y_true, y_pred, smooth=1):\n",
    "    \"\"\"Compute Dice Coefficient between prediction and Ground Truth\n",
    "    :param y_true: ground truth\n",
    "    :param y_pred: prediction\n",
    "    :param smooth: avoid division by 0\n",
    "    :return: dice coefficient\n",
    "    \"\"\"\n",
    "    y_true_f = K.flatten(y_true)\n",
    "    print(y_true_f.shape)\n",
    "    y_pred_f = K.flatten(y_pred)\n",
    "    print(y_pred_f.shape)\n",
    "    intersection = K.sum(y_true_f * y_pred_f)\n",
    "    print(intersection.shape)\n",
    "    r = (2. * intersection + smooth) / (K.sum(y_true_f) + K.sum(y_pred_f) + smooth)\n",
    "    \n",
    "        \n",
    "    \n",
    "    return (2. * intersection + smooth) / (K.sum(y_true_f) + K.sum(y_pred_f) + smooth)\n",
    "\n",
    "\n",
    "def dice_coef_loss(y_true, y_pred):\n",
    "    \"\"\"Dice loss to train a network\n",
    "    :param y_true: ground truth\n",
    "    :param y_pred: prediction\n",
    "    :return: dice loss function\n",
    "    \"\"\"\n",
    "    return 1 - dice_coef(y_true, y_pred)\n",
    "\n",
    "\n",
    "def weighted_binary_crossentropy(y_true, y_pred):\n",
    "    \"\"\"Compute the weighted binary cross-entropy\n",
    "    :param y_true: ground truth\n",
    "    :param y_pred: prediction\n",
    "    :return: weighted binary cross-entropy\n",
    "    \"\"\"\n",
    "    b_ce = K.binary_crossentropy(y_true, y_pred)  # Calculate the binary crossentropy\n",
    "    weight_vector = y_true * 0.30 + (1. - y_true) * 0.70  # Apply the weights\n",
    "    weighted_b_ce = weight_vector * b_ce        \n",
    "    return K.mean(weighted_b_ce) # Return the mean error"
   ]
  },
  {
   "cell_type": "code",
   "execution_count": 277,
   "metadata": {},
   "outputs": [],
   "source": [
    "def range_transform(sample):\n",
    "    \"\"\"\n",
    "    Range normalization for 255 range of values\n",
    "    :param sample: numpy array for normalize\n",
    "    :return: normalize numpy array\n",
    "    \"\"\"\n",
    "    if (np.max(sample) == 1):\n",
    "        sample = sample * 255\n",
    "\n",
    "    m = 255 / (np.max(sample) - np.min(sample))\n",
    "    n = 255 - m * np.max(sample)\n",
    "    return (m * sample + n) / 255\n",
    "\n",
    "\n",
    "def compute_dice_coef(y_true, y_pred):\n",
    "    \"\"\"\n",
    "    Computes the Dice-Coefficient of a prediction given its ground truth.\n",
    "    :param y_true: Ground truth.\n",
    "    :param y_pred: Prediction.\n",
    "    :return: Dice-Coefficient value.\n",
    "    \"\"\"\n",
    "    smooth = 1.  # smoothing value to deal zero denominators.\n",
    "    y_true_f = y_true.reshape([1, img_rows * img_cols])\n",
    "    y_pred_f = y_pred.reshape([1, img_rows * img_cols])\n",
    "    intersection = np.sum(y_true_f * y_pred_f)\n",
    "    return (2. * intersection + smooth) / (np.sum(y_true_f) + np.sum(y_pred_f) + smooth)\n",
    "\n",
    "def compute_uncertain(sample, model):\n",
    "    \"\"\"\n",
    "    Computes uncertainty map for a given sample and its prediction for a given model, based on the\n",
    "    number of step predictions defined in constants file.\n",
    "    :param sample: input sample.\n",
    "    :param model: unet model with Dropout layers.\n",
    "    :return: averaged-thresholded predictions after nb_steps_prediction samples\n",
    "    :return: overall uncertainty (not map)\n",
    "    :return: uncertainty_map.\n",
    "    \"\"\"\n",
    "    X = np.zeros([1, img_rows, img_cols])\n",
    "\n",
    "    for t in range(nb_step_predictions):\n",
    "        prediction = model.predict(sample, verbose=0).reshape([1, img_rows, img_cols])\n",
    "        X = np.concatenate((X, prediction))\n",
    "\n",
    "    X = np.delete(X, [0], 0)\n",
    "    # averaged-thresholded predictions after np_step_prediction predicted samples\n",
    "    X_prediction = cv2.threshold(np.mean(X, axis=0), threshold, 1, cv2.THRESH_BINARY)[1].astype('uint8')\n",
    "\n",
    "    if (apply_edt):\n",
    "        # apply distance transform normalization.\n",
    "        var = np.var(X, axis=0)\n",
    "        transform = range_transform(edt(1 - prediction))\n",
    "        return X_prediction, np.sum(np.multiply(var, transform)),  np.multiply(var, transform)\n",
    "\n",
    "    else:\n",
    "        return X_prediction, np.sum(np.sqrt(np.var(X, axis=0))), np.var(X, axis=0)\n",
    "\n",
    "\n",
    "def compute_uncertain_map(sample, prediction, model):\n",
    "    \"\"\"\n",
    "    Computes uncertainty map for a given sample and its prediction for a given model, based on the\n",
    "    number of step predictions defined in constants file.\n",
    "    :param sample: input sample.\n",
    "    :param prediction: input sample prediction.\n",
    "    :param model: unet model with Dropout layers.\n",
    "    :return: uncertainty map.\n",
    "    \"\"\"\n",
    "    X = np.zeros([1, img_rows, img_cols])\n",
    "\n",
    "    for t in range(nb_step_predictions):\n",
    "        prediction = model.predict(sample, verbose=0).reshape([1, img_rows, img_cols])\n",
    "        X = np.concatenate((X, prediction))\n",
    "\n",
    "    X = np.delete(X, [0], 0)\n",
    "\n",
    "    if (apply_edt):\n",
    "        # apply distance transform normalization.\n",
    "        var = np.var(X, axis=0)\n",
    "        transform = range_transform(edt(prediction))\n",
    "        return var * transform\n",
    "    else:\n",
    "        return np.var(X, axis=0) "
   ]
  },
  {
   "cell_type": "markdown",
   "metadata": {},
   "source": [
    "# Model Summary"
   ]
  },
  {
   "cell_type": "code",
   "execution_count": 278,
   "metadata": {},
   "outputs": [
    {
     "name": "stdout",
     "output_type": "stream",
     "text": [
      "Upsampling\n",
      "Upsampling\n",
      "Upsampling\n",
      "Upsampling\n"
     ]
    }
   ],
   "source": [
    " model = uconv_net(training_config,  bn_updated_decay = None, verbose = True)"
   ]
  },
  {
   "cell_type": "code",
   "execution_count": 280,
   "metadata": {},
   "outputs": [],
   "source": [
    "#sgd = keras.optimizers.Adam(lr=training_config['learning_rate'], decay=1e-6, momentum=0.9, nesterov=True)"
   ]
  },
  {
   "cell_type": "code",
   "execution_count": 291,
   "metadata": {
    "scrolled": true
   },
   "outputs": [
    {
     "name": "stdout",
     "output_type": "stream",
     "text": [
      "__________________________________________________________________________________________________\n",
      "Layer (type)                    Output Shape         Param #     Connected to                     \n",
      "==================================================================================================\n",
      "input_15 (InputLayer)           (None, 512, 512, 3)  0                                            \n",
      "__________________________________________________________________________________________________\n",
      "conv2d_337 (Conv2D)             (None, 512, 512, 16) 1216        input_15[0][0]                   \n",
      "__________________________________________________________________________________________________\n",
      "batch_normalization_337 (BatchN (None, 512, 512, 16) 64          conv2d_337[0][0]                 \n",
      "__________________________________________________________________________________________________\n",
      "dropout_281 (Dropout)           (None, 512, 512, 16) 0           batch_normalization_337[0][0]    \n",
      "__________________________________________________________________________________________________\n",
      "conv2d_338 (Conv2D)             (None, 512, 512, 16) 6416        dropout_281[0][0]                \n",
      "__________________________________________________________________________________________________\n",
      "batch_normalization_338 (BatchN (None, 512, 512, 16) 64          conv2d_338[0][0]                 \n",
      "__________________________________________________________________________________________________\n",
      "dropout_282 (Dropout)           (None, 512, 512, 16) 0           batch_normalization_338[0][0]    \n",
      "__________________________________________________________________________________________________\n",
      "conv2d_339 (Conv2D)             (None, 256, 256, 16) 6416        dropout_282[0][0]                \n",
      "__________________________________________________________________________________________________\n",
      "batch_normalization_339 (BatchN (None, 256, 256, 16) 64          conv2d_339[0][0]                 \n",
      "__________________________________________________________________________________________________\n",
      "conv2d_340 (Conv2D)             (None, 256, 256, 32) 4640        batch_normalization_339[0][0]    \n",
      "__________________________________________________________________________________________________\n",
      "batch_normalization_340 (BatchN (None, 256, 256, 32) 128         conv2d_340[0][0]                 \n",
      "__________________________________________________________________________________________________\n",
      "dropout_283 (Dropout)           (None, 256, 256, 32) 0           batch_normalization_340[0][0]    \n",
      "__________________________________________________________________________________________________\n",
      "conv2d_341 (Conv2D)             (None, 256, 256, 32) 9248        dropout_283[0][0]                \n",
      "__________________________________________________________________________________________________\n",
      "batch_normalization_341 (BatchN (None, 256, 256, 32) 128         conv2d_341[0][0]                 \n",
      "__________________________________________________________________________________________________\n",
      "dropout_284 (Dropout)           (None, 256, 256, 32) 0           batch_normalization_341[0][0]    \n",
      "__________________________________________________________________________________________________\n",
      "conv2d_342 (Conv2D)             (None, 128, 128, 32) 25632       dropout_284[0][0]                \n",
      "__________________________________________________________________________________________________\n",
      "batch_normalization_342 (BatchN (None, 128, 128, 32) 128         conv2d_342[0][0]                 \n",
      "__________________________________________________________________________________________________\n",
      "conv2d_343 (Conv2D)             (None, 128, 128, 64) 18496       batch_normalization_342[0][0]    \n",
      "__________________________________________________________________________________________________\n",
      "batch_normalization_343 (BatchN (None, 128, 128, 64) 256         conv2d_343[0][0]                 \n",
      "__________________________________________________________________________________________________\n",
      "dropout_285 (Dropout)           (None, 128, 128, 64) 0           batch_normalization_343[0][0]    \n",
      "__________________________________________________________________________________________________\n",
      "conv2d_344 (Conv2D)             (None, 128, 128, 64) 36928       dropout_285[0][0]                \n",
      "__________________________________________________________________________________________________\n",
      "batch_normalization_344 (BatchN (None, 128, 128, 64) 256         conv2d_344[0][0]                 \n",
      "__________________________________________________________________________________________________\n",
      "dropout_286 (Dropout)           (None, 128, 128, 64) 0           batch_normalization_344[0][0]    \n",
      "__________________________________________________________________________________________________\n",
      "conv2d_345 (Conv2D)             (None, 64, 64, 64)   102464      dropout_286[0][0]                \n",
      "__________________________________________________________________________________________________\n",
      "batch_normalization_345 (BatchN (None, 64, 64, 64)   256         conv2d_345[0][0]                 \n",
      "__________________________________________________________________________________________________\n",
      "conv2d_346 (Conv2D)             (None, 64, 64, 128)  73856       batch_normalization_345[0][0]    \n",
      "__________________________________________________________________________________________________\n",
      "batch_normalization_346 (BatchN (None, 64, 64, 128)  512         conv2d_346[0][0]                 \n",
      "__________________________________________________________________________________________________\n",
      "dropout_287 (Dropout)           (None, 64, 64, 128)  0           batch_normalization_346[0][0]    \n",
      "__________________________________________________________________________________________________\n",
      "conv2d_347 (Conv2D)             (None, 64, 64, 128)  147584      dropout_287[0][0]                \n",
      "__________________________________________________________________________________________________\n",
      "batch_normalization_347 (BatchN (None, 64, 64, 128)  512         conv2d_347[0][0]                 \n",
      "__________________________________________________________________________________________________\n",
      "dropout_288 (Dropout)           (None, 64, 64, 128)  0           batch_normalization_347[0][0]    \n",
      "__________________________________________________________________________________________________\n",
      "conv2d_348 (Conv2D)             (None, 32, 32, 128)  409728      dropout_288[0][0]                \n",
      "__________________________________________________________________________________________________\n",
      "batch_normalization_348 (BatchN (None, 32, 32, 128)  512         conv2d_348[0][0]                 \n",
      "__________________________________________________________________________________________________\n",
      "up_sampling2d_57 (UpSampling2D) (None, 64, 64, 128)  0           batch_normalization_348[0][0]    \n",
      "__________________________________________________________________________________________________\n",
      "conv2d_349 (Conv2D)             (None, 64, 64, 128)  65664       up_sampling2d_57[0][0]           \n",
      "__________________________________________________________________________________________________\n",
      "batch_normalization_349 (BatchN (None, 64, 64, 128)  512         conv2d_349[0][0]                 \n",
      "__________________________________________________________________________________________________\n",
      "dropout_289 (Dropout)           (None, 64, 64, 128)  0           batch_normalization_349[0][0]    \n",
      "__________________________________________________________________________________________________\n",
      "concatenate_57 (Concatenate)    (None, 64, 64, 256)  0           dropout_288[0][0]                \n",
      "                                                                 dropout_289[0][0]                \n",
      "__________________________________________________________________________________________________\n",
      "conv2d_350 (Conv2D)             (None, 64, 64, 128)  295040      concatenate_57[0][0]             \n",
      "__________________________________________________________________________________________________\n",
      "batch_normalization_350 (BatchN (None, 64, 64, 128)  512         conv2d_350[0][0]                 \n",
      "__________________________________________________________________________________________________\n",
      "dropout_290 (Dropout)           (None, 64, 64, 128)  0           batch_normalization_350[0][0]    \n",
      "__________________________________________________________________________________________________\n",
      "conv2d_351 (Conv2D)             (None, 64, 64, 128)  147584      dropout_290[0][0]                \n",
      "__________________________________________________________________________________________________\n",
      "batch_normalization_351 (BatchN (None, 64, 64, 128)  512         conv2d_351[0][0]                 \n",
      "__________________________________________________________________________________________________\n",
      "dropout_291 (Dropout)           (None, 64, 64, 128)  0           batch_normalization_351[0][0]    \n",
      "__________________________________________________________________________________________________\n",
      "up_sampling2d_58 (UpSampling2D) (None, 128, 128, 128 0           dropout_291[0][0]                \n",
      "__________________________________________________________________________________________________\n",
      "conv2d_352 (Conv2D)             (None, 128, 128, 64) 32832       up_sampling2d_58[0][0]           \n",
      "__________________________________________________________________________________________________\n",
      "batch_normalization_352 (BatchN (None, 128, 128, 64) 256         conv2d_352[0][0]                 \n",
      "__________________________________________________________________________________________________\n",
      "dropout_292 (Dropout)           (None, 128, 128, 64) 0           batch_normalization_352[0][0]    \n",
      "__________________________________________________________________________________________________\n",
      "concatenate_58 (Concatenate)    (None, 128, 128, 128 0           dropout_286[0][0]                \n",
      "                                                                 dropout_292[0][0]                \n",
      "__________________________________________________________________________________________________\n",
      "conv2d_353 (Conv2D)             (None, 128, 128, 64) 73792       concatenate_58[0][0]             \n",
      "__________________________________________________________________________________________________\n",
      "batch_normalization_353 (BatchN (None, 128, 128, 64) 256         conv2d_353[0][0]                 \n",
      "__________________________________________________________________________________________________\n",
      "dropout_293 (Dropout)           (None, 128, 128, 64) 0           batch_normalization_353[0][0]    \n",
      "__________________________________________________________________________________________________\n",
      "conv2d_354 (Conv2D)             (None, 128, 128, 64) 36928       dropout_293[0][0]                \n",
      "__________________________________________________________________________________________________\n",
      "batch_normalization_354 (BatchN (None, 128, 128, 64) 256         conv2d_354[0][0]                 \n",
      "__________________________________________________________________________________________________\n",
      "dropout_294 (Dropout)           (None, 128, 128, 64) 0           batch_normalization_354[0][0]    \n",
      "__________________________________________________________________________________________________\n",
      "up_sampling2d_59 (UpSampling2D) (None, 256, 256, 64) 0           dropout_294[0][0]                \n",
      "__________________________________________________________________________________________________\n",
      "conv2d_355 (Conv2D)             (None, 256, 256, 32) 8224        up_sampling2d_59[0][0]           \n",
      "__________________________________________________________________________________________________\n",
      "batch_normalization_355 (BatchN (None, 256, 256, 32) 128         conv2d_355[0][0]                 \n",
      "__________________________________________________________________________________________________\n",
      "dropout_295 (Dropout)           (None, 256, 256, 32) 0           batch_normalization_355[0][0]    \n",
      "__________________________________________________________________________________________________\n",
      "concatenate_59 (Concatenate)    (None, 256, 256, 64) 0           dropout_284[0][0]                \n",
      "                                                                 dropout_295[0][0]                \n",
      "__________________________________________________________________________________________________\n",
      "conv2d_356 (Conv2D)             (None, 256, 256, 32) 18464       concatenate_59[0][0]             \n",
      "__________________________________________________________________________________________________\n",
      "batch_normalization_356 (BatchN (None, 256, 256, 32) 128         conv2d_356[0][0]                 \n",
      "__________________________________________________________________________________________________\n",
      "dropout_296 (Dropout)           (None, 256, 256, 32) 0           batch_normalization_356[0][0]    \n",
      "__________________________________________________________________________________________________\n",
      "conv2d_357 (Conv2D)             (None, 256, 256, 32) 9248        dropout_296[0][0]                \n",
      "__________________________________________________________________________________________________\n",
      "batch_normalization_357 (BatchN (None, 256, 256, 32) 128         conv2d_357[0][0]                 \n",
      "__________________________________________________________________________________________________\n",
      "dropout_297 (Dropout)           (None, 256, 256, 32) 0           batch_normalization_357[0][0]    \n",
      "__________________________________________________________________________________________________\n",
      "up_sampling2d_60 (UpSampling2D) (None, 512, 512, 32) 0           dropout_297[0][0]                \n",
      "__________________________________________________________________________________________________\n",
      "conv2d_358 (Conv2D)             (None, 512, 512, 16) 2064        up_sampling2d_60[0][0]           \n",
      "__________________________________________________________________________________________________\n",
      "batch_normalization_358 (BatchN (None, 512, 512, 16) 64          conv2d_358[0][0]                 \n",
      "__________________________________________________________________________________________________\n",
      "dropout_298 (Dropout)           (None, 512, 512, 16) 0           batch_normalization_358[0][0]    \n",
      "__________________________________________________________________________________________________\n",
      "concatenate_60 (Concatenate)    (None, 512, 512, 32) 0           dropout_282[0][0]                \n",
      "                                                                 dropout_298[0][0]                \n",
      "__________________________________________________________________________________________________\n",
      "conv2d_359 (Conv2D)             (None, 512, 512, 16) 12816       concatenate_60[0][0]             \n",
      "__________________________________________________________________________________________________\n",
      "batch_normalization_359 (BatchN (None, 512, 512, 16) 64          conv2d_359[0][0]                 \n",
      "__________________________________________________________________________________________________\n",
      "dropout_299 (Dropout)           (None, 512, 512, 16) 0           batch_normalization_359[0][0]    \n",
      "__________________________________________________________________________________________________\n",
      "conv2d_360 (Conv2D)             (None, 512, 512, 16) 6416        dropout_299[0][0]                \n",
      "__________________________________________________________________________________________________\n",
      "batch_normalization_360 (BatchN (None, 512, 512, 16) 64          conv2d_360[0][0]                 \n",
      "__________________________________________________________________________________________________\n",
      "dropout_300 (Dropout)           (None, 512, 512, 16) 0           batch_normalization_360[0][0]    \n",
      "__________________________________________________________________________________________________\n",
      "finalconv (Conv2D)              (None, 512, 512, 3)  51          dropout_300[0][0]                \n",
      "==================================================================================================\n",
      "Total params: 1,557,507\n",
      "Trainable params: 1,554,627\n",
      "Non-trainable params: 2,880\n",
      "__________________________________________________________________________________________________\n"
     ]
    }
   ],
   "source": [
    "model.compile(optimizer='adam', loss=\"categorical_crossentropy\", metrics=[\"acc\", pw_dice_axon, pw_dice_myelin])\n",
    "model.summary()"
   ]
  },
  {
   "cell_type": "markdown",
   "metadata": {},
   "source": [
    "## Training the model"
   ]
  },
  {
   "cell_type": "code",
   "execution_count": 292,
   "metadata": {
    "scrolled": false
   },
   "outputs": [],
   "source": [
    "train_gen = DataGen(train_ids, train_path, image_size=image_size, batch_size=batch_size)\n",
    "valid_gen = DataGen(valid_ids, train_path, image_size=image_size, batch_size=batch_size)\n",
    "\n"
   ]
  },
  {
   "cell_type": "code",
   "execution_count": 293,
   "metadata": {},
   "outputs": [],
   "source": [
    "train_steps = len(train_ids)//batch_size\n",
    "valid_steps = len(valid_ids)//batch_size\n",
    "\n"
   ]
  },
  {
   "cell_type": "code",
   "execution_count": 294,
   "metadata": {},
   "outputs": [
    {
     "name": "stdout",
     "output_type": "stream",
     "text": [
      "Epoch 1/100\n",
      "4/4 [==============================] - 24s 6s/step - loss: 0.0207 - acc: 0.9959 - pw_dice_axon: 0.9971 - pw_dice_myelin: 0.9517 - val_loss: 0.0498 - val_acc: 0.9918 - val_pw_dice_axon: 0.8596 - val_pw_dice_myelin: 0.8513\n",
      "Epoch 2/100\n",
      "4/4 [==============================] - 1s 331ms/step - loss: 0.0150 - acc: 0.9961 - pw_dice_axon: 0.9355 - pw_dice_myelin: 0.9602 - val_loss: 0.0185 - val_acc: 0.9949 - val_pw_dice_axon: 0.9386 - val_pw_dice_myelin: 1.0215\n",
      "Epoch 3/100\n",
      "4/4 [==============================] - 1s 330ms/step - loss: 0.0177 - acc: 0.9945 - pw_dice_axon: 0.9607 - pw_dice_myelin: 0.9852 - val_loss: 0.0134 - val_acc: 0.9959 - val_pw_dice_axon: 0.9314 - val_pw_dice_myelin: 0.9263\n",
      "Epoch 4/100\n",
      "4/4 [==============================] - 1s 338ms/step - loss: 0.0135 - acc: 0.9951 - pw_dice_axon: 0.9583 - pw_dice_myelin: 1.0011 - val_loss: 0.0121 - val_acc: 0.9961 - val_pw_dice_axon: 1.0382 - val_pw_dice_myelin: 0.9882\n",
      "Epoch 5/100\n",
      "4/4 [==============================] - 1s 329ms/step - loss: 0.0110 - acc: 0.9965 - pw_dice_axon: 0.9503 - pw_dice_myelin: 0.9149 - val_loss: 0.0105 - val_acc: 0.9967 - val_pw_dice_axon: 0.9882 - val_pw_dice_myelin: 0.9407\n",
      "Epoch 6/100\n",
      "4/4 [==============================] - 1s 329ms/step - loss: 0.0098 - acc: 0.9971 - pw_dice_axon: 0.9347 - pw_dice_myelin: 0.9848 - val_loss: 0.0110 - val_acc: 0.9969 - val_pw_dice_axon: 0.9080 - val_pw_dice_myelin: 0.9888\n",
      "Epoch 7/100\n",
      "4/4 [==============================] - 1s 343ms/step - loss: 0.0100 - acc: 0.9970 - pw_dice_axon: 0.9433 - pw_dice_myelin: 0.9781 - val_loss: 0.0106 - val_acc: 0.9974 - val_pw_dice_axon: 0.9491 - val_pw_dice_myelin: 0.9517\n",
      "Epoch 8/100\n",
      "4/4 [==============================] - 1s 331ms/step - loss: 0.0103 - acc: 0.9971 - pw_dice_axon: 0.9775 - pw_dice_myelin: 0.9382 - val_loss: 0.0211 - val_acc: 0.9959 - val_pw_dice_axon: 0.8850 - val_pw_dice_myelin: 0.9067\n",
      "Epoch 9/100\n",
      "4/4 [==============================] - 1s 329ms/step - loss: 0.0105 - acc: 0.9965 - pw_dice_axon: 0.9845 - pw_dice_myelin: 0.9655 - val_loss: 0.0092 - val_acc: 0.9969 - val_pw_dice_axon: 1.0242 - val_pw_dice_myelin: 0.9890\n",
      "Epoch 10/100\n",
      "4/4 [==============================] - 1s 341ms/step - loss: 0.0080 - acc: 0.9976 - pw_dice_axon: 0.9516 - pw_dice_myelin: 0.9825 - val_loss: 0.0075 - val_acc: 0.9976 - val_pw_dice_axon: 0.9947 - val_pw_dice_myelin: 1.0022\n",
      "Epoch 11/100\n",
      "4/4 [==============================] - 1s 331ms/step - loss: 0.0073 - acc: 0.9977 - pw_dice_axon: 0.9672 - pw_dice_myelin: 0.9711 - val_loss: 0.0070 - val_acc: 0.9979 - val_pw_dice_axon: 0.9881 - val_pw_dice_myelin: 0.9918\n",
      "Epoch 12/100\n",
      "4/4 [==============================] - 1s 331ms/step - loss: 0.0073 - acc: 0.9980 - pw_dice_axon: 0.9616 - pw_dice_myelin: 0.9684 - val_loss: 0.0078 - val_acc: 0.9980 - val_pw_dice_axon: 0.9421 - val_pw_dice_myelin: 0.9515\n",
      "Epoch 13/100\n",
      "4/4 [==============================] - 1s 335ms/step - loss: 0.0066 - acc: 0.9981 - pw_dice_axon: 0.9842 - pw_dice_myelin: 0.9697 - val_loss: 0.0065 - val_acc: 0.9982 - val_pw_dice_axon: 0.9920 - val_pw_dice_myelin: 0.9916\n",
      "Epoch 14/100\n",
      "4/4 [==============================] - 1s 337ms/step - loss: 0.0067 - acc: 0.9981 - pw_dice_axon: 0.9662 - pw_dice_myelin: 0.9768 - val_loss: 0.0065 - val_acc: 0.9981 - val_pw_dice_axon: 1.0100 - val_pw_dice_myelin: 0.9684\n",
      "Epoch 15/100\n",
      "4/4 [==============================] - 1s 342ms/step - loss: 0.0058 - acc: 0.9984 - pw_dice_axon: 0.9792 - pw_dice_myelin: 0.9707 - val_loss: 0.0084 - val_acc: 0.9974 - val_pw_dice_axon: 1.0262 - val_pw_dice_myelin: 1.0121\n",
      "Epoch 16/100\n",
      "4/4 [==============================] - 1s 327ms/step - loss: 0.0064 - acc: 0.9983 - pw_dice_axon: 0.9744 - pw_dice_myelin: 0.9887 - val_loss: 0.0081 - val_acc: 0.9976 - val_pw_dice_axon: 1.0310 - val_pw_dice_myelin: 1.0139\n",
      "Epoch 17/100\n",
      "4/4 [==============================] - 1s 325ms/step - loss: 0.0053 - acc: 0.9987 - pw_dice_axon: 0.9789 - pw_dice_myelin: 0.9745 - val_loss: 0.0059 - val_acc: 0.9983 - val_pw_dice_axon: 1.0029 - val_pw_dice_myelin: 0.9824\n",
      "Epoch 18/100\n",
      "4/4 [==============================] - 1s 329ms/step - loss: 0.0053 - acc: 0.9985 - pw_dice_axon: 0.9793 - pw_dice_myelin: 0.9792 - val_loss: 0.0061 - val_acc: 0.9984 - val_pw_dice_axon: 0.9959 - val_pw_dice_myelin: 1.0032\n",
      "Epoch 19/100\n",
      "4/4 [==============================] - 1s 329ms/step - loss: 0.0050 - acc: 0.9987 - pw_dice_axon: 0.9779 - pw_dice_myelin: 0.9879 - val_loss: 0.0078 - val_acc: 0.9977 - val_pw_dice_axon: 1.0343 - val_pw_dice_myelin: 1.0016\n",
      "Epoch 20/100\n",
      "4/4 [==============================] - 1s 330ms/step - loss: 0.0053 - acc: 0.9986 - pw_dice_axon: 0.9748 - pw_dice_myelin: 0.9647 - val_loss: 0.0067 - val_acc: 0.9981 - val_pw_dice_axon: 1.0123 - val_pw_dice_myelin: 1.0045\n",
      "Epoch 21/100\n",
      "4/4 [==============================] - 1s 338ms/step - loss: 0.0057 - acc: 0.9985 - pw_dice_axon: 0.9887 - pw_dice_myelin: 0.9922 - val_loss: 0.0058 - val_acc: 0.9985 - val_pw_dice_axon: 0.9982 - val_pw_dice_myelin: 0.9893\n",
      "Epoch 22/100\n",
      "4/4 [==============================] - 1s 331ms/step - loss: 0.0041 - acc: 0.9987 - pw_dice_axon: 0.9786 - pw_dice_myelin: 0.9737 - val_loss: 0.0062 - val_acc: 0.9984 - val_pw_dice_axon: 0.9807 - val_pw_dice_myelin: 0.9771\n",
      "Epoch 23/100\n",
      "4/4 [==============================] - 1s 331ms/step - loss: 0.0056 - acc: 0.9985 - pw_dice_axon: 0.9801 - pw_dice_myelin: 0.9867 - val_loss: 0.0100 - val_acc: 0.9974 - val_pw_dice_axon: 0.9393 - val_pw_dice_myelin: 0.9564\n",
      "Epoch 24/100\n",
      "4/4 [==============================] - 1s 334ms/step - loss: 0.0071 - acc: 0.9981 - pw_dice_axon: 0.9849 - pw_dice_myelin: 0.9802 - val_loss: 0.0069 - val_acc: 0.9981 - val_pw_dice_axon: 1.0175 - val_pw_dice_myelin: 0.9799\n",
      "Epoch 25/100\n",
      "4/4 [==============================] - 1s 330ms/step - loss: 0.0054 - acc: 0.9983 - pw_dice_axon: 0.9806 - pw_dice_myelin: 0.9793 - val_loss: 0.0058 - val_acc: 0.9984 - val_pw_dice_axon: 0.9980 - val_pw_dice_myelin: 0.9846\n",
      "Epoch 26/100\n",
      "4/4 [==============================] - 1s 332ms/step - loss: 0.0058 - acc: 0.9985 - pw_dice_axon: 0.9906 - pw_dice_myelin: 0.9898 - val_loss: 0.0094 - val_acc: 0.9972 - val_pw_dice_axon: 1.0463 - val_pw_dice_myelin: 1.0257\n",
      "Epoch 27/100\n",
      "4/4 [==============================] - 1s 331ms/step - loss: 0.0039 - acc: 0.9988 - pw_dice_axon: 0.9832 - pw_dice_myelin: 0.9844 - val_loss: 0.0070 - val_acc: 0.9981 - val_pw_dice_axon: 0.9603 - val_pw_dice_myelin: 0.9653\n",
      "Epoch 28/100\n",
      "4/4 [==============================] - 1s 332ms/step - loss: 0.0059 - acc: 0.9985 - pw_dice_axon: 0.9870 - pw_dice_myelin: 0.9834 - val_loss: 0.0053 - val_acc: 0.9986 - val_pw_dice_axon: 0.9786 - val_pw_dice_myelin: 0.9928\n",
      "Epoch 29/100\n",
      "4/4 [==============================] - 1s 334ms/step - loss: 0.0051 - acc: 0.9985 - pw_dice_axon: 0.9828 - pw_dice_myelin: 0.9883 - val_loss: 0.0088 - val_acc: 0.9973 - val_pw_dice_axon: 1.0453 - val_pw_dice_myelin: 1.0131\n",
      "Epoch 30/100\n",
      "4/4 [==============================] - 1s 335ms/step - loss: 0.0050 - acc: 0.9986 - pw_dice_axon: 0.9906 - pw_dice_myelin: 0.9779 - val_loss: 0.0063 - val_acc: 0.9982 - val_pw_dice_axon: 0.9590 - val_pw_dice_myelin: 0.9997\n",
      "Epoch 31/100\n",
      "4/4 [==============================] - 1s 344ms/step - loss: 0.0056 - acc: 0.9983 - pw_dice_axon: 0.9792 - pw_dice_myelin: 0.9891 - val_loss: 0.0073 - val_acc: 0.9978 - val_pw_dice_axon: 1.0072 - val_pw_dice_myelin: 0.9898\n",
      "Epoch 32/100\n",
      "4/4 [==============================] - 1s 343ms/step - loss: 0.0064 - acc: 0.9980 - pw_dice_axon: 0.9907 - pw_dice_myelin: 0.9850 - val_loss: 0.0074 - val_acc: 0.9978 - val_pw_dice_axon: 1.0365 - val_pw_dice_myelin: 0.9914\n",
      "Epoch 33/100\n",
      "4/4 [==============================] - 1s 331ms/step - loss: 0.0069 - acc: 0.9978 - pw_dice_axon: 0.9943 - pw_dice_myelin: 0.9859 - val_loss: 0.0057 - val_acc: 0.9984 - val_pw_dice_axon: 1.0056 - val_pw_dice_myelin: 1.0040\n",
      "Epoch 34/100\n",
      "4/4 [==============================] - 1s 335ms/step - loss: 0.0057 - acc: 0.9985 - pw_dice_axon: 0.9805 - pw_dice_myelin: 0.9786 - val_loss: 0.0059 - val_acc: 0.9983 - val_pw_dice_axon: 1.0058 - val_pw_dice_myelin: 1.0003\n",
      "Epoch 35/100\n",
      "4/4 [==============================] - 1s 331ms/step - loss: 0.0054 - acc: 0.9984 - pw_dice_axon: 0.9888 - pw_dice_myelin: 0.9924 - val_loss: 0.0085 - val_acc: 0.9974 - val_pw_dice_axon: 1.0437 - val_pw_dice_myelin: 1.0248\n"
     ]
    },
    {
     "name": "stdout",
     "output_type": "stream",
     "text": [
      "Epoch 36/100\n",
      "4/4 [==============================] - 1s 331ms/step - loss: 0.0058 - acc: 0.9984 - pw_dice_axon: 0.9938 - pw_dice_myelin: 0.9885 - val_loss: 0.0057 - val_acc: 0.9984 - val_pw_dice_axon: 0.9986 - val_pw_dice_myelin: 0.9584\n",
      "Epoch 37/100\n",
      "4/4 [==============================] - 1s 332ms/step - loss: 0.0040 - acc: 0.9989 - pw_dice_axon: 0.9815 - pw_dice_myelin: 0.9826 - val_loss: 0.0062 - val_acc: 0.9984 - val_pw_dice_axon: 0.9790 - val_pw_dice_myelin: 0.9760\n",
      "Epoch 38/100\n",
      "4/4 [==============================] - 1s 329ms/step - loss: 0.0069 - acc: 0.9980 - pw_dice_axon: 0.9953 - pw_dice_myelin: 0.9830 - val_loss: 0.0075 - val_acc: 0.9976 - val_pw_dice_axon: 1.0497 - val_pw_dice_myelin: 0.9986\n",
      "Epoch 39/100\n",
      "4/4 [==============================] - 1s 328ms/step - loss: 0.0048 - acc: 0.9987 - pw_dice_axon: 0.9916 - pw_dice_myelin: 0.9977 - val_loss: 0.0052 - val_acc: 0.9986 - val_pw_dice_axon: 0.9963 - val_pw_dice_myelin: 0.9870\n",
      "Epoch 40/100\n",
      "4/4 [==============================] - 1s 325ms/step - loss: 0.0046 - acc: 0.9986 - pw_dice_axon: 0.9866 - pw_dice_myelin: 0.9834 - val_loss: 0.0050 - val_acc: 0.9987 - val_pw_dice_axon: 0.9927 - val_pw_dice_myelin: 0.9893\n",
      "Epoch 41/100\n",
      "4/4 [==============================] - 1s 334ms/step - loss: 0.0053 - acc: 0.9986 - pw_dice_axon: 0.9998 - pw_dice_myelin: 0.9901 - val_loss: 0.0069 - val_acc: 0.9980 - val_pw_dice_axon: 1.0264 - val_pw_dice_myelin: 1.0217\n",
      "Epoch 42/100\n",
      "4/4 [==============================] - 1s 331ms/step - loss: 0.0042 - acc: 0.9988 - pw_dice_axon: 0.9829 - pw_dice_myelin: 0.9894 - val_loss: 0.0092 - val_acc: 0.9973 - val_pw_dice_axon: 1.0624 - val_pw_dice_myelin: 1.0059\n",
      "Epoch 43/100\n",
      "4/4 [==============================] - 1s 328ms/step - loss: 0.0038 - acc: 0.9990 - pw_dice_axon: 0.9946 - pw_dice_myelin: 0.9883 - val_loss: 0.0073 - val_acc: 0.9978 - val_pw_dice_axon: 1.0377 - val_pw_dice_myelin: 1.0168\n",
      "Epoch 44/100\n",
      "4/4 [==============================] - 1s 332ms/step - loss: 0.0045 - acc: 0.9990 - pw_dice_axon: 0.9854 - pw_dice_myelin: 0.9892 - val_loss: 0.0048 - val_acc: 0.9987 - val_pw_dice_axon: 0.9852 - val_pw_dice_myelin: 0.9952\n",
      "Epoch 45/100\n",
      "4/4 [==============================] - 1s 331ms/step - loss: 0.0044 - acc: 0.9989 - pw_dice_axon: 0.9938 - pw_dice_myelin: 0.9863 - val_loss: 0.0061 - val_acc: 0.9985 - val_pw_dice_axon: 0.9819 - val_pw_dice_myelin: 0.9730\n",
      "Epoch 46/100\n",
      "4/4 [==============================] - 1s 334ms/step - loss: 0.0047 - acc: 0.9989 - pw_dice_axon: 0.9942 - pw_dice_myelin: 0.9932 - val_loss: 0.0049 - val_acc: 0.9987 - val_pw_dice_axon: 0.9917 - val_pw_dice_myelin: 1.0056\n",
      "Epoch 47/100\n",
      "4/4 [==============================] - 1s 333ms/step - loss: 0.0033 - acc: 0.9991 - pw_dice_axon: 0.9852 - pw_dice_myelin: 0.9898 - val_loss: 0.0091 - val_acc: 0.9973 - val_pw_dice_axon: 1.0569 - val_pw_dice_myelin: 1.0164\n",
      "Epoch 48/100\n",
      "4/4 [==============================] - 1s 332ms/step - loss: 0.0050 - acc: 0.9989 - pw_dice_axon: 0.9951 - pw_dice_myelin: 0.9871 - val_loss: 0.0053 - val_acc: 0.9987 - val_pw_dice_axon: 1.0118 - val_pw_dice_myelin: 0.9683\n",
      "Epoch 49/100\n",
      "4/4 [==============================] - 1s 341ms/step - loss: 0.0037 - acc: 0.9991 - pw_dice_axon: 0.9925 - pw_dice_myelin: 0.9901 - val_loss: 0.0051 - val_acc: 0.9986 - val_pw_dice_axon: 1.0089 - val_pw_dice_myelin: 1.0045\n",
      "Epoch 50/100\n",
      "4/4 [==============================] - 1s 343ms/step - loss: 0.0038 - acc: 0.9991 - pw_dice_axon: 0.9909 - pw_dice_myelin: 0.9900 - val_loss: 0.0050 - val_acc: 0.9987 - val_pw_dice_axon: 0.9766 - val_pw_dice_myelin: 1.0059\n",
      "Epoch 51/100\n",
      "4/4 [==============================] - 1s 343ms/step - loss: 0.0035 - acc: 0.9991 - pw_dice_axon: 0.9917 - pw_dice_myelin: 0.9910 - val_loss: 0.0087 - val_acc: 0.9975 - val_pw_dice_axon: 1.0552 - val_pw_dice_myelin: 1.0095\n",
      "Epoch 52/100\n",
      "4/4 [==============================] - 1s 341ms/step - loss: 0.0045 - acc: 0.9990 - pw_dice_axon: 0.9939 - pw_dice_myelin: 0.9883 - val_loss: 0.0078 - val_acc: 0.9978 - val_pw_dice_axon: 1.0371 - val_pw_dice_myelin: 1.0180\n",
      "Epoch 53/100\n",
      "4/4 [==============================] - 1s 330ms/step - loss: 0.0046 - acc: 0.9989 - pw_dice_axon: 0.9890 - pw_dice_myelin: 0.9939 - val_loss: 0.0057 - val_acc: 0.9985 - val_pw_dice_axon: 1.0216 - val_pw_dice_myelin: 0.9646\n",
      "Epoch 54/100\n",
      "4/4 [==============================] - 1s 332ms/step - loss: 0.0038 - acc: 0.9989 - pw_dice_axon: 0.9988 - pw_dice_myelin: 0.9851 - val_loss: 0.0082 - val_acc: 0.9979 - val_pw_dice_axon: 0.9592 - val_pw_dice_myelin: 1.0249\n",
      "Epoch 55/100\n",
      "4/4 [==============================] - 1s 329ms/step - loss: 0.0058 - acc: 0.9983 - pw_dice_axon: 0.9894 - pw_dice_myelin: 0.9950 - val_loss: 0.0088 - val_acc: 0.9975 - val_pw_dice_axon: 1.0583 - val_pw_dice_myelin: 1.0018\n",
      "Epoch 56/100\n",
      "4/4 [==============================] - 1s 330ms/step - loss: 0.0042 - acc: 0.9988 - pw_dice_axon: 0.9905 - pw_dice_myelin: 0.9875 - val_loss: 0.0076 - val_acc: 0.9981 - val_pw_dice_axon: 0.9759 - val_pw_dice_myelin: 0.9793\n",
      "Epoch 57/100\n",
      "4/4 [==============================] - 1s 341ms/step - loss: 0.0053 - acc: 0.9984 - pw_dice_axon: 0.9980 - pw_dice_myelin: 0.9920 - val_loss: 0.0075 - val_acc: 0.9981 - val_pw_dice_axon: 0.9963 - val_pw_dice_myelin: 0.9489\n",
      "Epoch 58/100\n",
      "4/4 [==============================] - 1s 331ms/step - loss: 0.0054 - acc: 0.9984 - pw_dice_axon: 0.9969 - pw_dice_myelin: 0.9875 - val_loss: 0.0086 - val_acc: 0.9976 - val_pw_dice_axon: 1.0331 - val_pw_dice_myelin: 1.0356\n",
      "Epoch 59/100\n",
      "4/4 [==============================] - 1s 331ms/step - loss: 0.0059 - acc: 0.9983 - pw_dice_axon: 0.9973 - pw_dice_myelin: 0.9967 - val_loss: 0.0056 - val_acc: 0.9984 - val_pw_dice_axon: 1.0207 - val_pw_dice_myelin: 0.9832\n",
      "Epoch 60/100\n",
      "4/4 [==============================] - 1s 340ms/step - loss: 0.0057 - acc: 0.9982 - pw_dice_axon: 0.9919 - pw_dice_myelin: 0.9847 - val_loss: 0.0071 - val_acc: 0.9980 - val_pw_dice_axon: 0.9491 - val_pw_dice_myelin: 1.0201\n",
      "Epoch 61/100\n",
      "4/4 [==============================] - 1s 330ms/step - loss: 0.0065 - acc: 0.9979 - pw_dice_axon: 0.9879 - pw_dice_myelin: 1.0046 - val_loss: 0.0064 - val_acc: 0.9981 - val_pw_dice_axon: 1.0379 - val_pw_dice_myelin: 0.9420\n",
      "Epoch 62/100\n",
      "4/4 [==============================] - 1s 329ms/step - loss: 0.0057 - acc: 0.9983 - pw_dice_axon: 1.0098 - pw_dice_myelin: 0.9625 - val_loss: 0.0060 - val_acc: 0.9982 - val_pw_dice_axon: 1.0024 - val_pw_dice_myelin: 0.9853\n",
      "Epoch 63/100\n",
      "4/4 [==============================] - 1s 335ms/step - loss: 0.0081 - acc: 0.9974 - pw_dice_axon: 0.9872 - pw_dice_myelin: 1.0193 - val_loss: 0.0065 - val_acc: 0.9980 - val_pw_dice_axon: 0.9746 - val_pw_dice_myelin: 1.0181\n",
      "Epoch 64/100\n",
      "4/4 [==============================] - 1s 329ms/step - loss: 0.0074 - acc: 0.9976 - pw_dice_axon: 0.9974 - pw_dice_myelin: 0.9741 - val_loss: 0.0068 - val_acc: 0.9977 - val_pw_dice_axon: 1.0198 - val_pw_dice_myelin: 0.9832\n",
      "Epoch 65/100\n",
      "4/4 [==============================] - 1s 332ms/step - loss: 0.0058 - acc: 0.9981 - pw_dice_axon: 0.9912 - pw_dice_myelin: 1.0023 - val_loss: 0.0064 - val_acc: 0.9981 - val_pw_dice_axon: 0.9932 - val_pw_dice_myelin: 0.9719\n",
      "Epoch 66/100\n",
      "4/4 [==============================] - 1s 332ms/step - loss: 0.0064 - acc: 0.9981 - pw_dice_axon: 0.9903 - pw_dice_myelin: 0.9819 - val_loss: 0.0067 - val_acc: 0.9978 - val_pw_dice_axon: 1.0279 - val_pw_dice_myelin: 1.0109\n",
      "Epoch 67/100\n",
      "4/4 [==============================] - 1s 330ms/step - loss: 0.0059 - acc: 0.9982 - pw_dice_axon: 1.0022 - pw_dice_myelin: 1.0029 - val_loss: 0.0069 - val_acc: 0.9979 - val_pw_dice_axon: 1.0466 - val_pw_dice_myelin: 0.9995\n",
      "Epoch 68/100\n",
      "4/4 [==============================] - 1s 330ms/step - loss: 0.0040 - acc: 0.9986 - pw_dice_axon: 0.9871 - pw_dice_myelin: 0.9840 - val_loss: 0.0079 - val_acc: 0.9976 - val_pw_dice_axon: 1.0439 - val_pw_dice_myelin: 1.0250\n",
      "Epoch 69/100\n",
      "4/4 [==============================] - 1s 331ms/step - loss: 0.0058 - acc: 0.9984 - pw_dice_axon: 0.9953 - pw_dice_myelin: 0.9963 - val_loss: 0.0060 - val_acc: 0.9982 - val_pw_dice_axon: 1.0134 - val_pw_dice_myelin: 1.0065\n",
      "Epoch 70/100\n",
      "4/4 [==============================] - 1s 328ms/step - loss: 0.0047 - acc: 0.9986 - pw_dice_axon: 0.9952 - pw_dice_myelin: 0.9905 - val_loss: 0.0061 - val_acc: 0.9982 - val_pw_dice_axon: 0.9757 - val_pw_dice_myelin: 1.0083\n"
     ]
    },
    {
     "name": "stdout",
     "output_type": "stream",
     "text": [
      "Epoch 71/100\n",
      "4/4 [==============================] - 1s 331ms/step - loss: 0.0048 - acc: 0.9986 - pw_dice_axon: 0.9927 - pw_dice_myelin: 0.9870 - val_loss: 0.0053 - val_acc: 0.9984 - val_pw_dice_axon: 1.0215 - val_pw_dice_myelin: 0.9980\n",
      "Epoch 72/100\n",
      "4/4 [==============================] - 1s 348ms/step - loss: 0.0054 - acc: 0.9985 - pw_dice_axon: 0.9971 - pw_dice_myelin: 0.9927 - val_loss: 0.0049 - val_acc: 0.9986 - val_pw_dice_axon: 0.9830 - val_pw_dice_myelin: 1.0076\n",
      "Epoch 73/100\n",
      "4/4 [==============================] - 1s 350ms/step - loss: 0.0039 - acc: 0.9988 - pw_dice_axon: 0.9938 - pw_dice_myelin: 0.9967 - val_loss: 0.0078 - val_acc: 0.9977 - val_pw_dice_axon: 1.0444 - val_pw_dice_myelin: 1.0170\n",
      "Epoch 74/100\n",
      "4/4 [==============================] - 1s 345ms/step - loss: 0.0048 - acc: 0.9986 - pw_dice_axon: 0.9940 - pw_dice_myelin: 0.9968 - val_loss: 0.0075 - val_acc: 0.9977 - val_pw_dice_axon: 1.0486 - val_pw_dice_myelin: 1.0029\n",
      "Epoch 75/100\n",
      "4/4 [==============================] - 1s 335ms/step - loss: 0.0040 - acc: 0.9990 - pw_dice_axon: 0.9933 - pw_dice_myelin: 0.9881 - val_loss: 0.0049 - val_acc: 0.9986 - val_pw_dice_axon: 1.0086 - val_pw_dice_myelin: 0.9840\n",
      "Epoch 76/100\n",
      "4/4 [==============================] - 1s 331ms/step - loss: 0.0046 - acc: 0.9988 - pw_dice_axon: 0.9946 - pw_dice_myelin: 0.9944 - val_loss: 0.0074 - val_acc: 0.9978 - val_pw_dice_axon: 1.0448 - val_pw_dice_myelin: 1.0005\n",
      "Epoch 77/100\n",
      "4/4 [==============================] - 1s 341ms/step - loss: 0.0053 - acc: 0.9986 - pw_dice_axon: 0.9948 - pw_dice_myelin: 0.9918 - val_loss: 0.0076 - val_acc: 0.9978 - val_pw_dice_axon: 1.0474 - val_pw_dice_myelin: 1.0091\n",
      "Epoch 78/100\n",
      "4/4 [==============================] - 1s 331ms/step - loss: 0.0032 - acc: 0.9990 - pw_dice_axon: 0.9918 - pw_dice_myelin: 0.9909 - val_loss: 0.0050 - val_acc: 0.9987 - val_pw_dice_axon: 0.9922 - val_pw_dice_myelin: 0.9860\n",
      "Epoch 79/100\n",
      "4/4 [==============================] - 1s 330ms/step - loss: 0.0042 - acc: 0.9989 - pw_dice_axon: 0.9971 - pw_dice_myelin: 0.9958 - val_loss: 0.0066 - val_acc: 0.9983 - val_pw_dice_axon: 0.9745 - val_pw_dice_myelin: 0.9739\n",
      "Epoch 80/100\n",
      "4/4 [==============================] - 1s 333ms/step - loss: 0.0048 - acc: 0.9988 - pw_dice_axon: 0.9951 - pw_dice_myelin: 0.9907 - val_loss: 0.0049 - val_acc: 0.9987 - val_pw_dice_axon: 0.9921 - val_pw_dice_myelin: 1.0104\n",
      "Epoch 81/100\n",
      "4/4 [==============================] - 1s 332ms/step - loss: 0.0044 - acc: 0.9988 - pw_dice_axon: 0.9951 - pw_dice_myelin: 0.9979 - val_loss: 0.0074 - val_acc: 0.9979 - val_pw_dice_axon: 1.0396 - val_pw_dice_myelin: 1.0084\n",
      "Epoch 82/100\n",
      "4/4 [==============================] - 1s 332ms/step - loss: 0.0040 - acc: 0.9988 - pw_dice_axon: 0.9958 - pw_dice_myelin: 0.9910 - val_loss: 0.0069 - val_acc: 0.9982 - val_pw_dice_axon: 0.9741 - val_pw_dice_myelin: 0.9654\n",
      "Epoch 83/100\n",
      "4/4 [==============================] - 1s 330ms/step - loss: 0.0049 - acc: 0.9987 - pw_dice_axon: 0.9888 - pw_dice_myelin: 0.9918 - val_loss: 0.0094 - val_acc: 0.9972 - val_pw_dice_axon: 1.0647 - val_pw_dice_myelin: 1.0157\n",
      "Epoch 84/100\n",
      "4/4 [==============================] - 1s 331ms/step - loss: 0.0036 - acc: 0.9990 - pw_dice_axon: 1.0016 - pw_dice_myelin: 0.9940 - val_loss: 0.0107 - val_acc: 0.9974 - val_pw_dice_axon: 0.9576 - val_pw_dice_myelin: 0.9497\n",
      "Epoch 85/100\n",
      "4/4 [==============================] - 1s 331ms/step - loss: 0.0048 - acc: 0.9988 - pw_dice_axon: 0.9924 - pw_dice_myelin: 0.9926 - val_loss: 0.0060 - val_acc: 0.9983 - val_pw_dice_axon: 1.0304 - val_pw_dice_myelin: 0.9914\n",
      "Epoch 86/100\n",
      "4/4 [==============================] - 1s 332ms/step - loss: 0.0052 - acc: 0.9986 - pw_dice_axon: 1.0040 - pw_dice_myelin: 0.9950 - val_loss: 0.0067 - val_acc: 0.9981 - val_pw_dice_axon: 1.0227 - val_pw_dice_myelin: 1.0052\n",
      "Epoch 87/100\n",
      "4/4 [==============================] - 1s 334ms/step - loss: 0.0042 - acc: 0.9988 - pw_dice_axon: 0.9845 - pw_dice_myelin: 0.9952 - val_loss: 0.0072 - val_acc: 0.9980 - val_pw_dice_axon: 1.0404 - val_pw_dice_myelin: 0.9906\n",
      "Epoch 88/100\n",
      "4/4 [==============================] - 1s 332ms/step - loss: 0.0059 - acc: 0.9982 - pw_dice_axon: 1.0058 - pw_dice_myelin: 0.9893 - val_loss: 0.0073 - val_acc: 0.9979 - val_pw_dice_axon: 0.9563 - val_pw_dice_myelin: 0.9838\n",
      "Epoch 89/100\n",
      "4/4 [==============================] - 1s 344ms/step - loss: 0.0065 - acc: 0.9980 - pw_dice_axon: 0.9924 - pw_dice_myelin: 0.9983 - val_loss: 0.0049 - val_acc: 0.9986 - val_pw_dice_axon: 1.0087 - val_pw_dice_myelin: 1.0050\n",
      "Epoch 90/100\n",
      "4/4 [==============================] - 1s 343ms/step - loss: 0.0047 - acc: 0.9986 - pw_dice_axon: 0.9903 - pw_dice_myelin: 0.9851 - val_loss: 0.0054 - val_acc: 0.9985 - val_pw_dice_axon: 1.0054 - val_pw_dice_myelin: 0.9839\n",
      "Epoch 91/100\n",
      "4/4 [==============================] - 1s 333ms/step - loss: 0.0047 - acc: 0.9986 - pw_dice_axon: 1.0005 - pw_dice_myelin: 1.0084 - val_loss: 0.0050 - val_acc: 0.9986 - val_pw_dice_axon: 0.9980 - val_pw_dice_myelin: 1.0060\n",
      "Epoch 92/100\n",
      "4/4 [==============================] - 1s 331ms/step - loss: 0.0062 - acc: 0.9982 - pw_dice_axon: 0.9951 - pw_dice_myelin: 0.9722 - val_loss: 0.0047 - val_acc: 0.9987 - val_pw_dice_axon: 1.0138 - val_pw_dice_myelin: 0.9905\n",
      "Epoch 93/100\n",
      "4/4 [==============================] - 1s 341ms/step - loss: 0.0036 - acc: 0.9988 - pw_dice_axon: 0.9996 - pw_dice_myelin: 1.0202 - val_loss: 0.0052 - val_acc: 0.9985 - val_pw_dice_axon: 1.0086 - val_pw_dice_myelin: 1.0286\n",
      "Epoch 94/100\n",
      "4/4 [==============================] - 1s 341ms/step - loss: 0.0055 - acc: 0.9983 - pw_dice_axon: 0.9874 - pw_dice_myelin: 0.9706 - val_loss: 0.0070 - val_acc: 0.9980 - val_pw_dice_axon: 0.9853 - val_pw_dice_myelin: 0.9401\n",
      "Epoch 95/100\n",
      "4/4 [==============================] - 1s 330ms/step - loss: 0.0052 - acc: 0.9985 - pw_dice_axon: 1.0052 - pw_dice_myelin: 1.0029 - val_loss: 0.0055 - val_acc: 0.9984 - val_pw_dice_axon: 0.9811 - val_pw_dice_myelin: 1.0356\n",
      "Epoch 96/100\n",
      "4/4 [==============================] - 1s 330ms/step - loss: 0.0047 - acc: 0.9987 - pw_dice_axon: 0.9880 - pw_dice_myelin: 1.0004 - val_loss: 0.0063 - val_acc: 0.9983 - val_pw_dice_axon: 1.0034 - val_pw_dice_myelin: 0.9545\n",
      "Epoch 97/100\n",
      "4/4 [==============================] - 1s 329ms/step - loss: 0.0041 - acc: 0.9989 - pw_dice_axon: 1.0069 - pw_dice_myelin: 0.9807 - val_loss: 0.0048 - val_acc: 0.9987 - val_pw_dice_axon: 1.0020 - val_pw_dice_myelin: 1.0144\n",
      "Epoch 98/100\n",
      "4/4 [==============================] - 1s 327ms/step - loss: 0.0047 - acc: 0.9988 - pw_dice_axon: 0.9863 - pw_dice_myelin: 1.0055 - val_loss: 0.0046 - val_acc: 0.9987 - val_pw_dice_axon: 1.0181 - val_pw_dice_myelin: 0.9856\n",
      "Epoch 99/100\n",
      "4/4 [==============================] - 1s 334ms/step - loss: 0.0028 - acc: 0.9991 - pw_dice_axon: 1.0038 - pw_dice_myelin: 0.9915 - val_loss: 0.0070 - val_acc: 0.9982 - val_pw_dice_axon: 0.9749 - val_pw_dice_myelin: 0.9640\n",
      "Epoch 100/100\n",
      "4/4 [==============================] - 1s 332ms/step - loss: 0.0045 - acc: 0.9989 - pw_dice_axon: 0.9927 - pw_dice_myelin: 0.9910 - val_loss: 0.0046 - val_acc: 0.9987 - val_pw_dice_axon: 1.0081 - val_pw_dice_myelin: 1.0064\n"
     ]
    },
    {
     "data": {
      "text/plain": [
       "<keras.callbacks.History at 0x7f7ce8945cc0>"
      ]
     },
     "execution_count": 294,
     "metadata": {},
     "output_type": "execute_result"
    }
   ],
   "source": [
    "model.fit_generator(train_gen, validation_data=valid_gen, steps_per_epoch=train_steps, validation_steps=valid_steps, \n",
    "                    epochs=epochs)\n",
    " "
   ]
  },
  {
   "cell_type": "markdown",
   "metadata": {},
   "source": [
    "## Testing the model"
   ]
  },
  {
   "cell_type": "code",
   "execution_count": 285,
   "metadata": {},
   "outputs": [],
   "source": [
    "## Save the Weights\n",
    "model.save_weights(\"UNetW.h5\")\n",
    "\n",
    "## Dataset for prediction\n",
    "x, y = valid_gen.__getitem__(1)\n",
    "result = model.predict(x)\n",
    "\n"
   ]
  },
  {
   "cell_type": "code",
   "execution_count": 295,
   "metadata": {},
   "outputs": [
    {
     "data": {
      "text/plain": [
       "<matplotlib.image.AxesImage at 0x7f75e829aa58>"
      ]
     },
     "execution_count": 295,
     "metadata": {},
     "output_type": "execute_result"
    },
    {
     "data": {
      "image/png": "[encoded data removed]",
      "text/plain": [
       "<Figure size 432x288 with 1 Axes>"
      ]
     },
     "metadata": {
      "needs_background": "light"
     },
     "output_type": "display_data"
    }
   ],
   "source": [
    "#Plotting Ground Truth\n",
    "plt.imshow(y[7,:,:,2], cmap = \"gray\")"
   ]
  },
  {
   "cell_type": "code",
   "execution_count": 296,
   "metadata": {},
   "outputs": [
    {
     "data": {
      "text/plain": [
       "<matplotlib.image.AxesImage at 0x7f760def4be0>"
      ]
     },
     "execution_count": 296,
     "metadata": {},
     "output_type": "execute_result"
    },
    {
     "data": {
      "image/png": "[encoded data removed]",
      "text/plain": [
       "<Figure size 432x288 with 1 Axes>"
      ]
     },
     "metadata": {
      "needs_background": "light"
     },
     "output_type": "display_data"
    }
   ],
   "source": [
    "plt.imshow(result[7,:,:,2], cmap = \"gray\") # Predicted Image"
   ]
  },
  {
   "cell_type": "code",
   "execution_count": null,
   "metadata": {},
   "outputs": [],
   "source": []
  },
  {
   "cell_type": "code",
   "execution_count": null,
   "metadata": {},
   "outputs": [],
   "source": []
  },
  {
   "cell_type": "code",
   "execution_count": null,
   "metadata": {},
   "outputs": [],
   "source": []
  },
  {
   "cell_type": "code",
   "execution_count": null,
   "metadata": {},
   "outputs": [],
   "source": []
  }
 ],
 "metadata": {
  "kernelspec": {
   "display_name": "Python 3",
   "language": "python",
   "name": "python3"
  },
  "language_info": {
   "codemirror_mode": {
    "name": "ipython",
    "version": 3
   },
   "file_extension": ".py",
   "mimetype": "text/x-python",
   "name": "python",
   "nbconvert_exporter": "python",
   "pygments_lexer": "ipython3",
   "version": "3.6.7"
  }
 },
 "nbformat": 4,
 "nbformat_minor": 2
}
