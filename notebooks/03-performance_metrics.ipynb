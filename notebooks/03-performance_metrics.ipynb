{
 "cells": [
  {
   "cell_type": "markdown",
   "metadata": {},
   "source": [
    "# Jupyter Notebook to compute performance metrics from the segmentation predictions."
   ]
  },
  {
   "cell_type": "markdown",
   "metadata": {},
   "source": [
    "## Imports"
   ]
  },
  {
   "cell_type": "code",
   "execution_count": null,
   "metadata": {},
   "outputs": [],
   "source": [
    "import os\n",
    "import json\n",
    "from shutil import copy\n",
    "\n",
    "# Scientific modules import\n",
    "import numpy as np\n",
    "from skimage import io\n",
    "import matplotlib.pyplot as plt\n",
    "\n",
    "# AxonDeepSeg import modules\n",
    "from AxonDeepSeg.apply_model import axon_segmentation\n",
    "from AxonDeepSeg.testing.segmentation_scoring import Metrics_calculator\n",
    "import AxonDeepSeg.ads_utils as ads\n",
    "from config import axonmyelin_suffix\n",
    "\n",
    "%matplotlib inline"
   ]
  },
  {
   "cell_type": "markdown",
   "metadata": {},
   "source": [
    "## Use case: compute axon and myelin validation metrics on a sample image"
   ]
  },
  {
   "cell_type": "code",
   "execution_count": null,
   "metadata": {},
   "outputs": [],
   "source": [
    "path_img = '../AxonDeepSeg/models/default_SEM_model/data_test/image.png'"
   ]
  },
  {
   "cell_type": "code",
   "execution_count": null,
   "metadata": {},
   "outputs": [],
   "source": [
    "# Set paths\n",
    "img = ads.imread(path_img)\n",
    "path_folder, file_name = os.path.split(path_img)\n",
    "model_name = 'default_SEM_model'\n",
    "path_model = os.path.join('..','AxonDeepSeg','models',model_name)\n",
    "path_configfile = os.path.join(path_model,'config_network.json')\n",
    "with open(path_configfile, 'r') as fd:\n",
    "    config_network = json.loads(fd.read())\n",
    "\n",
    "# Groundtruth image\n",
    "mask = ads.imread(os.path.join(path_folder,'mask.png'))\n",
    "gt_axon = mask > 200\n",
    "gt_myelin = np.logical_and(mask >= 50, mask <= 200)\n",
    "\n",
    "# Prediction image (output of AxonDeepSeg)\n",
    "pred = ads.imread(os.path.join(path_folder,'image' + str(axonmyelin_suffix)))\n",
    "pred_axon = pred > 200\n",
    "pred_myelin = np.logical_and(pred >= 50, pred <= 200)"
   ]
  },
  {
   "cell_type": "code",
   "execution_count": null,
   "metadata": {},
   "outputs": [],
   "source": [
    "fig, axes = plt.subplots(1,2, figsize=(13,10))\n",
    "ax1, ax2 = axes[0], axes[1]\n",
    "ax1.set_title('Prediction')\n",
    "ax1.imshow(pred,cmap='gray')\n",
    "ax2.set_title('Groundtruth')\n",
    "ax2.imshow(mask,cmap='gray')\n",
    "plt.show();"
   ]
  },
  {
   "cell_type": "markdown",
   "metadata": {},
   "source": [
    "## Compute validation metrics for axon segmentation"
   ]
  },
  {
   "cell_type": "code",
   "execution_count": null,
   "metadata": {},
   "outputs": [],
   "source": [
    "# Create object to manage segmentation metrics for axon mask\n",
    "axon_metrics = Metrics_calculator(pred_axon, gt_axon)\n",
    "\n",
    "# Compute and display results (pixelwise metrics):\n",
    "print('Pixelwise Sensitivity:', axon_metrics.pw_sensitivity())\n",
    "print('Pixelwise Accuracy:',axon_metrics.pw_accuracy())\n",
    "print('Pixelwise Dice:',axon_metrics.pw_dice())\n",
    "print('Pixelwise F1 score:',axon_metrics.pw_F1_score())\n",
    "print('Pixelwise False negative rate:',axon_metrics.pw_FN_rate())\n",
    "print('Pixelwise False positive rate:',axon_metrics.pw_FP_rate())\n",
    "print('Pixelwise Jaccard index:',axon_metrics.pw_jaccard())\n",
    "print('Pixelwise Precision:',axon_metrics.pw_precision())\n",
    "print('Pixelwise Specificity:',axon_metrics.pw_specificity())\n",
    "\n",
    "axon_metrics_array = np.array([axon_metrics.pw_sensitivity(),axon_metrics.pw_specificity(),axon_metrics.pw_precision(),\n",
    "     axon_metrics.pw_accuracy(), axon_metrics.pw_F1_score(), axon_metrics.pw_dice(), axon_metrics.pw_jaccard()])\n",
    "\n",
    "# Compute and display results (elementwise metrics):\n",
    "dice_output = axon_metrics.ew_dice('all')\n",
    "\n",
    "print('Elementwise Dice:',axon_metrics.ew_dice('short'))"
   ]
  },
  {
   "cell_type": "markdown",
   "metadata": {},
   "source": [
    "## Compute validation metrics for myelin segmentation"
   ]
  },
  {
   "cell_type": "code",
   "execution_count": null,
   "metadata": {},
   "outputs": [],
   "source": [
    "# Create object to manage segmentation metrics for myelin mask\n",
    "myelin_metrics = Metrics_calculator(pred_myelin, gt_myelin)\n",
    "\n",
    "# Compute and display results (pixelwise metrics):\n",
    "print('Pixelwise Sensitivity:', myelin_metrics.pw_sensitivity())\n",
    "print('Pixelwise Accuracy:',myelin_metrics.pw_accuracy())\n",
    "print('Pixelwise Dice:',myelin_metrics.pw_dice())\n",
    "print('Pixelwise F1 score:',myelin_metrics.pw_F1_score())\n",
    "print('Pixelwise False negative rate:',myelin_metrics.pw_FN_rate())\n",
    "print('Pixelwise False positive rate:',myelin_metrics.pw_FP_rate())\n",
    "print('Pixelwise Jaccard index:',myelin_metrics.pw_jaccard())\n",
    "print('Pixelwise Precision:',myelin_metrics.pw_precision())\n",
    "print('Pixelwise Specificity:',myelin_metrics.pw_specificity())\n",
    "\n",
    "myelin_metrics_array = np.array([myelin_metrics.pw_sensitivity(),myelin_metrics.pw_specificity(),myelin_metrics.pw_precision(),\n",
    "                        myelin_metrics.pw_accuracy(), myelin_metrics.pw_F1_score(), myelin_metrics.pw_dice(), \n",
    "                        myelin_metrics.pw_jaccard()])"
   ]
  },
  {
   "cell_type": "markdown",
   "metadata": {},
   "source": [
    "## Visualization of pixelwise metrics for both axon and myelin"
   ]
  },
  {
   "cell_type": "code",
   "execution_count": null,
   "metadata": {},
   "outputs": [],
   "source": [
    "n_groups = 7\n",
    "fig, ax = plt.subplots()\n",
    "index = np.arange(n_groups)\n",
    "\n",
    "ax.bar(index-0.1, axon_metrics_array, width=0.2, color='green',label='axon')\n",
    "ax.bar(index+0.1, myelin_metrics_array, width=0.2, color='orange',label='myelin')\n",
    "\n",
    "ax.set_ylabel('Values')\n",
    "ax.set_title('Pixelwise segmentation metrics for axon and myelin')\n",
    "ax.set_xticks(index)\n",
    "ax.set_xticklabels(('Sens.', 'Spec.', 'Prec.', 'Accur.', 'F1 score','Dice','Jaccard'), minor=False, rotation=0)\n",
    "ax.legend(loc='best')\n",
    "ax.grid(True)\n",
    "ax.set_ylim(0.5, 1)\n",
    "\n",
    "plt.tight_layout()\n",
    "plt.show()"
   ]
  },
  {
   "cell_type": "markdown",
   "metadata": {},
   "source": [
    "## Visualization of elementwise Dice metric for axon objects"
   ]
  },
  {
   "cell_type": "code",
   "execution_count": null,
   "metadata": {},
   "outputs": [],
   "source": [
    "fig, ax = plt.subplots()\n",
    "ax.boxplot(dice_output, 0, '',vert=False)\n",
    "ax.set_title('Elementwise Dice of axon objects')\n",
    "ax.grid(True)\n",
    "\n",
    "# A way to remove the y labels\n",
    "ax.set_yticklabels([]);\n"
   ]
  },
  {
   "cell_type": "code",
   "execution_count": null,
   "metadata": {},
   "outputs": [],
   "source": []
  },
  {
   "cell_type": "code",
   "execution_count": null,
   "metadata": {},
   "outputs": [],
   "source": []
  }
 ],
 "metadata": {
  "anaconda-cloud": {},
  "kernelspec": {
   "display_name": "Python 3",
   "language": "python",
   "name": "python3"
  },
  "language_info": {
   "codemirror_mode": {
    "name": "ipython",
    "version": 3
   },
   "file_extension": ".py",
   "mimetype": "text/x-python",
   "name": "python",
   "nbconvert_exporter": "python",
   "pygments_lexer": "ipython3",
   "version": "3.7.10"
  }
 },
 "nbformat": 4,
 "nbformat_minor": 2
}
