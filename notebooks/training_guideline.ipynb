{
 "cells": [
  {
   "cell_type": "code",
   "execution_count": 1,
   "metadata": {},
   "outputs": [],
   "source": [
    "import json\n",
    "import os\n",
    "import time\n",
    "from AxonDeepSeg.train_network import train_model"
   ]
  },
  {
   "cell_type": "code",
   "execution_count": 2,
   "metadata": {},
   "outputs": [],
   "source": [
    "filename = '/config_network.json'\n",
    "trainingset_name = 'data_training'\n",
    "path_training = '/Users/rudinakaprata/Dropbox/data_training/training'"
   ]
  },
  {
   "cell_type": "code",
   "execution_count": 7,
   "metadata": {},
   "outputs": [],
   "source": [
    "config = {\n",
    "  \"learning_rate_decay_period\": 24000, \n",
    "  \"batch_norm_decay_decay_period\": 16000, \n",
    "  \"learning_rate_decay_type\": \"polynomial\", \n",
    "  \"batch_norm_decay_decay_activate\": True, \n",
    "  \"learning_rate_decay_activate\": True, \n",
    "  \"learning_rate_decay_rate\": 0.99, \n",
    "  \"batch_norm_decay_ending_decay\": 0.9, \n",
    "  \"depth\": 3, \n",
    "  \"weighted_cost_activate\": False, \n",
    "  \"weighted_cost_balanced_activate\": False,  \n",
    "  \"weighted_cost_boundaries_activate\": False,\n",
    "  \"batch_norm_activate\": True, \n",
    "  \"thresholds\": [0, 0.5], \n",
    "  \"trainingset_patchsize\": 512, \n",
    "  \"learning_rate\": 0.001, \n",
    "  \"downsampling\": \"maxpooling\", \n",
    "  \"batch_size\": 8, \n",
    "  \"da-type\": \"all\", \n",
    "  \"n_classes\": 2, \n",
    "  \"batch_norm_decay_starting_decay\": 0.7, \n",
    "  \"trainingset\": \"data_training\", \n",
    "  \"size_of_convolutions_per_layer\": [[3,3],[3,3],[3,3],[3,3]], \n",
    "  \"dropout\": 0.75, \n",
    "  \"convolution_per_layer\": [2, 2, 2], \n",
    "  \"features_per_convolution\": [[[10,15],[15,20]],[[20,25],[25,30]],[[30,35],[35,40]]]\n",
    "}"
   ]
  },
  {
   "cell_type": "code",
   "execution_count": 17,
   "metadata": {},
   "outputs": [],
   "source": [
    "# Create subfolder to save model and its params\n",
    "\n",
    "dir_name = time.strftime(\"%Y-%m-%d\") + '_' + time.strftime(\"%H-%M-%S\") \n",
    "path_model = os.path.join('../models/', dir_name)\n",
    "\n",
    "if not os.path.exists(path_model):\n",
    "    os.makedirs(path_model)"
   ]
  },
  {
   "cell_type": "code",
   "execution_count": 18,
   "metadata": {},
   "outputs": [],
   "source": [
    "# Save config params of the network as configuration file (.json)\n",
    "\n",
    "if os.path.exists(path_model+filename):\n",
    "    with open(path_model+filename, 'r') as fd:\n",
    "        config_network = json.loads(fd.read())\n",
    "else: # There is no config file for the moment\n",
    "    with open(path_model+filename, 'w') as f:\n",
    "        json.dump(config, f, indent=2)\n",
    "    with open(path_model+filename, 'r') as fd:\n",
    "        config_network = json.loads(fd.read())"
   ]
  },
  {
   "cell_type": "code",
   "execution_count": 19,
   "metadata": {},
   "outputs": [
    {
     "ename": "ValueError",
     "evalue": "need more than 1 value to unpack",
     "output_type": "error",
     "traceback": [
      "\u001b[0;31m---------------------------------------------------------------------------\u001b[0m",
      "\u001b[0;31mValueError\u001b[0m                                Traceback (most recent call last)",
      "\u001b[0;32m<ipython-input-19-a879bcd68cda>\u001b[0m in \u001b[0;36m<module>\u001b[0;34m()\u001b[0m\n\u001b[1;32m      1\u001b[0m \u001b[0;31m# Launch the training step\u001b[0m\u001b[0;34m\u001b[0m\u001b[0;34m\u001b[0m\u001b[0m\n\u001b[1;32m      2\u001b[0m \u001b[0;34m\u001b[0m\u001b[0m\n\u001b[0;32m----> 3\u001b[0;31m \u001b[0mtrain_model\u001b[0m\u001b[0;34m(\u001b[0m\u001b[0mpath_training\u001b[0m\u001b[0;34m,\u001b[0m \u001b[0mpath_model\u001b[0m\u001b[0;34m,\u001b[0m \u001b[0mconfig_network\u001b[0m\u001b[0;34m)\u001b[0m\u001b[0;34m\u001b[0m\u001b[0m\n\u001b[0m",
      "\u001b[0;32m/Users/rudinakaprata/Documents/Aldo/ads_feb/axondeepseg/AxonDeepSeg/train_network.pyc\u001b[0m in \u001b[0;36mtrain_model\u001b[0;34m(path_trainingset, path_model, config, path_model_init, save_trainable, gpu, debug_mode, gpu_per)\u001b[0m\n\u001b[1;32m     50\u001b[0m \u001b[0;34m\u001b[0m\u001b[0m\n\u001b[1;32m     51\u001b[0m     \u001b[0mdata_augmentation\u001b[0m \u001b[0;34m=\u001b[0m \u001b[0mgenerate_dict_da\u001b[0m\u001b[0;34m(\u001b[0m\u001b[0mconfig\u001b[0m\u001b[0;34m)\u001b[0m\u001b[0;34m\u001b[0m\u001b[0m\n\u001b[0;32m---> 52\u001b[0;31m     \u001b[0mweights_modifier\u001b[0m \u001b[0;34m=\u001b[0m \u001b[0mgenerate_dict_weights\u001b[0m\u001b[0;34m(\u001b[0m\u001b[0mconfig\u001b[0m\u001b[0;34m)\u001b[0m\u001b[0;34m\u001b[0m\u001b[0m\n\u001b[0m\u001b[1;32m     53\u001b[0m     \u001b[0mdata_aug_verbose\u001b[0m \u001b[0;34m=\u001b[0m \u001b[0;36m0\u001b[0m\u001b[0;34m\u001b[0m\u001b[0m\n\u001b[1;32m     54\u001b[0m \u001b[0;34m\u001b[0m\u001b[0m\n",
      "\u001b[0;32m/Users/rudinakaprata/Documents/Aldo/ads_feb/axondeepseg/AxonDeepSeg/train_network_tools.pyc\u001b[0m in \u001b[0;36mgenerate_dict_weights\u001b[0;34m(config)\u001b[0m\n\u001b[1;32m     59\u001b[0m             \u001b[0mupdate_recur_dict\u001b[0m\u001b[0;34m(\u001b[0m\u001b[0mweights_modifier\u001b[0m\u001b[0;34m,\u001b[0m \u001b[0;34m{\u001b[0m\u001b[0mkey\u001b[0m\u001b[0;34m:\u001b[0m \u001b[0mval\u001b[0m\u001b[0;34m}\u001b[0m\u001b[0;34m)\u001b[0m\u001b[0;34m\u001b[0m\u001b[0m\n\u001b[1;32m     60\u001b[0m         \u001b[0;32melif\u001b[0m \u001b[0mkey\u001b[0m\u001b[0;34m[\u001b[0m\u001b[0;34m:\u001b[0m\u001b[0;36m13\u001b[0m\u001b[0;34m]\u001b[0m \u001b[0;34m==\u001b[0m \u001b[0;34m'weighted_cost'\u001b[0m\u001b[0;34m:\u001b[0m\u001b[0;34m\u001b[0m\u001b[0m\n\u001b[0;32m---> 61\u001b[0;31m             \u001b[0mkey1\u001b[0m\u001b[0;34m,\u001b[0m \u001b[0mkey2\u001b[0m \u001b[0;34m=\u001b[0m \u001b[0mkey\u001b[0m\u001b[0;34m[\u001b[0m\u001b[0;36m13\u001b[0m\u001b[0;34m:\u001b[0m\u001b[0;34m]\u001b[0m\u001b[0;34m.\u001b[0m\u001b[0msplit\u001b[0m\u001b[0;34m(\u001b[0m\u001b[0;34m'-'\u001b[0m\u001b[0;34m)\u001b[0m\u001b[0;34m\u001b[0m\u001b[0m\n\u001b[0m\u001b[1;32m     62\u001b[0m             \u001b[0mupdate_recur_dict\u001b[0m\u001b[0;34m(\u001b[0m\u001b[0mweights_modifier\u001b[0m\u001b[0;34m,\u001b[0m \u001b[0;34m{\u001b[0m\u001b[0mkey2\u001b[0m\u001b[0;34m:\u001b[0m \u001b[0mval\u001b[0m\u001b[0;34m}\u001b[0m\u001b[0;34m)\u001b[0m\u001b[0;34m\u001b[0m\u001b[0m\n\u001b[1;32m     63\u001b[0m     \u001b[0;32mreturn\u001b[0m \u001b[0mweights_modifier\u001b[0m\u001b[0;34m\u001b[0m\u001b[0m\n",
      "\u001b[0;31mValueError\u001b[0m: need more than 1 value to unpack"
     ]
    }
   ],
   "source": [
    "# Launch the training step\n",
    "\n",
    "train_model(path_training, path_model, config_network)"
   ]
  },
  {
   "cell_type": "code",
   "execution_count": null,
   "metadata": {},
   "outputs": [],
   "source": []
  },
  {
   "cell_type": "code",
   "execution_count": null,
   "metadata": {},
   "outputs": [],
   "source": []
  },
  {
   "cell_type": "code",
   "execution_count": null,
   "metadata": {},
   "outputs": [],
   "source": []
  },
  {
   "cell_type": "code",
   "execution_count": null,
   "metadata": {},
   "outputs": [],
   "source": []
  },
  {
   "cell_type": "code",
   "execution_count": null,
   "metadata": {},
   "outputs": [],
   "source": []
  },
  {
   "cell_type": "code",
   "execution_count": null,
   "metadata": {},
   "outputs": [],
   "source": []
  },
  {
   "cell_type": "code",
   "execution_count": null,
   "metadata": {},
   "outputs": [],
   "source": []
  },
  {
   "cell_type": "code",
   "execution_count": null,
   "metadata": {},
   "outputs": [],
   "source": [
    "config = {\n",
    "  \"learning_rate_decay_period\": 24000, \n",
    "  \"batch_norm_decay_decay_period\": 16000, \n",
    "  \"learning_rate_decay_type\": \"polynomial\", \n",
    "  \"batch_norm_decay_decay_activate\": True, \n",
    "  \"learning_rate_decay_activate\": True, \n",
    "  \"learning_rate_decay_rate\": 0.99, \n",
    "  \"batch_norm_decay_ending_decay\": 0.9, \n",
    "  \"depth\": 3, \n",
    "  \"weighted_cost_activate\": False, \n",
    "  \"weighted_cost_balanced_activate\": False, \n",
    "  \"weighted_cost_balanced_weights\": [1, 1], \n",
    "  \"weighted_cost_boundaries_sigma\": 2, \n",
    "  \"weighted_cost_boundaries_activate\": False,\n",
    "  \"batch_norm_activate\": True, \n",
    "  \"thresholds\": [0, 0.5], \n",
    "  \"trainingset_patchsize\": 512, \n",
    "  \"learning_rate\": 0.001, \n",
    "  \"downsampling\": \"maxpooling\", \n",
    "  \"batch_size\": 8, \n",
    "  \"da-type\": \"all\", \n",
    "  \"da-random_rotation-activate\": False, \n",
    "  \"da-noise_addition-activate\": False, \n",
    "  \"da-elastic-activate\": True, \n",
    "  \"da-shifting-activate\": True, \n",
    "  \"da-flipping-activate\": True, \n",
    "  \"da-rescaling-activate\": False,\n",
    "  \"n_classes\": 2, \n",
    "  \"batch_norm_decay_starting_decay\": 0.7, \n",
    "  \"trainingset\": \"data_training\", \n",
    "  \"size_of_convolutions_per_layer\": [[3,3],[3,3],[3,3],[3,3]], \n",
    "  \"dropout\": 0.75, \n",
    "  \"convolution_per_layer\": [2, 2, 2], \n",
    "  \"features_per_convolution\": [[[10,15],[15,20]],[[20,25],[25,30]],[[30,35],[35,40]]]\n",
    "}"
   ]
  },
  {
   "cell_type": "code",
   "execution_count": null,
   "metadata": {},
   "outputs": [],
   "source": []
  },
  {
   "cell_type": "code",
   "execution_count": null,
   "metadata": {},
   "outputs": [],
   "source": []
  },
  {
   "cell_type": "code",
   "execution_count": 13,
   "metadata": {},
   "outputs": [],
   "source": [
    "config = {\n",
    "  \"learning_rate_decay_period\": 24000, \n",
    "  \"batch_norm_decay_decay_period\": 16000, \n",
    "  \"learning_rate_decay_type\": \"polynomial\", \n",
    "  \"batch_norm_decay_decay_activate\": True, \n",
    "  \"learning_rate_decay_activate\": True, \n",
    "  \"learning_rate_decay_rate\": 0.99, \n",
    "  \"batch_norm_decay_ending_decay\": 0.9, \n",
    "  \"depth\": 4, \n",
    "  \"weighted_cost_activate\": True, \n",
    "  \"weighted_cost_balanced_activate\": True, \n",
    "  \"weighted_cost_balanced_weights\": [1.1, 1, 1.3], \n",
    "  \"weighted_cost_boundaries_sigma\": 2, \n",
    "  \"weighted_cost_boundaries_activate\": False,\n",
    "  \"batch_norm_activate\": True, \n",
    "  \"thresholds\": [0, 0.2, 0.8], \n",
    "  \"trainingset_patchsize\": 512, \n",
    "  \"learning_rate\": 0.001, \n",
    "  \"downsampling\": \"convolution\", \n",
    "  \"batch_size\": 8, \n",
    "  \"da-type\": \"all\", \n",
    "  \"da-random_rotation-activate\": False, \n",
    "  \"da-noise_addition-activate\": False, \n",
    "  \"da-elastic-activate\": True, \n",
    "  \"da-shifting-activate\": True, \n",
    "  \"da-flipping-activate\": True, \n",
    "  \"da-rescaling-activate\": False,\n",
    "  \"n_classes\": 3, \n",
    "  \"batch_norm_decay_starting_decay\": 0.7, \n",
    "  \"trainingset\": \"SEM_3c_512\", \n",
    "  \"size_of_convolutions_per_layer\": [[5, 5, 5], [3, 3, 3], [3, 3, 3], [3, 3, 3]], \n",
    "  \"dropout\": 0.75, \n",
    "  \"convolution_per_layer\": [3, 3, 3, 3], \n",
    "  \"features_per_convolution\": [[[1, 16], [16, 16], [16, 16]], \n",
    "                               [[16, 32], [32, 32], [32, 32]], \n",
    "                               [[32, 64], [64, 64], [64, 64]], \n",
    "                               [[64, 128], [128, 128], [128, 128]]]\n",
    "}"
   ]
  },
  {
   "cell_type": "code",
   "execution_count": null,
   "metadata": {},
   "outputs": [],
   "source": []
  },
  {
   "cell_type": "code",
   "execution_count": null,
   "metadata": {},
   "outputs": [],
   "source": []
  },
  {
   "cell_type": "code",
   "execution_count": null,
   "metadata": {},
   "outputs": [],
   "source": []
  }
 ],
 "metadata": {
  "kernelspec": {
   "display_name": "Python 2",
   "language": "python",
   "name": "python2"
  },
  "language_info": {
   "codemirror_mode": {
    "name": "ipython",
    "version": 2
   },
   "file_extension": ".py",
   "mimetype": "text/x-python",
   "name": "python",
   "nbconvert_exporter": "python",
   "pygments_lexer": "ipython2",
   "version": "2.7.10"
  }
 },
 "nbformat": 4,
 "nbformat_minor": 2
}
