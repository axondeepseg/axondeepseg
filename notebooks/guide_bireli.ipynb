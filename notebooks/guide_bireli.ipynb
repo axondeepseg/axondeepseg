{
 "cells": [
  {
   "cell_type": "markdown",
   "metadata": {},
   "source": [
    "# IMPORTS"
   ]
  },
  {
   "cell_type": "code",
   "execution_count": null,
   "metadata": {
    "collapsed": true
   },
   "outputs": [],
   "source": [
    "import json\n",
    "import os\n",
    "import time\n",
    "from AxonDeepSeg.config_tools import *"
   ]
  },
  {
   "cell_type": "markdown",
   "metadata": {},
   "source": [
    "## Setting hyperparameters and creating the file _config_"
   ]
  },
  {
   "cell_type": "markdown",
   "metadata": {},
   "source": [
    "Name of the .json file where the network configuration will be stored. Don't change this value."
   ]
  },
  {
   "cell_type": "code",
   "execution_count": null,
   "metadata": {
    "collapsed": true
   },
   "outputs": [],
   "source": [
    "filename = '/config_network.json'"
   ]
  },
  {
   "cell_type": "markdown",
   "metadata": {},
   "source": [
    "## Setting the main parameters of the network"
   ]
  },
  {
   "cell_type": "markdown",
   "metadata": {},
   "source": [
    "Print default configuration"
   ]
  },
  {
   "cell_type": "code",
   "execution_count": null,
   "metadata": {},
   "outputs": [],
   "source": [
    "default_configuration()"
   ]
  },
  {
   "cell_type": "markdown",
   "metadata": {},
   "source": [
    "We then set the main parameters and the architecture of the network that we want to change, compared to the default configuration above."
   ]
  },
  {
   "cell_type": "markdown",
   "metadata": {
    "collapsed": true
   },
   "source": [
    "L_struct = [{'structure':[[5,5,5], [3,3,3], [3,3,3], [3,3,3]], 'features_augmentation':'x2', 'first_num_features':16}]\n",
    "\n",
    "dict_params = {'trainingset': ['SEM_3c_512'],\n",
    "               'trainingset_patchsize': 512,\n",
    "               'learning_rate_decay_period':24000\n",
    "              }\n",
    "\n",
    "config_list = grid_config(L_struct, dict_params)"
   ]
  },
  {
   "cell_type": "code",
   "execution_count": null,
   "metadata": {
    "collapsed": true,
    "scrolled": false
   },
   "outputs": [],
   "source": [
    "config_list = {'gridblockperone':default_configuration()}"
   ]
  },
  {
   "cell_type": "markdown",
   "metadata": {},
   "source": [
    "## Actually training the model"
   ]
  },
  {
   "cell_type": "markdown",
   "metadata": {},
   "source": [
    "By default, the name is the current date. You can uncomment the second line dir_name if you want to give a specific name to the folder, but beware: it will erase the contents of the folder if it already exists !\n",
    "\n",
    "The model data will be stored in a folder with this name, as well as the summaries that are going to be readable on tensorboard."
   ]
  },
  {
   "cell_type": "code",
   "execution_count": null,
   "metadata": {
    "scrolled": false
   },
   "outputs": [],
   "source": [
    "#dir_name = time.strftime(\"%Y-%m-%d\") + '_' + time.strftime(\"%H-%M-%S\") \n",
    "#dir_name = 'cv_2c_nw_d5_2_b8_p10-10'\n",
    "#dir_name += '_' + str(int(time.time()))[-4:]\n",
    "\n",
    "for dir_name, config in config_list.iteritems():\n",
    "    pass\n",
    "path_model = os.path.join('../models/', dir_name)\n",
    "\n",
    "if not os.path.exists(path_model):\n",
    "    os.makedirs(path_model)\n",
    "    \n",
    "path_model_init = None \n",
    "\n",
    "\n",
    "# Specify here the path to the initial model if needed.\n",
    "\n",
    "if os.path.exists(path_model+filename): # if there is already a configfile\n",
    "    with open(path_model+filename, 'r') as fd:\n",
    "        config_network = json.loads(fd.read())\n",
    "else: # There is no config file for the moment\n",
    "    with open(path_model+filename, 'w') as f:\n",
    "        json.dump(config, f, indent=2)\n",
    "    with open(path_model+filename, 'r') as fd:\n",
    "        config_network = json.loads(fd.read())\n",
    "        \n",
    "        \n",
    "# Ensure that the config file has all the necessary parameters\n",
    "\n",
    "config_network = update_config(default_configuration(), config_network)\n",
    "path_trainingset = os.path.join('../data/', config_network[\"trainingset\"], 'training/')\n",
    "\n",
    "print 'Chosen parameters :\\n'\n",
    "\n",
    "for param_name, param_value in config_network.iteritems():\n",
    "    print param_name, ' - ', param_value\n",
    "\n",
    "print '\\n-----------------------------------------------------------------\\n'\n",
    "print 'Training model ' + str(dir_name) + '...\\n'\n",
    "\n",
    "################################################### Training phase ###################################################\n",
    "\n",
    "# Note : possible values for gpu: None, '/gpu:0'. If used withing CUDA_VISIBLE_DEVICES=?, then it will use gpu number ? by default\n",
    "from AxonDeepSeg.train_network import train_model\n",
    "train_model(path_trainingset, path_model, config_network, path_model_init=path_model_init,gpu='/gpu:0')"
   ]
  },
  {
   "cell_type": "code",
   "execution_count": null,
   "metadata": {
    "collapsed": true
   },
   "outputs": [],
   "source": []
  }
 ],
 "metadata": {
  "kernelspec": {
   "display_name": "Python 2",
   "language": "python",
   "name": "python2"
  },
  "language_info": {
   "codemirror_mode": {
    "name": "ipython",
    "version": 2
   },
   "file_extension": ".py",
   "mimetype": "text/x-python",
   "name": "python",
   "nbconvert_exporter": "python",
   "pygments_lexer": "ipython2",
   "version": "2.7.5"
  }
 },
 "nbformat": 4,
 "nbformat_minor": 2
}
