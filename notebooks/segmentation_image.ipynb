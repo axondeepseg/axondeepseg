{
 "cells": [
  {
   "cell_type": "markdown",
   "metadata": {},
   "source": [
    "# IMPORTS"
   ]
  },
  {
   "cell_type": "code",
   "execution_count": null,
   "metadata": {
    "collapsed": true
   },
   "outputs": [],
   "source": [
    "%matplotlib inline\n",
    "#import mpld3\n",
    "#mpld3.enable_notebook()"
   ]
  },
  {
   "cell_type": "code",
   "execution_count": null,
   "metadata": {
    "collapsed": true
   },
   "outputs": [],
   "source": [
    "import json\n",
    "import os\n",
    "import matplotlib.pyplot as plt\n",
    "from AxonDeepSeg.testing.segmentation_scoring import *\n",
    "import pickle\n",
    "\n",
    "from time import time\n",
    "#from ipywidgets.widgets import *"
   ]
  },
  {
   "cell_type": "code",
   "execution_count": null,
   "metadata": {
    "collapsed": true
   },
   "outputs": [],
   "source": [
    "from scipy.misc import imread, imsave"
   ]
  },
  {
   "cell_type": "markdown",
   "metadata": {},
   "source": [
    "# 1/ Define the parameters to use for the segmentation"
   ]
  },
  {
   "cell_type": "code",
   "execution_count": null,
   "metadata": {
    "collapsed": true
   },
   "outputs": [],
   "source": [
    "# input data to build the training set\n",
    "dataset_name = 'SEM_3c_512'\n",
    "gps = 0.1"
   ]
  },
  {
   "cell_type": "code",
   "execution_count": null,
   "metadata": {
    "collapsed": true
   },
   "outputs": [],
   "source": [
    "path_data = '../data/' + dataset_name + '/raw/'\n",
    "path_testing = '../data/baseline_testing/SEM_data15/'\n",
    "#path_testing = '../data/images_nyu_tem/'\n",
    "\n",
    "# output path of training data path\n",
    "path_training = '../data/' + dataset_name + '/training/'"
   ]
  },
  {
   "cell_type": "markdown",
   "metadata": {},
   "source": [
    "im = imread(path_testing + 'image.png', mode='L', flatten=True)\n",
    "imsave(path_testing + 'image.png', 255-im)"
   ]
  },
  {
   "cell_type": "markdown",
   "metadata": {},
   "source": [
    "# 2/ Load the config file"
   ]
  },
  {
   "cell_type": "markdown",
   "metadata": {},
   "source": [
    "Choose here the name of the model you want to load"
   ]
  },
  {
   "cell_type": "code",
   "execution_count": null,
   "metadata": {
    "collapsed": true
   },
   "outputs": [],
   "source": [
    "#model_name = 'cv_3c_d4_c2_k3__0-1062' # TEM 3c 256\n",
    "#model_name = 'cv_3c_d3_c2_k3__13-5185/'\n",
    "#model_name = 'baseline_3c_balanced_nobn-1957' # SEM 3c 256 old\n",
    "#model_name = 'cv_3c_d4_c2_k3__0-9097' # SEM 512\n",
    "#model_name = 'cv_3c_d4_c2_k3__0-7678' # TEM 3c 512\n",
    "#model_name = 'cv_3c_d4_c2_k3__0-8580' # mixed 3c 512\n",
    "#model_name = 'cv_3c_d4_c2_k3__0-4698' # good working model\n",
    "model_name = 'baseline_sem512-3734'"
   ]
  },
  {
   "cell_type": "code",
   "execution_count": null,
   "metadata": {
    "collapsed": true
   },
   "outputs": [],
   "source": [
    "# optional input path of a model to initialize the training\n",
    "#path_model_init = 'network_testing/test_2905'\n",
    "path_model_init = None\n",
    "\n",
    "# output path for trained U-Net\n",
    "path_model = '../models/' + model_name\n",
    "\n",
    "path_configfile = path_model + '/config_network.json'\n",
    "\n",
    "if not os.path.exists(path_model):\n",
    "    os.makedirs(path_model)\n",
    "\n",
    "with open(path_configfile, 'r') as fd:\n",
    "    config_network = json.loads(fd.read())\n",
    "    \n",
    "# OPTIONAL : specify the gpu one wants to use.\n",
    "gpu_device = 'gpu:0' # or gpu_device = 'gpu:1' these are the only two possible targets for now."
   ]
  },
  {
   "cell_type": "markdown",
   "metadata": {},
   "source": [
    "# 3/ Apply the model to segment one image"
   ]
  },
  {
   "cell_type": "markdown",
   "metadata": {},
   "source": [
    "#### Segmentation"
   ]
  },
  {
   "cell_type": "code",
   "execution_count": null,
   "metadata": {
    "collapsed": true
   },
   "outputs": [],
   "source": [
    "from AxonDeepSeg.apply_model import axon_segmentation"
   ]
  },
  {
   "cell_type": "code",
   "execution_count": null,
   "metadata": {
    "scrolled": false
   },
   "outputs": [],
   "source": [
    "pred, pred_proba = axon_segmentation([path_testing], [\"image.png\"], path_model, config_network, overlap_value=25, resampled_resolutions=gps, \n",
    "                                  prediction_proba_activate=True, write_mode=True, inference_batch_size=4, gpu_per=0.3, verbosity_level=0)"
   ]
  },
  {
   "cell_type": "markdown",
   "metadata": {},
   "source": [
    "** TRANSFORMING PRED_PROBA INTO REAL PROBABILITIES **"
   ]
  },
  {
   "cell_type": "code",
   "execution_count": null,
   "metadata": {
    "collapsed": true
   },
   "outputs": [],
   "source": [
    "pred_proba = pred_proba[0]"
   ]
  },
  {
   "cell_type": "code",
   "execution_count": null,
   "metadata": {
    "collapsed": true
   },
   "outputs": [],
   "source": [
    "a = np.exp(pred_proba)\n",
    "b = np.sum(a, axis=-1)\n",
    "c = np.stack([np.divide(a[:,:,i],b) for i in range(3)], axis=-1)"
   ]
  },
  {
   "cell_type": "markdown",
   "metadata": {},
   "source": [
    "Then we save the probabilities using a pickle file"
   ]
  },
  {
   "cell_type": "code",
   "execution_count": null,
   "metadata": {
    "collapsed": true
   },
   "outputs": [],
   "source": [
    "path_saving = '../data/SEM_3classes_reduced/testing/pilou/'"
   ]
  },
  {
   "cell_type": "code",
   "execution_count": null,
   "metadata": {
    "collapsed": true
   },
   "outputs": [],
   "source": [
    "with open(os.path.join(path_saving, 'pred_proba.pkl'), 'w') as handle:\n",
    "    pickle.dump(c, handle, protocol=pickle.HIGHEST_PROTOCOL)"
   ]
  },
  {
   "cell_type": "markdown",
   "metadata": {},
   "source": [
    "# 4/ Visualisation of the segmentation"
   ]
  },
  {
   "cell_type": "markdown",
   "metadata": {},
   "source": [
    "Import images"
   ]
  },
  {
   "cell_type": "code",
   "execution_count": null,
   "metadata": {
    "collapsed": true
   },
   "outputs": [],
   "source": [
    "imorg = imread(path_testing + '/image.png', flatten=True)\n",
    "imads = imread(path_testing + '/AxonDeepSeg.png', flatten=True)"
   ]
  },
  {
   "cell_type": "markdown",
   "metadata": {},
   "source": [
    "Display original image"
   ]
  },
  {
   "cell_type": "code",
   "execution_count": null,
   "metadata": {
    "collapsed": true
   },
   "outputs": [],
   "source": [
    "plt.figure(figsize=(13,10))\n",
    "plt.title('Original image')\n",
    "plt.imshow(imorg, cmap='gray')\n",
    "plt.show();"
   ]
  },
  {
   "cell_type": "markdown",
   "metadata": {},
   "source": [
    "Display segmentation and compare it with original image"
   ]
  },
  {
   "cell_type": "code",
   "execution_count": null,
   "metadata": {
    "collapsed": true
   },
   "outputs": [],
   "source": [
    "plt.figure(figsize=(13,10))\n",
    "plt.title('Segmented image')\n",
    "plt.imshow(imads)\n",
    "plt.show();"
   ]
  },
  {
   "cell_type": "code",
   "execution_count": null,
   "metadata": {
    "collapsed": true
   },
   "outputs": [],
   "source": [
    "plt.figure(figsize=(13,10))\n",
    "plt.title('Superposed images')\n",
    "plt.imshow(imorg, cmap='gray', alpha=0.5)\n",
    "plt.imshow(imads, cmap='viridis', alpha=0.5)"
   ]
  },
  {
   "cell_type": "code",
   "execution_count": null,
   "metadata": {
    "collapsed": true
   },
   "outputs": [],
   "source": [
    "imorg.shape"
   ]
  },
  {
   "cell_type": "markdown",
   "metadata": {
    "collapsed": true
   },
   "source": [
    "# 5/ Metrics analysis"
   ]
  },
  {
   "cell_type": "markdown",
   "metadata": {},
   "source": [
    "We are now going to analyze each class dice. First we compute masks for each prediction and each ground truth"
   ]
  },
  {
   "cell_type": "code",
   "execution_count": null,
   "metadata": {
    "collapsed": true
   },
   "outputs": [],
   "source": [
    "mask = imread(path_testing + '/mask.png', flatten=True)\n",
    "pred = imread(path_testing + '/AxonDeepSeg.png', flatten=True)"
   ]
  },
  {
   "cell_type": "markdown",
   "metadata": {},
   "source": [
    "Creating the mask necessary to compute the dice"
   ]
  },
  {
   "cell_type": "code",
   "execution_count": null,
   "metadata": {
    "collapsed": true
   },
   "outputs": [],
   "source": [
    "gt_axon = mask > 200\n",
    "gt_myelin = np.logical_and(mask >= 50, mask <= 200)\n",
    "\n",
    "pred_axon = pred > 200\n",
    "pred_myelin = np.logical_and(pred >= 50, pred <= 200)"
   ]
  },
  {
   "cell_type": "markdown",
   "metadata": {},
   "source": [
    "Affichage de chaque classe"
   ]
  },
  {
   "cell_type": "code",
   "execution_count": null,
   "metadata": {
    "collapsed": true,
    "scrolled": false
   },
   "outputs": [],
   "source": [
    "plt.figure(figsize=(13,10))\n",
    "plt.subplot(2,1,1)\n",
    "plt.imshow(pred_axon.astype(int) - gt_axon.astype(int))\n",
    "plt.title('Axon prediction - ground truth')\n",
    "plt.colorbar()\n",
    "plt.subplot(2,1,2)\n",
    "plt.imshow(pred_myelin.astype(int) - gt_myelin.astype(int))\n",
    "plt.title('Myelin prediction - ground truth')\n",
    "plt.show();"
   ]
  },
  {
   "cell_type": "code",
   "execution_count": null,
   "metadata": {
    "collapsed": true
   },
   "outputs": [],
   "source": [
    "float(np.sum(pred_myelin.astype(int) - gt_myelin.astype(int)))/(imorg.shape[0]*imorg.shape[1])"
   ]
  },
  {
   "cell_type": "markdown",
   "metadata": {},
   "source": [
    "### Computing the dice for axon and myelin"
   ]
  },
  {
   "cell_type": "code",
   "execution_count": null,
   "metadata": {
    "collapsed": true
   },
   "outputs": [],
   "source": [
    "dice_axon = pw_dice(pred_axon, gt_axon)\n",
    "dice_myelin = pw_dice(pred_myelin, gt_myelin)\n",
    "\n",
    "print('Dice for Axon : ' + str(dice_axon))",
    "print('Dice for myelin : ' + str(dice_myelin))"
   ]
  },
  {
   "cell_type": "markdown",
   "metadata": {},
   "source": [
    "Computing sensitivity, precision and diffusion"
   ]
  },
  {
   "cell_type": "code",
   "execution_count": null,
   "metadata": {
    "collapsed": true
   },
   "outputs": [],
   "source": [
    "score_analysis(imorg, gt_axon, pred_axon)"
   ]
  },
  {
   "cell_type": "markdown",
   "metadata": {},
   "source": [
    "Displaying the element-wise dice for the axon class"
   ]
  },
  {
   "cell_type": "code",
   "execution_count": null,
   "metadata": {
    "collapsed": true
   },
   "outputs": [],
   "source": [
    "data_axon_dice = dice(imorg, gt_axon, pred_axon, min_area=4)"
   ]
  },
  {
   "cell_type": "code",
   "execution_count": null,
   "metadata": {
    "collapsed": true
   },
   "outputs": [],
   "source": [
    "data_axon_dice['dice'].quantile([0.1, 0.5, 0.9, 0.95]).values"
   ]
  },
  {
   "cell_type": "code",
   "execution_count": null,
   "metadata": {
    "collapsed": true
   },
   "outputs": [],
   "source": []
  }
 ],
 "metadata": {
  "kernelspec": {
   "display_name": "Python 2",
   "language": "python",
   "name": "python2"
  },
  "language_info": {
   "codemirror_mode": {
    "name": "ipython",
    "version": 2
   },
   "file_extension": ".py",
   "mimetype": "text/x-python",
   "name": "python",
   "nbconvert_exporter": "python",
   "pygments_lexer": "ipython2",
   "version": "2.7.5"
  }
 },
 "nbformat": 4,
 "nbformat_minor": 2
}
