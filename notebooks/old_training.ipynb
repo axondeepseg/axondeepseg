{
 "cells": [
  {
   "cell_type": "code",
   "execution_count": 1,
   "metadata": {},
   "outputs": [],
   "source": [
    "import json\n",
    "import os\n",
    "import time"
   ]
  },
  {
   "cell_type": "code",
   "execution_count": 2,
   "metadata": {},
   "outputs": [],
   "source": [
    "# Description du fichier config :\n",
    "# network_learning_rate : float : No idea, but certainly linked to the back propagation ? Default : 0.0005.\n",
    "# network_n_classes : int : number of labels in the output. Default : 2.\n",
    "# dropout : float : between 0 and 1 : percentage of neurons we want to keep. Default : 0.75.\n",
    "# network_depth : int : number of layers WARNING : factualy, there will be 2*network_depth layers. Default : 6.\n",
    "# network_convolution_per_layer : list of int, length = network_depth : number of convolution per layer. Default : [1 for i in range(network_depth)].\n",
    "# network_size_of_convolutions_per_layer : list of lists of int [number of layers[number_of_convolutions_per_layer]] : Describe the size of each convolution filter.\n",
    "# Default : [[3 for k in range(network_convolution_per_layer[i])] for i in range(network_depth)].\n",
    "\n",
    "# network_features_per_convolution : list of lists of int [number of layers[number_of_convolutions_per_layer[2]] : Numer of different filters that are going to be used.\n",
    "# Default : [[[64,64] for k in range(network_convolution_per_layer[i])] for i in range(network_depth)]. WARNING ! network_features_per_convolution[k][1] = network_features_per_convolution[k+1][0].\n",
    "\n",
    "# network_trainingset : string : String describing the dataset used for the training."
   ]
  },
  {
   "cell_type": "code",
   "execution_count": 3,
   "metadata": {},
   "outputs": [],
   "source": [
    "filename = '/config_network.json'"
   ]
  },
  {
   "cell_type": "code",
   "execution_count": 4,
   "metadata": {},
   "outputs": [],
   "source": [
    "trainingset_name = 'data_training'"
   ]
  },
  {
   "cell_type": "code",
   "execution_count": 5,
   "metadata": {},
   "outputs": [],
   "source": [
    "learning_rate = 0.0005\n",
    "network_n_classes = 2\n",
    "dropout = 0.75\n",
    "network_depth = 3\n",
    "network_convolution_per_layer = [2 for i in range(network_depth)]\n",
    "network_size_of_convolutions_per_layer = [[3,3],[3,3],[3,3],[3,3]]#[[3 for k in range(network_convolution_per_layer[i])] for i in range(network_depth)]\n",
    "network_features_per_convolution = [[[10,15],[15,20]],[[20,25],[25,30]],[[30,35],[35,40]]]\n",
    "\n",
    "downsampling = 'maxpooling'\n",
    "\n",
    "thresholds = [0,0.5]\n",
    "\n",
    "weighted_cost_activate = False\n",
    "\n",
    "config = {\n",
    "    'learning_rate': learning_rate,\n",
    "    'n_classes': network_n_classes,\n",
    "    'dropout': dropout,\n",
    "    'depth': network_depth,\n",
    "    'convolution_per_layer': network_convolution_per_layer,\n",
    "    'size_of_convolutions_per_layer': network_size_of_convolutions_per_layer,\n",
    "    'features_per_convolution': network_features_per_convolution,\n",
    "    'trainingset': trainingset_name,\n",
    "    'downsampling': downsampling,\n",
    "    'thresholds': thresholds,\n",
    "    'weighted_cost_activate': weighted_cost_activate,\n",
    "    'batch_size': 1,\n",
    "    \"batch_norm_decay_starting_decay\": 0.99,\n",
    "    \"trainingset_patchsize\": 512,\n",
    "    \"dataset_mean\": 128,\n",
    "    \"dataset_variance\": 30,\n",
    "    \"learning_rate_decay_activate\": False,\n",
    "    \"batch_norm_decay_decay_activate\": False,\n",
    "    \"batch_norm_activate\": False\n",
    "}"
   ]
  },
  {
   "cell_type": "code",
   "execution_count": 13,
   "metadata": {},
   "outputs": [],
   "source": [
    "config = {\n",
    "  \"learning_rate_decay_period\": 24000, \n",
    "  \"batch_norm_decay_decay_period\": 16000, \n",
    "  \"learning_rate_decay_type\": \"polynomial\", \n",
    "  \"batch_norm_decay_decay_activate\": True, \n",
    "  \"learning_rate_decay_activate\": True, \n",
    "  \"learning_rate_decay_rate\": 0.99, \n",
    "  \"batch_norm_decay_ending_decay\": 0.9, \n",
    "  \"depth\": 3, \n",
    "  \"weighted_cost_activate\": False, \n",
    "  \"weighted_cost_balanced_activate\": False, \n",
    "  \"weighted_cost_balanced_weights\": [1, 1], \n",
    "  \"weighted_cost_boundaries_sigma\": 2, \n",
    "  \"weighted_cost_boundaries_activate\": False,\n",
    "  \"batch_norm_activate\": True, \n",
    "  \"thresholds\": [0, 0.5], \n",
    "  \"trainingset_patchsize\": 512, \n",
    "  \"learning_rate\": 0.001, \n",
    "  \"downsampling\": \"maxpooling\", \n",
    "  \"batch_size\": 8, \n",
    "  \"da-type\": \"all\", \n",
    "  \"da-random_rotation-activate\": False, \n",
    "  \"da-noise_addition-activate\": False, \n",
    "  \"da-elastic-activate\": True, \n",
    "  \"da-shifting-activate\": True, \n",
    "  \"da-flipping-activate\": True, \n",
    "  \"da-rescaling-activate\": False,\n",
    "  \"n_classes\": 2, \n",
    "  \"batch_norm_decay_starting_decay\": 0.7, \n",
    "  \"trainingset\": \"data_training\", \n",
    "  \"size_of_convolutions_per_layer\": [[3,3],[3,3],[3,3],[3,3]], \n",
    "  \"dropout\": 0.75, \n",
    "  \"convolution_per_layer\": [2, 2, 2], \n",
    "  \"features_per_convolution\": [[[10,15],[15,20]],[[20,25],[25,30]],[[30,35],[35,40]]]\n",
    "}"
   ]
  },
  {
   "cell_type": "code",
   "execution_count": null,
   "metadata": {},
   "outputs": [],
   "source": []
  },
  {
   "cell_type": "code",
   "execution_count": null,
   "metadata": {},
   "outputs": [],
   "source": []
  },
  {
   "cell_type": "code",
   "execution_count": null,
   "metadata": {},
   "outputs": [],
   "source": []
  },
  {
   "cell_type": "code",
   "execution_count": 14,
   "metadata": {},
   "outputs": [],
   "source": [
    "path_training = '/Users/rudinakaprata/Dropbox/data_training/training'\n",
    "# path_training = '../data/'+trainingset_name+'/training'"
   ]
  },
  {
   "cell_type": "code",
   "execution_count": 15,
   "metadata": {
    "scrolled": false
   },
   "outputs": [
    {
     "ename": "ValueError",
     "evalue": "need more than 1 value to unpack",
     "output_type": "error",
     "traceback": [
      "\u001b[0;31m---------------------------------------------------------------------------\u001b[0m",
      "\u001b[0;31mValueError\u001b[0m                                Traceback (most recent call last)",
      "\u001b[0;32m<ipython-input-15-a4dd993b9301>\u001b[0m in \u001b[0;36m<module>\u001b[0;34m()\u001b[0m\n\u001b[1;32m     24\u001b[0m \u001b[0;31m# Note : possible values for gpu: None, '/gpu:0'. If used withing CUDA_VISIBLE_DEVICES=?, then it will use gpu number ? by default\u001b[0m\u001b[0;34m\u001b[0m\u001b[0;34m\u001b[0m\u001b[0m\n\u001b[1;32m     25\u001b[0m \u001b[0;32mfrom\u001b[0m \u001b[0mAxonDeepSeg\u001b[0m\u001b[0;34m.\u001b[0m\u001b[0mtrain_network\u001b[0m \u001b[0;32mimport\u001b[0m \u001b[0mtrain_model\u001b[0m\u001b[0;34m\u001b[0m\u001b[0m\n\u001b[0;32m---> 26\u001b[0;31m \u001b[0mtrain_model\u001b[0m\u001b[0;34m(\u001b[0m\u001b[0mpath_training\u001b[0m\u001b[0;34m,\u001b[0m \u001b[0mpath_model\u001b[0m\u001b[0;34m,\u001b[0m \u001b[0mconfig_network\u001b[0m\u001b[0;34m)\u001b[0m\u001b[0;34m\u001b[0m\u001b[0m\n\u001b[0m",
      "\u001b[0;32m/Users/rudinakaprata/Documents/Aldo/ads_feb/axondeepseg/AxonDeepSeg/train_network.py\u001b[0m in \u001b[0;36mtrain_model\u001b[0;34m(path_trainingset, path_model, config, path_model_init, save_trainable, gpu, debug_mode, gpu_per)\u001b[0m\n\u001b[1;32m     50\u001b[0m \u001b[0;34m\u001b[0m\u001b[0m\n\u001b[1;32m     51\u001b[0m     \u001b[0mdata_augmentation\u001b[0m \u001b[0;34m=\u001b[0m \u001b[0mgenerate_dict_da\u001b[0m\u001b[0;34m(\u001b[0m\u001b[0mconfig\u001b[0m\u001b[0;34m)\u001b[0m\u001b[0;34m\u001b[0m\u001b[0m\n\u001b[0;32m---> 52\u001b[0;31m     \u001b[0mweights_modifier\u001b[0m \u001b[0;34m=\u001b[0m \u001b[0mgenerate_dict_weights\u001b[0m\u001b[0;34m(\u001b[0m\u001b[0mconfig\u001b[0m\u001b[0;34m)\u001b[0m\u001b[0;34m\u001b[0m\u001b[0m\n\u001b[0m\u001b[1;32m     53\u001b[0m     \u001b[0mdata_aug_verbose\u001b[0m \u001b[0;34m=\u001b[0m \u001b[0;36m0\u001b[0m\u001b[0;34m\u001b[0m\u001b[0m\n\u001b[1;32m     54\u001b[0m \u001b[0;34m\u001b[0m\u001b[0m\n",
      "\u001b[0;32m/Users/rudinakaprata/Documents/Aldo/ads_feb/axondeepseg/AxonDeepSeg/train_network_tools.pyc\u001b[0m in \u001b[0;36mgenerate_dict_weights\u001b[0;34m(config)\u001b[0m\n\u001b[1;32m     59\u001b[0m             \u001b[0mupdate_recur_dict\u001b[0m\u001b[0;34m(\u001b[0m\u001b[0mweights_modifier\u001b[0m\u001b[0;34m,\u001b[0m \u001b[0;34m{\u001b[0m\u001b[0mkey\u001b[0m\u001b[0;34m:\u001b[0m \u001b[0mval\u001b[0m\u001b[0;34m}\u001b[0m\u001b[0;34m)\u001b[0m\u001b[0;34m\u001b[0m\u001b[0m\n\u001b[1;32m     60\u001b[0m         \u001b[0;32melif\u001b[0m \u001b[0mkey\u001b[0m\u001b[0;34m[\u001b[0m\u001b[0;34m:\u001b[0m\u001b[0;36m13\u001b[0m\u001b[0;34m]\u001b[0m \u001b[0;34m==\u001b[0m \u001b[0;34m'weighted_cost'\u001b[0m\u001b[0;34m:\u001b[0m\u001b[0;34m\u001b[0m\u001b[0m\n\u001b[0;32m---> 61\u001b[0;31m             \u001b[0mkey1\u001b[0m\u001b[0;34m,\u001b[0m \u001b[0mkey2\u001b[0m \u001b[0;34m=\u001b[0m \u001b[0mkey\u001b[0m\u001b[0;34m[\u001b[0m\u001b[0;36m13\u001b[0m\u001b[0;34m:\u001b[0m\u001b[0;34m]\u001b[0m\u001b[0;34m.\u001b[0m\u001b[0msplit\u001b[0m\u001b[0;34m(\u001b[0m\u001b[0;34m'-'\u001b[0m\u001b[0;34m)\u001b[0m\u001b[0;34m\u001b[0m\u001b[0m\n\u001b[0m\u001b[1;32m     62\u001b[0m             \u001b[0mupdate_recur_dict\u001b[0m\u001b[0;34m(\u001b[0m\u001b[0mweights_modifier\u001b[0m\u001b[0;34m,\u001b[0m \u001b[0;34m{\u001b[0m\u001b[0mkey2\u001b[0m\u001b[0;34m:\u001b[0m \u001b[0mval\u001b[0m\u001b[0;34m}\u001b[0m\u001b[0;34m)\u001b[0m\u001b[0;34m\u001b[0m\u001b[0m\n\u001b[1;32m     63\u001b[0m     \u001b[0;32mreturn\u001b[0m \u001b[0mweights_modifier\u001b[0m\u001b[0;34m\u001b[0m\u001b[0m\n",
      "\u001b[0;31mValueError\u001b[0m: need more than 1 value to unpack"
     ]
    }
   ],
   "source": [
    "dir_name = time.strftime(\"%Y-%m-%d\") + '_' + time.strftime(\"%H-%M-%S\") \n",
    "#dir_name = 'baseline_bis'\n",
    "path_model = os.path.join('../models/', dir_name)\n",
    "\n",
    "if not os.path.exists(path_model):\n",
    "    os.makedirs(path_model)\n",
    "    \n",
    "path_model_init = None \n",
    "\n",
    "\n",
    "# Specify here the path to the initial model if needed.\n",
    "\n",
    "if os.path.exists(path_model+filename): # if there is already a configfile\n",
    "    with open(path_model+filename, 'r') as fd:\n",
    "        config_network = json.loads(fd.read())\n",
    "else: # There is no config file for the moment\n",
    "    with open(path_model+filename, 'w') as f:\n",
    "        json.dump(config, f, indent=2)\n",
    "    with open(path_model+filename, 'r') as fd:\n",
    "        config_network = json.loads(fd.read())\n",
    "    \n",
    "################################################### Training phase ###################################################\n",
    "\n",
    "# Note : possible values for gpu: None, '/gpu:0'. If used withing CUDA_VISIBLE_DEVICES=?, then it will use gpu number ? by default\n",
    "from AxonDeepSeg.train_network import train_model\n",
    "train_model(path_training, path_model, config_network)"
   ]
  },
  {
   "cell_type": "markdown",
   "metadata": {
    "collapsed": true
   },
   "source": []
  },
  {
   "cell_type": "code",
   "execution_count": null,
   "metadata": {},
   "outputs": [],
   "source": []
  },
  {
   "cell_type": "code",
   "execution_count": null,
   "metadata": {},
   "outputs": [],
   "source": []
  },
  {
   "cell_type": "code",
   "execution_count": null,
   "metadata": {},
   "outputs": [],
   "source": []
  },
  {
   "cell_type": "code",
   "execution_count": null,
   "metadata": {},
   "outputs": [],
   "source": []
  },
  {
   "cell_type": "code",
   "execution_count": null,
   "metadata": {},
   "outputs": [],
   "source": []
  },
  {
   "cell_type": "code",
   "execution_count": null,
   "metadata": {},
   "outputs": [],
   "source": []
  },
  {
   "cell_type": "code",
   "execution_count": null,
   "metadata": {},
   "outputs": [],
   "source": []
  },
  {
   "cell_type": "code",
   "execution_count": null,
   "metadata": {},
   "outputs": [],
   "source": []
  },
  {
   "cell_type": "code",
   "execution_count": null,
   "metadata": {},
   "outputs": [],
   "source": []
  },
  {
   "cell_type": "code",
   "execution_count": null,
   "metadata": {},
   "outputs": [],
   "source": []
  },
  {
   "cell_type": "code",
   "execution_count": 11,
   "metadata": {},
   "outputs": [
    {
     "name": "stdout",
     "output_type": "stream",
     "text": [
      "../models/2018-05-28_13-24-07\n"
     ]
    }
   ],
   "source": [
    "print(path_model)"
   ]
  },
  {
   "cell_type": "code",
   "execution_count": 12,
   "metadata": {},
   "outputs": [
    {
     "name": "stdout",
     "output_type": "stream",
     "text": [
      "{u'network_depth': 3, u'network_weighted_cost': False, u'network_learning_rate': 0.0005, u'network_downsampling': u'maxpooling', u'network_batch_size': 1, u'network_n_classes': 2, u'network_thresholds': [0, 0.5], u'network_trainingset': u'data_training', u'network_size_of_convolutions_per_layer': [[3, 3], [3, 3], [3, 3], [3, 3]], u'network_dropout': 0.75, u'network_convolution_per_layer': [2, 2, 2], u'network_features_per_convolution': [[[10, 15], [15, 20]], [[20, 25], [25, 30]], [[30, 35], [35, 40]]]}\n"
     ]
    }
   ],
   "source": [
    "print(config_network)"
   ]
  },
  {
   "cell_type": "code",
   "execution_count": null,
   "metadata": {},
   "outputs": [],
   "source": []
  },
  {
   "cell_type": "code",
   "execution_count": null,
   "metadata": {},
   "outputs": [],
   "source": []
  },
  {
   "cell_type": "code",
   "execution_count": null,
   "metadata": {},
   "outputs": [],
   "source": []
  },
  {
   "cell_type": "code",
   "execution_count": null,
   "metadata": {},
   "outputs": [],
   "source": []
  },
  {
   "cell_type": "code",
   "execution_count": null,
   "metadata": {},
   "outputs": [],
   "source": []
  },
  {
   "cell_type": "code",
   "execution_count": 12,
   "metadata": {},
   "outputs": [],
   "source": [
    "config = {\n",
    "  \"learning_rate_decay_period\": 24000, \n",
    "  \"batch_norm_decay_decay_period\": 16000, \n",
    "  \"learning_rate_decay_type\": \"polynomial\", \n",
    "  \"batch_norm_decay_decay_activate\": True, \n",
    "  \"learning_rate_decay_activate\": True, \n",
    "  \"learning_rate_decay_rate\": 0.99, \n",
    "  \"batch_norm_decay_ending_decay\": 0.9, \n",
    "  \"depth\": network_depth, \n",
    "  \"weighted_cost_activate\": True, \n",
    "  \"weighted_cost_balanced_activate\": True, \n",
    "  \"weighted_cost_balanced_weights\": [1.1, 1, 1.3], \n",
    "  \"weighted_cost_boundaries_sigma\": 2, \n",
    "  \"weighted_cost_boundaries_activate\": False,\n",
    "  \"batch_norm_activate\": True, \n",
    "  \"thresholds\": [0, 0.2, 0.8], \n",
    "  \"trainingset_patchsize\": 512, \n",
    "  \"learning_rate\": 0.001, \n",
    "  \"downsampling\": \"convolution\", \n",
    "  \"batch_size\": 8, \n",
    "  \"da-type\": \"all\", \n",
    "  \"da-random_rotation-activate\": False, \n",
    "  \"da-noise_addition-activate\": False, \n",
    "  \"da-elastic-activate\": True, \n",
    "  \"da-shifting-activate\": True, \n",
    "  \"da-flipping-activate\": True, \n",
    "  \"da-rescaling-activate\": False,\n",
    "  \"n_classes\": 3, \n",
    "  \"batch_norm_decay_starting_decay\": 0.7, \n",
    "  \"trainingset\": \"SEM_3c_512\", \n",
    "  \"size_of_convolutions_per_layer\": [[5, 5, 5], [3, 3, 3], [3, 3, 3], [3, 3, 3]], \n",
    "  \"dropout\": 0.75, \n",
    "  \"convolution_per_layer\": [3, 3, 3, 3], \n",
    "  \"features_per_convolution\": [[[1, 16], [16, 16], [16, 16]], \n",
    "                               [[16, 32], [32, 32], [32, 32]], \n",
    "                               [[32, 64], [64, 64], [64, 64]], \n",
    "                               [[64, 128], [128, 128], [128, 128]]]\n",
    "}"
   ]
  },
  {
   "cell_type": "code",
   "execution_count": null,
   "metadata": {},
   "outputs": [],
   "source": []
  },
  {
   "cell_type": "code",
   "execution_count": null,
   "metadata": {},
   "outputs": [],
   "source": []
  }
 ],
 "metadata": {
  "anaconda-cloud": {},
  "kernelspec": {
   "display_name": "Python 2",
   "language": "python",
   "name": "python2"
  },
  "language_info": {
   "codemirror_mode": {
    "name": "ipython",
    "version": 2
   },
   "file_extension": ".py",
   "mimetype": "text/x-python",
   "name": "python",
   "nbconvert_exporter": "python",
   "pygments_lexer": "ipython2",
   "version": "2.7.10"
  }
 },
 "nbformat": 4,
 "nbformat_minor": 2
}
