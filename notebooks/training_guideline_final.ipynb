{
 "cells": [
  {
   "cell_type": "code",
   "execution_count": 1,
   "metadata": {},
   "outputs": [],
   "source": [
    "\n"
   ]
  },
  {
   "cell_type": "code",
   "execution_count": null,
   "metadata": {},
   "outputs": [],
   "source": []
  },
  {
   "cell_type": "markdown",
   "metadata": {},
   "source": [
    "### Training procedure notebook\n",
    "\n",
    "This notebook is a step-by-step procedure in order to train a network (model) for axon & myelin segmentation in the AxonDeepSeg framework. It covers the following steps:\n",
    "\n",
    "* How to train a model by scratch by defifing the parameters of the network.\n",
    "* How to use the trained model to make predictions on new data.\n",
    "\n",
    "Note: For the dataset patch management (i.e. how to prepare patches of samples & corresponding mask labels of the training dataset), please check the following notebook: name.ipynb."
   ]
  },
  {
   "cell_type": "markdown",
   "metadata": {},
   "source": [
    "### STEP 0: IMPORTS."
   ]
  },
  {
   "cell_type": "code",
   "execution_count": 4,
   "metadata": {},
   "outputs": [],
   "source": [
    "import json\n",
    "import os\n",
    "import time\n",
    "from AxonDeepSeg.train_network import train_model\n",
    "\n",
    "import tensorflow as tf\n",
    "tf.reset_default_graph()"
   ]
  },
  {
   "cell_type": "markdown",
   "metadata": {},
   "source": [
    "### STEP 1: TRAIN A NEW MODEL."
   ]
  },
  {
   "cell_type": "markdown",
   "metadata": {},
   "source": [
    "#### 1.1. Create subfolder to save new model and its parameters.\n",
    "\n",
    "For simplicity, we create the new model folder under the 'models' folder of the AxonDeepSeg repository. The name of the model folder will be generated automatically using the date and time (to avoid multiple instances). If you want to use your own name, uncomment the 2nd line of the next cell."
   ]
  },
  {
   "cell_type": "code",
   "execution_count": 5,
   "metadata": {},
   "outputs": [],
   "source": [
    "dir_name = time.strftime(\"%Y-%m-%d\") + '_' + time.strftime(\"%H-%M-%S\")\n",
    "# dir_name = 'the_name_of_my_model_folder'\n",
    "\n",
    "path_model = os.path.join('../models/', dir_name)\n",
    "\n",
    "if not os.path.exists(path_model):\n",
    "    os.makedirs(path_model)"
   ]
  },
  {
   "cell_type": "markdown",
   "metadata": {},
   "source": [
    "#### 1.2. Define the configuration parameters of the training.\n",
    "\n",
    "Here, we are going to define the network and training parameters (i.e. hyperparameters). Here is a quick guide on the main parameters:\n",
    "\n",
    "##### General parameters:\n",
    "* **\"n_classes\":** Number of classes. For this application, the number of classes should be set to **3** (i.e. axon pixel, myelin pixel, or background pixel).\n",
    "* **\"thresholds\":** Thresholds for the 3-class classification problem. Do not modify.\n",
    "* **\"trainingset_patchsize\":** Patch size of the training set in pixels (note that the patches have the same size in both dimensions).\n",
    "* **\"trainingset\":** Name of the training set.\n",
    "* **\"batch_size\":** Batch size, i.e. the number of training patches used in one iteration of the training.\n",
    "\n",
    "##### Network architecture parameters:\n",
    "* **\"depth\":** Depth of the network (i.e. number of blocks of the U-net).\n",
    "* **\"convolution_per_layer\":** Number of convolution layers used at each block.\n",
    "* **\"size_of_convolutions_per_layer\":** Kernel size of each convolution layer of the network.\n",
    "* **\"features_per_convolution\":** Number of features of each convolution layer.\n",
    "* **\"downsampling\":** Type of downsampling to use in the downsampling layers of the network. Option \"maxpooling\" for standard max pooling layer or option \"convolution\" for learned convolutional downsampling.\n",
    "* **\"dropout\":** Dropout to use for the training. Note: In TensorFlow, the keep probability is used instead. For instance, setting this param. to 0.75 means that 75% of the neurons of the network will be kept (i.e. dropout of 25%).\n",
    "\n",
    "\n",
    "##### Training parameters:\n",
    "* \n",
    "\n",
    "\n",
    "##### Data augmentation parameters:\n",
    "* **\"da-type\":** Type of data augmentation procedure. Option **\"all\"** applies all selected data augmentation transformations sequentially, while option **\"random\"** only applies one of the selected transformations (randomly) to the sample(s).\n",
    "* List of available data augmentation transformations: 'random_rotation', 'noise_addition', 'elastic', 'shifting', 'rescaling' and 'flipping'. For each type of data augmentation, the order needs to be specified if you decide to apply more than one transformation sequentially. For instance, setting the \"da-0-shifting-activate\" parameter to 'True' means that the shifting is the first transformation that will be applied to the sample(s) during training. \n",
    "\n",
    "\n",
    "##### Batch normalization parameters:\n",
    "* \n",
    "\n",
    "\n",
    "\n",
    "\n",
    "\n"
   ]
  },
  {
   "cell_type": "code",
   "execution_count": null,
   "metadata": {},
   "outputs": [],
   "source": [
    "config = {\n",
    "    \n",
    "# General parameters:    \n",
    "  \"n_classes\": 3,\n",
    "  \"thresholds\": [0, 0.2, 0.8],    \n",
    "  \"trainingset_patchsize\": 256,    \n",
    "  \"trainingset\": \"SEM_3c_256\",    \n",
    "  \"batch_size\": 8,\n",
    "\n",
    "# Network architecture parameters:     \n",
    "  \"depth\": 2,\n",
    "  \"convolution_per_layer\": [2, 2],\n",
    "  \"size_of_convolutions_per_layer\": [[3, 3], [3, 3]],\n",
    "  \"features_per_convolution\": [[[1, 5], [5, 5]], [[5, 10], [10, 10]]],\n",
    "  \"downsampling\": \"maxpooling\",\n",
    "  \"dropout\": 0.75, \n",
    "     \n",
    "# Learning rate parameters:    \n",
    "  \"learning_rate\": 0.001,    \n",
    "  \"learning_rate_decay_activate\": True,    \n",
    "  \"learning_rate_decay_period\": 24000, \n",
    "  \"learning_rate_decay_type\": \"polynomial\", \n",
    "  \"learning_rate_decay_rate\": 0.99,\n",
    "    \n",
    "# Batch normalization parameters:     \n",
    "  \"batch_norm_activate\": True,     \n",
    "  \"batch_norm_decay_decay_activate\": True,    \n",
    "  \"batch_norm_decay_starting_decay\": 0.7, \n",
    "  \"batch_norm_decay_ending_decay\": 0.9, \n",
    "  \"batch_norm_decay_decay_period\": 16000,\n",
    "        \n",
    "\n",
    "       \n",
    "# Weighted cost parameters:    \n",
    "  \"weighted_cost-activate\": True, \n",
    "  \"weighted_cost-balanced_activate\": True, \n",
    "  \"weighted_cost-balanced_weights\": [1.1, 1, 1.3], \n",
    "  \"weighted_cost-boundaries_sigma\": 2, \n",
    "  \"weighted_cost-boundaries_activate\": False, \n",
    "    \n",
    "# Data augmentation parameters:    \n",
    "  \"da-type\": \"all\", \n",
    "  \"da-2-random_rotation-activate\": False, \n",
    "  \"da-5-noise_addition-activate\": False, \n",
    "  \"da-3-elastic-activate\": True, \n",
    "  \"da-0-shifting-activate\": True, \n",
    "  \"da-4-flipping-activate\": True, \n",
    "  \"da-1-rescaling-activate\": False,\n",
    " \n",
    "  \"dataset_mean\": 128,\n",
    "  \"dataset_variance\": 30,\n",
    "    \n",
    "}"
   ]
  },
  {
   "cell_type": "markdown",
   "metadata": {},
   "source": [
    "#### 1.3. Save config parameters of the network as configuration file (.json).\n",
    "\n",
    "After the config parameters of the network to be trained are defined, we are going to save them as .json file in the model folder that we created previously. This .json file keeps tract of the network and model parameters in a structured way."
   ]
  },
  {
   "cell_type": "code",
   "execution_count": null,
   "metadata": {},
   "outputs": [],
   "source": [
    "if os.path.exists(path_model+filename):\n",
    "    with open(path_model+filename, 'r') as fd:\n",
    "        config_network = json.loads(fd.read())\n",
    "else: # There is no config file for the moment\n",
    "    with open(path_model+filename, 'w') as f:\n",
    "        json.dump(config, f, indent=2)\n",
    "    with open(path_model+filename, 'r') as fd:\n",
    "        config_network = json.loads(fd.read())"
   ]
  },
  {
   "cell_type": "code",
   "execution_count": null,
   "metadata": {},
   "outputs": [],
   "source": []
  },
  {
   "cell_type": "code",
   "execution_count": null,
   "metadata": {},
   "outputs": [],
   "source": []
  },
  {
   "cell_type": "code",
   "execution_count": null,
   "metadata": {},
   "outputs": [],
   "source": []
  },
  {
   "cell_type": "code",
   "execution_count": null,
   "metadata": {},
   "outputs": [],
   "source": []
  },
  {
   "cell_type": "code",
   "execution_count": null,
   "metadata": {},
   "outputs": [],
   "source": []
  },
  {
   "cell_type": "code",
   "execution_count": null,
   "metadata": {},
   "outputs": [],
   "source": []
  },
  {
   "cell_type": "code",
   "execution_count": 2,
   "metadata": {},
   "outputs": [],
   "source": [
    "filename = '/config_network.json'\n",
    "trainingset_name = 'SEM_3c_256'\n",
    "path_training = '/Users/rudinakaprata/Dropbox/SEM_3c_256/training'"
   ]
  },
  {
   "cell_type": "code",
   "execution_count": null,
   "metadata": {},
   "outputs": [],
   "source": []
  },
  {
   "cell_type": "markdown",
   "metadata": {},
   "source": [
    "Toy example:\n",
    "* All convolutions kernels are 3x3\n",
    "* Max pooling is used to downsample the feature maps\n",
    "* 2 convoluation layers per depth (i.e. Conv-Conv-Downsample-Conv-Conv-Downsample-...)\n",
    "* Number of feature channels: 5, then 10, then 15.\n"
   ]
  },
  {
   "cell_type": "code",
   "execution_count": null,
   "metadata": {},
   "outputs": [],
   "source": []
  },
  {
   "cell_type": "code",
   "execution_count": null,
   "metadata": {},
   "outputs": [],
   "source": []
  },
  {
   "cell_type": "code",
   "execution_count": 3,
   "metadata": {},
   "outputs": [],
   "source": [
    "\n"
   ]
  },
  {
   "cell_type": "code",
   "execution_count": null,
   "metadata": {},
   "outputs": [],
   "source": []
  },
  {
   "cell_type": "code",
   "execution_count": null,
   "metadata": {},
   "outputs": [],
   "source": []
  },
  {
   "cell_type": "code",
   "execution_count": null,
   "metadata": {},
   "outputs": [],
   "source": []
  },
  {
   "cell_type": "code",
   "execution_count": null,
   "metadata": {},
   "outputs": [],
   "source": []
  },
  {
   "cell_type": "code",
   "execution_count": 5,
   "metadata": {},
   "outputs": [],
   "source": [
    "# Save config params of the network as configuration file (.json)\n",
    "\n",
    "if os.path.exists(path_model+filename):\n",
    "    with open(path_model+filename, 'r') as fd:\n",
    "        config_network = json.loads(fd.read())\n",
    "else: # There is no config file for the moment\n",
    "    with open(path_model+filename, 'w') as f:\n",
    "        json.dump(config, f, indent=2)\n",
    "    with open(path_model+filename, 'r') as fd:\n",
    "        config_network = json.loads(fd.read())"
   ]
  },
  {
   "cell_type": "code",
   "execution_count": 6,
   "metadata": {},
   "outputs": [
    {
     "name": "stdout",
     "output_type": "stream",
     "text": [
      "('Layer: ', 0, ' Conv: ', 0, 'Features: ', [1, 5])\n",
      "('Size:', 3)\n",
      "('Layer: ', 0, ' Conv: ', 1, 'Features: ', [5, 5])\n",
      "('Size:', 3)\n",
      "('Layer: ', 1, ' Conv: ', 0, 'Features: ', [5, 10])\n",
      "('Size:', 3)\n",
      "('Layer: ', 1, ' Conv: ', 1, 'Features: ', [10, 10])\n",
      "('Size:', 3)\n",
      "('Layer: ', 2, ' Conv: ', 0, 'Features: ', [10, 15])\n",
      "('Size:', 3)\n",
      "('Layer: ', 2, ' Conv: ', 1, 'Features: ', [15, 15])\n",
      "('Size:', 3)\n",
      "('Layer: ', 0, ' Conv: ', 0, 'Features: ', [1, 5])\n",
      "('Size:', 3)\n",
      "('Layer: ', 0, ' Conv: ', 1, 'Features: ', [5, 5])\n",
      "('Size:', 3)\n",
      "('Layer: ', 1, ' Conv: ', 0, 'Features: ', [5, 10])\n",
      "('Size:', 3)\n",
      "('Layer: ', 1, ' Conv: ', 1, 'Features: ', [10, 10])\n",
      "('Size:', 3)\n",
      "('Layer: ', 2, ' Conv: ', 0, 'Features: ', [10, 15])\n",
      "('Size:', 3)\n",
      "('Layer: ', 2, ' Conv: ', 1, 'Features: ', [15, 15])\n",
      "('Size:', 3)\n",
      "Total number of parameters to train: 16463\n",
      "WARNING:tensorflow:From /Users/rudinakaprata/Documents/Aldo/ads_feb/axondeepseg/AxonDeepSeg/train_network.py:170: softmax_cross_entropy_with_logits (from tensorflow.python.ops.nn_ops) is deprecated and will be removed in a future version.\n",
      "Instructions for updating:\n",
      "\n",
      "Future major versions of TensorFlow will allow gradients to flow\n",
      "into the labels input on backprop by default.\n",
      "\n",
      "See @{tf.nn.softmax_cross_entropy_with_logits_v2}.\n",
      "\n",
      "training start\n",
      "Weighted cost selected\n",
      "2018-06-04 13:56:25.419034-epoch:1-loss:1.0103276202438076-acc:0.5762572671295306\n",
      "2018-06-04 13:58:56.878024-epoch:2-loss:0.999487985711579-acc:0.4903358674924308\n",
      "2018-06-04 14:01:29.058160-epoch:3-loss:0.9720179963549342-acc:0.49891732646784653\n",
      "2018-06-04 14:04:08.939442-epoch:4-loss:0.9506369610445216-acc:0.507634575213861\n",
      "2018-06-04 14:06:40.579115-epoch:5-loss:0.9424211443017384-acc:0.5098395391341743\n",
      "Model saved in file: ../models/2018-06-04_13-53-39/model.ckpt\n"
     ]
    },
    {
     "ename": "KeyboardInterrupt",
     "evalue": "",
     "output_type": "error",
     "traceback": [
      "\u001b[0;31m---------------------------------------------------------------------------\u001b[0m",
      "\u001b[0;31mKeyboardInterrupt\u001b[0m                         Traceback (most recent call last)",
      "\u001b[0;32m<ipython-input-6-07277617e261>\u001b[0m in \u001b[0;36m<module>\u001b[0;34m()\u001b[0m\n\u001b[1;32m      1\u001b[0m \u001b[0;31m# Launch the training step\u001b[0m\u001b[0;34m\u001b[0m\u001b[0;34m\u001b[0m\u001b[0m\n\u001b[0;32m----> 2\u001b[0;31m \u001b[0mtrain_model\u001b[0m\u001b[0;34m(\u001b[0m\u001b[0mpath_training\u001b[0m\u001b[0;34m,\u001b[0m \u001b[0mpath_model\u001b[0m\u001b[0;34m,\u001b[0m \u001b[0mconfig\u001b[0m\u001b[0;34m)\u001b[0m\u001b[0;34m\u001b[0m\u001b[0m\n\u001b[0m",
      "\u001b[0;32m/Users/rudinakaprata/Documents/Aldo/ads_feb/axondeepseg/AxonDeepSeg/train_network.py\u001b[0m in \u001b[0;36mtrain_model\u001b[0;34m(path_trainingset, path_model, config, path_model_init, save_trainable, gpu, debug_mode, gpu_per)\u001b[0m\n\u001b[1;32m    365\u001b[0m                                                                              \u001b[0mweights_modifier\u001b[0m\u001b[0;34m=\u001b[0m\u001b[0mweights_modifier\u001b[0m\u001b[0;34m,\u001b[0m\u001b[0;34m\u001b[0m\u001b[0m\n\u001b[1;32m    366\u001b[0m                                                                              \u001b[0meach_sample_once\u001b[0m\u001b[0;34m=\u001b[0m\u001b[0mFalse\u001b[0m\u001b[0;34m,\u001b[0m\u001b[0;34m\u001b[0m\u001b[0m\n\u001b[0;32m--> 367\u001b[0;31m                                                                              data_aug_verbose=data_aug_verbose)\n\u001b[0m\u001b[1;32m    368\u001b[0m                 \u001b[0;31m# Generating the arguments of the session.run call.\u001b[0m\u001b[0;34m\u001b[0m\u001b[0;34m\u001b[0m\u001b[0m\n\u001b[1;32m    369\u001b[0m                 \u001b[0mfeed_dict_train\u001b[0m \u001b[0;34m=\u001b[0m \u001b[0;34m{\u001b[0m\u001b[0mx\u001b[0m\u001b[0;34m:\u001b[0m \u001b[0mbatch_x\u001b[0m\u001b[0;34m,\u001b[0m \u001b[0my\u001b[0m\u001b[0;34m:\u001b[0m \u001b[0mbatch_y\u001b[0m\u001b[0;34m,\u001b[0m \u001b[0mspatial_weights\u001b[0m\u001b[0;34m:\u001b[0m \u001b[0mweight\u001b[0m\u001b[0;34m,\u001b[0m \u001b[0mkeep_prob\u001b[0m\u001b[0;34m:\u001b[0m \u001b[0mdropout\u001b[0m\u001b[0;34m,\u001b[0m \u001b[0mphase\u001b[0m\u001b[0;34m:\u001b[0m \u001b[0mTrue\u001b[0m\u001b[0;34m}\u001b[0m\u001b[0;34m\u001b[0m\u001b[0m\n",
      "\u001b[0;32m/Users/rudinakaprata/Documents/Aldo/ads_feb/axondeepseg/AxonDeepSeg/data_management/input_data.pyc\u001b[0m in \u001b[0;36mnext_batch_WithWeights\u001b[0;34m(self, augmented_data_, weights_modifier, each_sample_once, data_aug_verbose)\u001b[0m\n\u001b[1;32m    267\u001b[0m \u001b[0;34m\u001b[0m\u001b[0m\n\u001b[1;32m    268\u001b[0m             image, real_mask, real_weights = self.apply_data_augmentation([image, real_mask, real_weights],\n\u001b[0;32m--> 269\u001b[0;31m                                                                           augmented_data, data_aug_verbose)\n\u001b[0m\u001b[1;32m    270\u001b[0m \u001b[0;34m\u001b[0m\u001b[0m\n\u001b[1;32m    271\u001b[0m             \u001b[0;31m# Normalisation of the image\u001b[0m\u001b[0;34m\u001b[0m\u001b[0;34m\u001b[0m\u001b[0m\n",
      "\u001b[0;32m/Users/rudinakaprata/Documents/Aldo/ads_feb/axondeepseg/AxonDeepSeg/data_management/input_data.pyc\u001b[0m in \u001b[0;36mapply_data_augmentation\u001b[0;34m(self, element, augmented_data, data_aug_verbose)\u001b[0m\n\u001b[1;32m    348\u001b[0m                                                 \u001b[0mtransformations\u001b[0m\u001b[0;34m=\u001b[0m\u001b[0maugmented_data\u001b[0m\u001b[0;34m,\u001b[0m\u001b[0;34m\u001b[0m\u001b[0m\n\u001b[1;32m    349\u001b[0m                                                 \u001b[0mthresh_indices\u001b[0m\u001b[0;34m=\u001b[0m\u001b[0mself\u001b[0m\u001b[0;34m.\u001b[0m\u001b[0mthresh_indices\u001b[0m\u001b[0;34m,\u001b[0m\u001b[0;34m\u001b[0m\u001b[0m\n\u001b[0;32m--> 350\u001b[0;31m                                                 verbose=data_aug_verbose)\n\u001b[0m\u001b[1;32m    351\u001b[0m \u001b[0;34m\u001b[0m\u001b[0m\n\u001b[1;32m    352\u001b[0m         \u001b[0;32melif\u001b[0m \u001b[0maugmented_data\u001b[0m\u001b[0;34m[\u001b[0m\u001b[0;34m'type'\u001b[0m\u001b[0;34m]\u001b[0m\u001b[0;34m.\u001b[0m\u001b[0mlower\u001b[0m\u001b[0;34m(\u001b[0m\u001b[0;34m)\u001b[0m \u001b[0;34m==\u001b[0m \u001b[0;34m'random'\u001b[0m\u001b[0;34m:\u001b[0m\u001b[0;34m\u001b[0m\u001b[0m\n",
      "\u001b[0;32m/Users/rudinakaprata/Documents/Aldo/ads_feb/axondeepseg/AxonDeepSeg/data_management/input_data.pyc\u001b[0m in \u001b[0;36mall_transformations\u001b[0;34m(patch, thresh_indices, transformations, verbose)\u001b[0m\n\u001b[1;32m     56\u001b[0m \u001b[0;34m\u001b[0m\u001b[0m\n\u001b[1;32m     57\u001b[0m     \u001b[0;32mfor\u001b[0m \u001b[0mtransfo\u001b[0m \u001b[0;32min\u001b[0m \u001b[0mL_transformations\u001b[0m\u001b[0;34m:\u001b[0m\u001b[0;34m\u001b[0m\u001b[0m\n\u001b[0;32m---> 58\u001b[0;31m         \u001b[0mpatch\u001b[0m \u001b[0;34m=\u001b[0m \u001b[0mtransfo\u001b[0m\u001b[0;34m(\u001b[0m\u001b[0mpatch\u001b[0m\u001b[0;34m)\u001b[0m\u001b[0;34m\u001b[0m\u001b[0m\n\u001b[0m\u001b[1;32m     59\u001b[0m \u001b[0;34m\u001b[0m\u001b[0m\n\u001b[1;32m     60\u001b[0m     \u001b[0;32mreturn\u001b[0m \u001b[0mpatch\u001b[0m\u001b[0;34m\u001b[0m\u001b[0m\n",
      "\u001b[0;32m/Users/rudinakaprata/Documents/Aldo/ads_feb/axondeepseg/AxonDeepSeg/data_management/data_augmentation.pyc\u001b[0m in \u001b[0;36melastic\u001b[0;34m(patch, alpha_max, verbose)\u001b[0m\n\u001b[1;32m    204\u001b[0m         \u001b[0;32mprint\u001b[0m \u001b[0;34m'elastic transform alpha coeff: '\u001b[0m\u001b[0;34m,\u001b[0m \u001b[0malpha\u001b[0m\u001b[0;34m\u001b[0m\u001b[0m\n\u001b[1;32m    205\u001b[0m \u001b[0;34m\u001b[0m\u001b[0m\n\u001b[0;32m--> 206\u001b[0;31m     \u001b[0mpatch_deformed\u001b[0m \u001b[0;34m=\u001b[0m \u001b[0melastic_transform\u001b[0m\u001b[0;34m(\u001b[0m\u001b[0mpatch\u001b[0m\u001b[0;34m,\u001b[0m \u001b[0malpha\u001b[0m \u001b[0;34m=\u001b[0m \u001b[0malpha\u001b[0m\u001b[0;34m,\u001b[0m \u001b[0msigma\u001b[0m \u001b[0;34m=\u001b[0m \u001b[0;36m4\u001b[0m\u001b[0;34m)\u001b[0m\u001b[0;34m\u001b[0m\u001b[0m\n\u001b[0m\u001b[1;32m    207\u001b[0m     \u001b[0;32mreturn\u001b[0m \u001b[0mpatch_deformed\u001b[0m\u001b[0;34m\u001b[0m\u001b[0m\n\u001b[1;32m    208\u001b[0m \u001b[0;34m\u001b[0m\u001b[0m\n",
      "\u001b[0;32m/Users/rudinakaprata/Documents/Aldo/ads_feb/axondeepseg/AxonDeepSeg/data_management/data_augmentation.pyc\u001b[0m in \u001b[0;36melastic_transform\u001b[0;34m(patch, alpha, sigma)\u001b[0m\n\u001b[1;32m    183\u001b[0m \u001b[0;34m\u001b[0m\u001b[0m\n\u001b[1;32m    184\u001b[0m     \u001b[0;32mif\u001b[0m \u001b[0mlen\u001b[0m\u001b[0;34m(\u001b[0m\u001b[0mpatch\u001b[0m\u001b[0;34m)\u001b[0m \u001b[0;34m==\u001b[0m \u001b[0;36m3\u001b[0m\u001b[0;34m:\u001b[0m\u001b[0;34m\u001b[0m\u001b[0m\n\u001b[0;32m--> 185\u001b[0;31m         \u001b[0melastic_weights\u001b[0m \u001b[0;34m=\u001b[0m \u001b[0mmap_coordinates\u001b[0m\u001b[0;34m(\u001b[0m\u001b[0mweights\u001b[0m\u001b[0;34m,\u001b[0m \u001b[0mindices\u001b[0m\u001b[0;34m,\u001b[0m \u001b[0morder\u001b[0m\u001b[0;34m=\u001b[0m\u001b[0;36m1\u001b[0m\u001b[0;34m)\u001b[0m\u001b[0;34m.\u001b[0m\u001b[0mreshape\u001b[0m\u001b[0;34m(\u001b[0m\u001b[0mshape\u001b[0m\u001b[0;34m)\u001b[0m\u001b[0;34m\u001b[0m\u001b[0m\n\u001b[0m\u001b[1;32m    186\u001b[0m         \u001b[0melastic_weights\u001b[0m \u001b[0;34m=\u001b[0m \u001b[0mnp\u001b[0m\u001b[0;34m.\u001b[0m\u001b[0marray\u001b[0m\u001b[0;34m(\u001b[0m\u001b[0melastic_weights\u001b[0m\u001b[0;34m)\u001b[0m\u001b[0;34m\u001b[0m\u001b[0m\n\u001b[1;32m    187\u001b[0m \u001b[0;34m\u001b[0m\u001b[0m\n",
      "\u001b[0;32m/Users/rudinakaprata/Documents/Aldo/ads_feb/ads_may/lib/python2.7/site-packages/scipy/ndimage/interpolation.pyc\u001b[0m in \u001b[0;36mmap_coordinates\u001b[0;34m(input, coordinates, output, order, mode, cval, prefilter)\u001b[0m\n\u001b[1;32m    326\u001b[0m                                                    shape=output_shape)\n\u001b[1;32m    327\u001b[0m     _nd_image.geometric_transform(filtered, None, coordinates, None, None,\n\u001b[0;32m--> 328\u001b[0;31m                                   output, order, mode, cval, None, None)\n\u001b[0m\u001b[1;32m    329\u001b[0m     \u001b[0;32mreturn\u001b[0m \u001b[0moutput\u001b[0m\u001b[0;34m\u001b[0m\u001b[0m\n\u001b[1;32m    330\u001b[0m \u001b[0;34m\u001b[0m\u001b[0m\n",
      "\u001b[0;31mKeyboardInterrupt\u001b[0m: "
     ]
    }
   ],
   "source": [
    "# Launch the training step\n",
    "train_model(path_training, path_model, config)"
   ]
  },
  {
   "cell_type": "code",
   "execution_count": null,
   "metadata": {},
   "outputs": [],
   "source": []
  },
  {
   "cell_type": "code",
   "execution_count": null,
   "metadata": {},
   "outputs": [],
   "source": []
  },
  {
   "cell_type": "code",
   "execution_count": null,
   "metadata": {},
   "outputs": [],
   "source": []
  },
  {
   "cell_type": "code",
   "execution_count": null,
   "metadata": {},
   "outputs": [],
   "source": []
  },
  {
   "cell_type": "code",
   "execution_count": 9,
   "metadata": {},
   "outputs": [],
   "source": [
    "import numpy as np\n",
    "from skimage import io\n",
    "from scipy.misc import imread, imsave\n",
    "import os\n",
    "import imageio\n",
    "import json\n",
    "import matplotlib.pyplot as plt\n",
    "from shutil import copy\n",
    "from scipy.misc import imread, imsave\n",
    "\n",
    "from AxonDeepSeg.apply_model import axon_segmentation"
   ]
  },
  {
   "cell_type": "code",
   "execution_count": 36,
   "metadata": {},
   "outputs": [],
   "source": [
    "# Path of image to segment with trained model\n",
    "\n",
    "path_img = '/Users/rudinakaprata/Documents/Aldo/ads_feb/axondeepseg/AxonDeepSeg/data_test/image.png'"
   ]
  },
  {
   "cell_type": "code",
   "execution_count": 37,
   "metadata": {},
   "outputs": [],
   "source": [
    "img = imageio.imread(path_img)\n",
    "path_folder, file_name = os.path.split(path_img)\n",
    "\n",
    "model_name = '2018-06-04_13-53-39'\n",
    "path_model = os.path.join('..','models',model_name)\n",
    "path_configfile = os.path.join(path_model,'config_network.json')\n",
    "with open(path_configfile, 'r') as fd:\n",
    "    config_network = json.loads(fd.read())\n",
    "    \n",
    "mask = imageio.imread(os.path.join(path_folder,'mask.png'))\n",
    "gt_axon = mask > 200\n",
    "gt_axon = gt_axon[:,:,0]\n",
    "gt_myelin = np.logical_and(mask >= 50, mask <= 200)\n",
    "gt_myelin = gt_myelin[:,:,0]"
   ]
  },
  {
   "cell_type": "code",
   "execution_count": 6,
   "metadata": {},
   "outputs": [
    {
     "ename": "NameError",
     "evalue": "name 'axon_segmentation' is not defined",
     "output_type": "error",
     "traceback": [
      "\u001b[0;31m---------------------------------------------------------------------------\u001b[0m",
      "\u001b[0;31mNameError\u001b[0m                                 Traceback (most recent call last)",
      "\u001b[0;32m<ipython-input-6-fcc83d3cd208>\u001b[0m in \u001b[0;36m<module>\u001b[0;34m()\u001b[0m\n\u001b[1;32m      2\u001b[0m \u001b[0mtf\u001b[0m\u001b[0;34m.\u001b[0m\u001b[0mreset_default_graph\u001b[0m\u001b[0;34m(\u001b[0m\u001b[0;34m)\u001b[0m\u001b[0;34m\u001b[0m\u001b[0m\n\u001b[1;32m      3\u001b[0m \u001b[0;34m\u001b[0m\u001b[0m\n\u001b[0;32m----> 4\u001b[0;31m \u001b[0mprediction\u001b[0m \u001b[0;34m=\u001b[0m \u001b[0maxon_segmentation\u001b[0m\u001b[0;34m(\u001b[0m\u001b[0mpath_folder\u001b[0m\u001b[0;34m,\u001b[0m \u001b[0mfile_name\u001b[0m\u001b[0;34m,\u001b[0m \u001b[0mpath_model\u001b[0m\u001b[0;34m,\u001b[0m \u001b[0mconfig_network\u001b[0m\u001b[0;34m,\u001b[0m\u001b[0mverbosity_level\u001b[0m\u001b[0;34m=\u001b[0m\u001b[0;36m3\u001b[0m\u001b[0;34m)\u001b[0m\u001b[0;34m\u001b[0m\u001b[0m\n\u001b[0m\u001b[1;32m      5\u001b[0m \u001b[0;34m\u001b[0m\u001b[0m\n\u001b[1;32m      6\u001b[0m \u001b[0;34m\u001b[0m\u001b[0m\n",
      "\u001b[0;31mNameError\u001b[0m: name 'axon_segmentation' is not defined"
     ]
    }
   ],
   "source": [
    "import tensorflow as tf\n",
    "tf.reset_default_graph()\n",
    "\n",
    "prediction = axon_segmentation(path_folder, file_name, path_model, config_network,verbosity_level=3)\n",
    "\n",
    "\n",
    "\n",
    "\n",
    "\n"
   ]
  },
  {
   "cell_type": "code",
   "execution_count": 30,
   "metadata": {},
   "outputs": [
    {
     "ename": "TypeError",
     "evalue": "Invalid dimensions for image data",
     "output_type": "error",
     "traceback": [
      "\u001b[0;31m---------------------------------------------------------------------------\u001b[0m",
      "\u001b[0;31mTypeError\u001b[0m                                 Traceback (most recent call last)",
      "\u001b[0;32m<ipython-input-30-ca87a1bd6b88>\u001b[0m in \u001b[0;36m<module>\u001b[0;34m()\u001b[0m\n\u001b[1;32m      1\u001b[0m \u001b[0mplt\u001b[0m\u001b[0;34m.\u001b[0m\u001b[0mfigure\u001b[0m\u001b[0;34m(\u001b[0m\u001b[0mfigsize\u001b[0m\u001b[0;34m=\u001b[0m\u001b[0;34m(\u001b[0m\u001b[0;36m13\u001b[0m\u001b[0;34m,\u001b[0m\u001b[0;36m10\u001b[0m\u001b[0;34m)\u001b[0m\u001b[0;34m)\u001b[0m\u001b[0;34m\u001b[0m\u001b[0m\n\u001b[1;32m      2\u001b[0m \u001b[0mplt\u001b[0m\u001b[0;34m.\u001b[0m\u001b[0mtitle\u001b[0m\u001b[0;34m(\u001b[0m\u001b[0;34m'Prediction with the trained model'\u001b[0m\u001b[0;34m)\u001b[0m\u001b[0;34m\u001b[0m\u001b[0m\n\u001b[0;32m----> 3\u001b[0;31m \u001b[0mplt\u001b[0m\u001b[0;34m.\u001b[0m\u001b[0mimshow\u001b[0m\u001b[0;34m(\u001b[0m\u001b[0mprediction\u001b[0m\u001b[0;34m)\u001b[0m\u001b[0;34m\u001b[0m\u001b[0m\n\u001b[0m",
      "\u001b[0;32m/Users/rudinakaprata/Documents/Aldo/ads_feb/ads_may/lib/python2.7/site-packages/matplotlib/pyplot.pyc\u001b[0m in \u001b[0;36mimshow\u001b[0;34m(X, cmap, norm, aspect, interpolation, alpha, vmin, vmax, origin, extent, shape, filternorm, filterrad, imlim, resample, url, hold, data, **kwargs)\u001b[0m\n\u001b[1;32m   3203\u001b[0m                         \u001b[0mfilternorm\u001b[0m\u001b[0;34m=\u001b[0m\u001b[0mfilternorm\u001b[0m\u001b[0;34m,\u001b[0m \u001b[0mfilterrad\u001b[0m\u001b[0;34m=\u001b[0m\u001b[0mfilterrad\u001b[0m\u001b[0;34m,\u001b[0m\u001b[0;34m\u001b[0m\u001b[0m\n\u001b[1;32m   3204\u001b[0m                         \u001b[0mimlim\u001b[0m\u001b[0;34m=\u001b[0m\u001b[0mimlim\u001b[0m\u001b[0;34m,\u001b[0m \u001b[0mresample\u001b[0m\u001b[0;34m=\u001b[0m\u001b[0mresample\u001b[0m\u001b[0;34m,\u001b[0m \u001b[0murl\u001b[0m\u001b[0;34m=\u001b[0m\u001b[0murl\u001b[0m\u001b[0;34m,\u001b[0m \u001b[0mdata\u001b[0m\u001b[0;34m=\u001b[0m\u001b[0mdata\u001b[0m\u001b[0;34m,\u001b[0m\u001b[0;34m\u001b[0m\u001b[0m\n\u001b[0;32m-> 3205\u001b[0;31m                         **kwargs)\n\u001b[0m\u001b[1;32m   3206\u001b[0m     \u001b[0;32mfinally\u001b[0m\u001b[0;34m:\u001b[0m\u001b[0;34m\u001b[0m\u001b[0m\n\u001b[1;32m   3207\u001b[0m         \u001b[0max\u001b[0m\u001b[0;34m.\u001b[0m\u001b[0m_hold\u001b[0m \u001b[0;34m=\u001b[0m \u001b[0mwashold\u001b[0m\u001b[0;34m\u001b[0m\u001b[0m\n",
      "\u001b[0;32m/Users/rudinakaprata/Documents/Aldo/ads_feb/ads_may/lib/python2.7/site-packages/matplotlib/__init__.pyc\u001b[0m in \u001b[0;36minner\u001b[0;34m(ax, *args, **kwargs)\u001b[0m\n\u001b[1;32m   1853\u001b[0m                         \u001b[0;34m\"the Matplotlib list!)\"\u001b[0m \u001b[0;34m%\u001b[0m \u001b[0;34m(\u001b[0m\u001b[0mlabel_namer\u001b[0m\u001b[0;34m,\u001b[0m \u001b[0mfunc\u001b[0m\u001b[0;34m.\u001b[0m\u001b[0m__name__\u001b[0m\u001b[0;34m)\u001b[0m\u001b[0;34m,\u001b[0m\u001b[0;34m\u001b[0m\u001b[0m\n\u001b[1;32m   1854\u001b[0m                         RuntimeWarning, stacklevel=2)\n\u001b[0;32m-> 1855\u001b[0;31m             \u001b[0;32mreturn\u001b[0m \u001b[0mfunc\u001b[0m\u001b[0;34m(\u001b[0m\u001b[0max\u001b[0m\u001b[0;34m,\u001b[0m \u001b[0;34m*\u001b[0m\u001b[0margs\u001b[0m\u001b[0;34m,\u001b[0m \u001b[0;34m**\u001b[0m\u001b[0mkwargs\u001b[0m\u001b[0;34m)\u001b[0m\u001b[0;34m\u001b[0m\u001b[0m\n\u001b[0m\u001b[1;32m   1856\u001b[0m \u001b[0;34m\u001b[0m\u001b[0m\n\u001b[1;32m   1857\u001b[0m         inner.__doc__ = _add_data_doc(inner.__doc__,\n",
      "\u001b[0;32m/Users/rudinakaprata/Documents/Aldo/ads_feb/ads_may/lib/python2.7/site-packages/matplotlib/axes/_axes.pyc\u001b[0m in \u001b[0;36mimshow\u001b[0;34m(self, X, cmap, norm, aspect, interpolation, alpha, vmin, vmax, origin, extent, shape, filternorm, filterrad, imlim, resample, url, **kwargs)\u001b[0m\n\u001b[1;32m   5485\u001b[0m                               resample=resample, **kwargs)\n\u001b[1;32m   5486\u001b[0m \u001b[0;34m\u001b[0m\u001b[0m\n\u001b[0;32m-> 5487\u001b[0;31m         \u001b[0mim\u001b[0m\u001b[0;34m.\u001b[0m\u001b[0mset_data\u001b[0m\u001b[0;34m(\u001b[0m\u001b[0mX\u001b[0m\u001b[0;34m)\u001b[0m\u001b[0;34m\u001b[0m\u001b[0m\n\u001b[0m\u001b[1;32m   5488\u001b[0m         \u001b[0mim\u001b[0m\u001b[0;34m.\u001b[0m\u001b[0mset_alpha\u001b[0m\u001b[0;34m(\u001b[0m\u001b[0malpha\u001b[0m\u001b[0;34m)\u001b[0m\u001b[0;34m\u001b[0m\u001b[0m\n\u001b[1;32m   5489\u001b[0m         \u001b[0;32mif\u001b[0m \u001b[0mim\u001b[0m\u001b[0;34m.\u001b[0m\u001b[0mget_clip_path\u001b[0m\u001b[0;34m(\u001b[0m\u001b[0;34m)\u001b[0m \u001b[0;32mis\u001b[0m \u001b[0mNone\u001b[0m\u001b[0;34m:\u001b[0m\u001b[0;34m\u001b[0m\u001b[0m\n",
      "\u001b[0;32m/Users/rudinakaprata/Documents/Aldo/ads_feb/ads_may/lib/python2.7/site-packages/matplotlib/image.pyc\u001b[0m in \u001b[0;36mset_data\u001b[0;34m(self, A)\u001b[0m\n\u001b[1;32m    651\u001b[0m         if not (self._A.ndim == 2\n\u001b[1;32m    652\u001b[0m                 or self._A.ndim == 3 and self._A.shape[-1] in [3, 4]):\n\u001b[0;32m--> 653\u001b[0;31m             \u001b[0;32mraise\u001b[0m \u001b[0mTypeError\u001b[0m\u001b[0;34m(\u001b[0m\u001b[0;34m\"Invalid dimensions for image data\"\u001b[0m\u001b[0;34m)\u001b[0m\u001b[0;34m\u001b[0m\u001b[0m\n\u001b[0m\u001b[1;32m    654\u001b[0m \u001b[0;34m\u001b[0m\u001b[0m\n\u001b[1;32m    655\u001b[0m         \u001b[0;32mif\u001b[0m \u001b[0mself\u001b[0m\u001b[0;34m.\u001b[0m\u001b[0m_A\u001b[0m\u001b[0;34m.\u001b[0m\u001b[0mndim\u001b[0m \u001b[0;34m==\u001b[0m \u001b[0;36m3\u001b[0m\u001b[0;34m:\u001b[0m\u001b[0;34m\u001b[0m\u001b[0m\n",
      "\u001b[0;31mTypeError\u001b[0m: Invalid dimensions for image data"
     ]
    },
    {
     "data": {
      "image/png": "[encoded data removed]",
      "text/plain": [
       "<Figure size 936x720 with 1 Axes>"
      ]
     },
     "metadata": {},
     "output_type": "display_data"
    }
   ],
   "source": [
    "plt.figure(figsize=(13,10))\n",
    "plt.title('Prediction with the trained model')\n",
    "plt.imshow(prediction)"
   ]
  },
  {
   "cell_type": "code",
   "execution_count": null,
   "metadata": {},
   "outputs": [],
   "source": []
  },
  {
   "cell_type": "code",
   "execution_count": null,
   "metadata": {},
   "outputs": [],
   "source": []
  },
  {
   "cell_type": "code",
   "execution_count": 35,
   "metadata": {},
   "outputs": [
    {
     "name": "stdout",
     "output_type": "stream",
     "text": [
      "[array([[1, 1, 1, ..., 1, 1, 1],\n",
      "       [1, 1, 1, ..., 2, 2, 1],\n",
      "       [1, 1, 1, ..., 2, 2, 1],\n",
      "       ...,\n",
      "       [1, 2, 2, ..., 2, 2, 1],\n",
      "       [1, 2, 2, ..., 2, 2, 1],\n",
      "       [1, 1, 1, ..., 1, 1, 1]], dtype=uint8)]\n"
     ]
    }
   ],
   "source": [
    "print(prediction)"
   ]
  },
  {
   "cell_type": "code",
   "execution_count": null,
   "metadata": {},
   "outputs": [],
   "source": []
  },
  {
   "cell_type": "code",
   "execution_count": null,
   "metadata": {},
   "outputs": [],
   "source": []
  },
  {
   "cell_type": "code",
   "execution_count": null,
   "metadata": {},
   "outputs": [],
   "source": []
  },
  {
   "cell_type": "code",
   "execution_count": null,
   "metadata": {},
   "outputs": [],
   "source": []
  },
  {
   "cell_type": "code",
   "execution_count": null,
   "metadata": {},
   "outputs": [],
   "source": []
  },
  {
   "cell_type": "code",
   "execution_count": null,
   "metadata": {},
   "outputs": [],
   "source": []
  },
  {
   "cell_type": "code",
   "execution_count": null,
   "metadata": {},
   "outputs": [],
   "source": []
  },
  {
   "cell_type": "code",
   "execution_count": null,
   "metadata": {},
   "outputs": [],
   "source": []
  },
  {
   "cell_type": "code",
   "execution_count": null,
   "metadata": {},
   "outputs": [],
   "source": []
  },
  {
   "cell_type": "code",
   "execution_count": null,
   "metadata": {},
   "outputs": [],
   "source": []
  },
  {
   "cell_type": "code",
   "execution_count": null,
   "metadata": {},
   "outputs": [],
   "source": []
  },
  {
   "cell_type": "code",
   "execution_count": null,
   "metadata": {},
   "outputs": [],
   "source": []
  },
  {
   "cell_type": "code",
   "execution_count": null,
   "metadata": {},
   "outputs": [],
   "source": []
  },
  {
   "cell_type": "code",
   "execution_count": null,
   "metadata": {},
   "outputs": [],
   "source": []
  },
  {
   "cell_type": "code",
   "execution_count": null,
   "metadata": {},
   "outputs": [],
   "source": []
  },
  {
   "cell_type": "code",
   "execution_count": null,
   "metadata": {},
   "outputs": [],
   "source": []
  },
  {
   "cell_type": "code",
   "execution_count": null,
   "metadata": {},
   "outputs": [],
   "source": []
  },
  {
   "cell_type": "code",
   "execution_count": null,
   "metadata": {},
   "outputs": [],
   "source": []
  },
  {
   "cell_type": "code",
   "execution_count": null,
   "metadata": {},
   "outputs": [],
   "source": []
  },
  {
   "cell_type": "code",
   "execution_count": null,
   "metadata": {},
   "outputs": [],
   "source": []
  },
  {
   "cell_type": "code",
   "execution_count": null,
   "metadata": {},
   "outputs": [],
   "source": []
  },
  {
   "cell_type": "code",
   "execution_count": null,
   "metadata": {},
   "outputs": [],
   "source": []
  },
  {
   "cell_type": "code",
   "execution_count": null,
   "metadata": {},
   "outputs": [],
   "source": []
  },
  {
   "cell_type": "code",
   "execution_count": 8,
   "metadata": {},
   "outputs": [
    {
     "name": "stdout",
     "output_type": "stream",
     "text": [
      "('weighted', 'cost')\n"
     ]
    }
   ],
   "source": [
    "a='weighted_cost'\n",
    "key1, key2 = a.split('_')\n",
    "print(key1,key2)"
   ]
  },
  {
   "cell_type": "code",
   "execution_count": 21,
   "metadata": {},
   "outputs": [
    {
     "name": "stdout",
     "output_type": "stream",
     "text": [
      "{'random_rotation': {'activate': False}, 'elastic': {'activate': True}, 'flipping': {'activate': True}, 'shifting': {'activate': True}, 'noise_addition': {'activate': False}, 'rescaling': {'activate': False}, 'type': 'all'}\n"
     ]
    }
   ],
   "source": [
    "from AxonDeepSeg.train_network_tools import *\n",
    "\n",
    "data_augmentation = generate_dict_da(config)\n",
    "print(data_augmentation)\n",
    "\n"
   ]
  },
  {
   "cell_type": "code",
   "execution_count": 22,
   "metadata": {},
   "outputs": [
    {
     "name": "stdout",
     "output_type": "stream",
     "text": [
      "{'boundaries_activate': False, 'balanced_weights': [1.1, 1, 1.3], 'activate': True, 'boundaries_sigma': 2, 'balanced_activate': True}\n"
     ]
    }
   ],
   "source": [
    "weights_modifier = generate_dict_weights(config)\n",
    "print(weights_modifier)"
   ]
  },
  {
   "cell_type": "code",
   "execution_count": null,
   "metadata": {},
   "outputs": [],
   "source": []
  },
  {
   "cell_type": "code",
   "execution_count": null,
   "metadata": {},
   "outputs": [],
   "source": []
  },
  {
   "cell_type": "code",
   "execution_count": null,
   "metadata": {},
   "outputs": [],
   "source": []
  },
  {
   "cell_type": "code",
   "execution_count": null,
   "metadata": {},
   "outputs": [],
   "source": []
  },
  {
   "cell_type": "code",
   "execution_count": null,
   "metadata": {},
   "outputs": [],
   "source": []
  },
  {
   "cell_type": "code",
   "execution_count": null,
   "metadata": {},
   "outputs": [],
   "source": []
  },
  {
   "cell_type": "code",
   "execution_count": null,
   "metadata": {},
   "outputs": [],
   "source": []
  },
  {
   "cell_type": "code",
   "execution_count": null,
   "metadata": {},
   "outputs": [],
   "source": []
  },
  {
   "cell_type": "code",
   "execution_count": null,
   "metadata": {},
   "outputs": [],
   "source": [
    "config = {\n",
    "  \"learning_rate_decay_period\": 24000, \n",
    "  \"batch_norm_decay_decay_period\": 16000, \n",
    "  \"learning_rate_decay_type\": \"polynomial\", \n",
    "  \"batch_norm_decay_decay_activate\": True, \n",
    "  \"learning_rate_decay_activate\": True, \n",
    "  \"learning_rate_decay_rate\": 0.99, \n",
    "  \"batch_norm_decay_ending_decay\": 0.9, \n",
    "  \"depth\": 3, \n",
    "  \"weighted_cost_activate\": False, \n",
    "  \"weighted_cost_balanced_activate\": False, \n",
    "  \"weighted_cost_balanced_weights\": [1, 1], \n",
    "  \"weighted_cost_boundaries_sigma\": 2, \n",
    "  \"weighted_cost_boundaries_activate\": False,\n",
    "  \"batch_norm_activate\": True, \n",
    "  \"thresholds\": [0, 0.5], \n",
    "  \"trainingset_patchsize\": 512, \n",
    "  \"learning_rate\": 0.001, \n",
    "  \"downsampling\": \"maxpooling\", \n",
    "  \"batch_size\": 8, \n",
    "  \"da-type\": \"all\", \n",
    "  \"n_classes\": 2, \n",
    "  \"batch_norm_decay_starting_decay\": 0.7, \n",
    "  \"trainingset\": \"data_training\", \n",
    "  \"size_of_convolutions_per_layer\": [[3,3],[3,3],[3,3],[3,3]], \n",
    "  \"dropout\": 0.75, \n",
    "  \"convolution_per_layer\": [2, 2, 2], \n",
    "  \"features_per_convolution\": [[[10,15],[15,20]],[[20,25],[25,30]],[[30,35],[35,40]]]\n",
    "}"
   ]
  },
  {
   "cell_type": "code",
   "execution_count": null,
   "metadata": {},
   "outputs": [],
   "source": []
  },
  {
   "cell_type": "code",
   "execution_count": null,
   "metadata": {},
   "outputs": [],
   "source": []
  },
  {
   "cell_type": "code",
   "execution_count": 13,
   "metadata": {},
   "outputs": [],
   "source": [
    "config = {\n",
    "  \"learning_rate_decay_period\": 24000, \n",
    "  \"batch_norm_decay_decay_period\": 16000, \n",
    "  \"learning_rate_decay_type\": \"polynomial\", \n",
    "  \"batch_norm_decay_decay_activate\": True, \n",
    "  \"learning_rate_decay_activate\": True, \n",
    "  \"learning_rate_decay_rate\": 0.99, \n",
    "  \"batch_norm_decay_ending_decay\": 0.9, \n",
    "  \"depth\": 4, \n",
    "  \"weighted_cost_activate\": True, \n",
    "  \"weighted_cost_balanced_activate\": True, \n",
    "  \"weighted_cost_balanced_weights\": [1.1, 1, 1.3], \n",
    "  \"weighted_cost_boundaries_sigma\": 2, \n",
    "  \"weighted_cost_boundaries_activate\": False,\n",
    "  \"batch_norm_activate\": True, \n",
    "  \"thresholds\": [0, 0.2, 0.8], \n",
    "  \"trainingset_patchsize\": 512, \n",
    "  \"learning_rate\": 0.001, \n",
    "  \"downsampling\": \"convolution\", \n",
    "  \"batch_size\": 8, \n",
    "  \"da-type\": \"all\", \n",
    "  \"da-random_rotation-activate\": False, \n",
    "  \"da-noise_addition-activate\": False, \n",
    "  \"da-elastic-activate\": True, \n",
    "  \"da-shifting-activate\": True, \n",
    "  \"da-flipping-activate\": True, \n",
    "  \"da-rescaling-activate\": False,\n",
    "  \"n_classes\": 3, \n",
    "  \"batch_norm_decay_starting_decay\": 0.7, \n",
    "  \"trainingset\": \"SEM_3c_512\", \n",
    "  \"size_of_convolutions_per_layer\": [[5, 5, 5], [3, 3, 3], [3, 3, 3], [3, 3, 3]], \n",
    "  \"dropout\": 0.75, \n",
    "  \"convolution_per_layer\": [3, 3, 3, 3], \n",
    "  \"features_per_convolution\": [[[1, 16], [16, 16], [16, 16]], \n",
    "                               [[16, 32], [32, 32], [32, 32]], \n",
    "                               [[32, 64], [64, 64], [64, 64]], \n",
    "                               [[64, 128], [128, 128], [128, 128]]]\n",
    "}"
   ]
  },
  {
   "cell_type": "code",
   "execution_count": null,
   "metadata": {},
   "outputs": [],
   "source": []
  },
  {
   "cell_type": "code",
   "execution_count": 7,
   "metadata": {},
   "outputs": [
    {
     "name": "stdout",
     "output_type": "stream",
     "text": [
      "{'learning_rate_decay_period': 24000, 'trainingset_patchsize': 256, 'thresholds': [0, 0.2, 0.8], 'batch_norm_decay_decay_period': 16000, 'learning_rate_decay_type': 'polynomial', 'da-type': 'all', 'batch_size': 8, 'convolution_per_layer': [2, 2, 2, 2], 'da-random_rotation-activate': False, 'features_per_convolution': [[[1, 5], [5, 5]], [[5, 10], [10, 10]], [[10, 15], [15, 15]], [[15, 20], [20, 20]]], 'batch_norm_activate': True, 'learning_rate_decay_rate': 0.99, 'batch_norm_decay_ending_decay': 0.9, 'da-shifting-activate': True, 'weighted_cost-balanced_weights': [1.1, 1, 1.3], 'dataset_variance': 30, 'learning_rate': 0.001, 'da-elastic-activate': True, 'da-noise_addition-activate': False, 'weighted_cost-activate': True, 'dataset_mean': 128, 'downsampling': 'maxpooling', 'size_of_convolutions_per_layer': [[3, 3], [3, 3], [3, 3], [3, 3]], 'weighted_cost-boundaries_sigma': 2, 'weighted_cost-boundaries_activate': False, 'batch_norm_decay_decay_activate': True, 'depth': 4, 'da-flipping-activate': True, 'batch_norm_decay_starting_decay': 0.7, 'n_classes': 3, 'learning_rate_decay_activate': True, 'trainingset': 'SEM_3c_256', 'dropout': 0.75, 'weighted_cost-balanced_activate': True, 'da-rescaling-activate': False}\n"
     ]
    }
   ],
   "source": [
    "print(config)"
   ]
  },
  {
   "cell_type": "code",
   "execution_count": null,
   "metadata": {},
   "outputs": [],
   "source": []
  },
  {
   "cell_type": "code",
   "execution_count": null,
   "metadata": {},
   "outputs": [],
   "source": []
  },
  {
   "cell_type": "code",
   "execution_count": null,
   "metadata": {},
   "outputs": [],
   "source": []
  },
  {
   "cell_type": "code",
   "execution_count": null,
   "metadata": {},
   "outputs": [],
   "source": []
  },
  {
   "cell_type": "code",
   "execution_count": null,
   "metadata": {},
   "outputs": [],
   "source": []
  },
  {
   "cell_type": "code",
   "execution_count": null,
   "metadata": {},
   "outputs": [],
   "source": []
  },
  {
   "cell_type": "code",
   "execution_count": null,
   "metadata": {},
   "outputs": [],
   "source": []
  },
  {
   "cell_type": "code",
   "execution_count": null,
   "metadata": {},
   "outputs": [],
   "source": [
    "config = {\n",
    "  \"learning_rate_decay_period\": 24000, \n",
    "  \"batch_norm_decay_decay_period\": 16000, \n",
    "  \"learning_rate_decay_type\": \"polynomial\", \n",
    "  \"batch_norm_decay_decay_activate\": True, \n",
    "  \"learning_rate_decay_activate\": True, \n",
    "  \"learning_rate_decay_rate\": 0.99, \n",
    "  \"batch_norm_decay_ending_decay\": 0.9, \n",
    "  \"depth\": 3, \n",
    "  \"weighted_cost_activate\": False, \n",
    "  \"weighted_cost_balanced_activate\": False,  \n",
    "  \"weighted_cost_boundaries_activate\": False,\n",
    "  \"batch_norm_activate\": True, \n",
    "  \"thresholds\": [0, 0.5], \n",
    "  \"trainingset_patchsize\": 512, \n",
    "  \"learning_rate\": 0.001, \n",
    "  \"downsampling\": \"maxpooling\", \n",
    "  \"batch_size\": 8, \n",
    "  \"da-type\": \"all\", \n",
    "  \"n_classes\": 2, \n",
    "  \"batch_norm_decay_starting_decay\": 0.7, \n",
    "  \"trainingset\": \"data_training\", \n",
    "  \"size_of_convolutions_per_layer\": [[3,3],[3,3],[3,3],[3,3]], \n",
    "  \"dropout\": 0.75, \n",
    "  \"convolution_per_layer\": [2, 2, 2], \n",
    "  \"features_per_convolution\": [[[10,15],[15,20]],[[20,25],[25,30]],[[30,35],[35,40]]]\n",
    "}"
   ]
  },
  {
   "cell_type": "code",
   "execution_count": null,
   "metadata": {},
   "outputs": [],
   "source": []
  },
  {
   "cell_type": "code",
   "execution_count": null,
   "metadata": {},
   "outputs": [],
   "source": []
  },
  {
   "cell_type": "code",
   "execution_count": null,
   "metadata": {},
   "outputs": [],
   "source": []
  },
  {
   "cell_type": "code",
   "execution_count": 12,
   "metadata": {},
   "outputs": [
    {
     "name": "stdout",
     "output_type": "stream",
     "text": [
      "[44 44 44]\n",
      "[44 44 44]\n"
     ]
    },
    {
     "data": {
      "image/png": "[encoded data removed]",
      "text/plain": [
       "<Figure size 936x720 with 2 Axes>"
      ]
     },
     "metadata": {},
     "output_type": "display_data"
    }
   ],
   "source": [
    "import imageio\n",
    "import matplotlib.pyplot as plt\n",
    "%matplotlib inline\n",
    "from AxonDeepSeg.data_management.input_data import labellize_mask_2d\n",
    "\n",
    "\n",
    "\n",
    "mask = imageio.imread('/Users/rudinakaprata/Documents/Aldo/ads_feb/axondeepseg/AxonDeepSeg/data_test/mask.png')\n",
    "\n",
    "\n",
    "\n",
    "\n",
    "mask[20:100,20:100,:]=300\n",
    "mask2, aaa = labellize_mask_2d(mask, [0,0.5])\n",
    "\n",
    "plt.figure(figsize=(13,10))\n",
    "plt.subplot(121)\n",
    "plt.imshow(mask)\n",
    "plt.subplot(122)\n",
    "plt.imshow(aaa)\n",
    "\n",
    "print(mask[20,20,:])\n",
    "print(mask2[20,20,:])"
   ]
  },
  {
   "cell_type": "code",
   "execution_count": 5,
   "metadata": {},
   "outputs": [
    {
     "name": "stdout",
     "output_type": "stream",
     "text": [
      "[[[1 1 1]\n",
      "  [1 1 1]\n",
      "  [1 1 1]\n",
      "  ...\n",
      "  [1 1 1]\n",
      "  [1 1 1]\n",
      "  [1 1 1]]\n",
      "\n",
      " [[1 1 1]\n",
      "  [1 1 1]\n",
      "  [1 1 1]\n",
      "  ...\n",
      "  [1 1 1]\n",
      "  [1 1 1]\n",
      "  [1 1 1]]\n",
      "\n",
      " [[1 1 1]\n",
      "  [1 1 1]\n",
      "  [1 1 1]\n",
      "  ...\n",
      "  [1 1 1]\n",
      "  [1 1 1]\n",
      "  [1 1 1]]\n",
      "\n",
      " ...\n",
      "\n",
      " [[0 0 0]\n",
      "  [0 0 0]\n",
      "  [0 0 0]\n",
      "  ...\n",
      "  [1 1 1]\n",
      "  [1 1 1]\n",
      "  [1 1 1]]\n",
      "\n",
      " [[0 0 0]\n",
      "  [0 0 0]\n",
      "  [0 0 0]\n",
      "  ...\n",
      "  [1 1 1]\n",
      "  [1 1 1]\n",
      "  [1 1 1]]\n",
      "\n",
      " [[0 0 0]\n",
      "  [0 0 0]\n",
      "  [0 0 0]\n",
      "  ...\n",
      "  [1 1 1]\n",
      "  [1 1 1]\n",
      "  [1 1 1]]]\n"
     ]
    }
   ],
   "source": [
    "print(aaa)"
   ]
  },
  {
   "cell_type": "code",
   "execution_count": null,
   "metadata": {},
   "outputs": [],
   "source": []
  },
  {
   "cell_type": "code",
   "execution_count": null,
   "metadata": {},
   "outputs": [],
   "source": []
  },
  {
   "cell_type": "code",
   "execution_count": null,
   "metadata": {},
   "outputs": [],
   "source": []
  }
 ],
 "metadata": {
  "kernelspec": {
   "display_name": "Python 2",
   "language": "python",
   "name": "python2"
  },
  "language_info": {
   "codemirror_mode": {
    "name": "ipython",
    "version": 2
   },
   "file_extension": ".py",
   "mimetype": "text/x-python",
   "name": "python",
   "nbconvert_exporter": "python",
   "pygments_lexer": "ipython2",
   "version": "2.7.10"
  }
 },
 "nbformat": 4,
 "nbformat_minor": 2
}
