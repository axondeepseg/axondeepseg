{
 "cells": [
  {
   "cell_type": "markdown",
   "metadata": {},
   "source": [
    "### Jupyter Notebook to compute morphological metrics from axon and myelin segmentation of a microscopy sample.\n",
    "\n",
    "- To use it, you need the paths of the microscopy image and the segmentation prediction (output of AxonDeepSeg).\n"
   ]
  },
  {
   "cell_type": "markdown",
   "metadata": {},
   "source": [
    "#### Imports"
   ]
  },
  {
   "cell_type": "code",
   "execution_count": null,
   "metadata": {},
   "outputs": [],
   "source": [
    "import numpy as np\n",
    "import math\n",
    "import os\n",
    "import matplotlib.pyplot as plt\n",
    "\n",
    "from skimage import measure, morphology, feature\n",
    "\n",
    "\n",
    "from AxonDeepSeg.morphometrics.compute_morphometrics import *\n",
    "import AxonDeepSeg.ads_utils as ads\n",
    "from config import axonmyelin_suffix\n",
    "\n",
    "%matplotlib inline"
   ]
  },
  {
   "cell_type": "markdown",
   "metadata": {},
   "source": [
    "#### Read image and segmented prediction"
   ]
  },
  {
   "cell_type": "code",
   "execution_count": null,
   "metadata": {},
   "outputs": [],
   "source": [
    "# Change the image and segmentation paths here for your sample:\n",
    "path_img = '../AxonDeepSeg/models/default_SEM_model/data_test/image.png'\n",
    "path_pred = '../AxonDeepSeg/models/default_SEM_model/data_test/image' + str(axonmyelin_suffix)"
   ]
  },
  {
   "cell_type": "code",
   "execution_count": null,
   "metadata": {},
   "outputs": [],
   "source": [
    "# Read paths and compute axon/myelin masks\n",
    "img = ads.imread(path_img)\n",
    "pred = ads.imread(path_pred)\n",
    "pred_axon = pred > 200\n",
    "pred_myelin = np.logical_and(pred >= 50, pred <= 200)\n",
    "path_folder, file_name = os.path.split(path_img)"
   ]
  },
  {
   "cell_type": "markdown",
   "metadata": {},
   "source": [
    "### Step-by-step use case: extract morphometrics from a segmented microscopy sample"
   ]
  },
  {
   "cell_type": "markdown",
   "metadata": {},
   "source": [
    "#### 1) Get axon morphometrics"
   ]
  },
  {
   "cell_type": "code",
   "execution_count": null,
   "metadata": {},
   "outputs": [],
   "source": [
    "# By default for computing the morphometrics, AxonDeepSeg treats the axon shape as circle.  \n",
    "# If you wish to consider shape of axon as an ellipse set the axon_shape variable to 'ellipse'.\n",
    "\n",
    "axon_shape = 'circle'   '''String, circle: axon shape is considered circle for computing morphometrics.\n",
    "                                           Equivalent diameter of axon is used to compute the axon_diam,                                                myelin_thickness, axonmyelin_diam, gratio.\n",
    "                                        \n",
    "                                   ellipse: axon shape is considered ellipse for computing morphometrics.                                                Ellipse Minor axis is used to compute the axon_diam, myelin                                                  thickness, axonmyelin_diam and gratio.\n",
    "                        '''       \n",
    "\n",
    "# Computes axon morphometrics\n",
    "stats_array = get_axon_morphometrics(pred_axon,path_folder, axon_shape=axon_shape)\n"
   ]
  },
  {
   "cell_type": "markdown",
   "metadata": {},
   "source": [
    "#### 2) Save axon morphometrics and load back"
   ]
  },
  {
   "cell_type": "code",
   "execution_count": null,
   "metadata": {},
   "outputs": [],
   "source": [
    "save_axon_morphometrics(path_folder,stats_array)\n",
    "stats_array = load_axon_morphometrics(path_folder)"
   ]
  },
  {
   "cell_type": "markdown",
   "metadata": {},
   "source": [
    "#### 3) Extract and plot axon diameter distribution"
   ]
  },
  {
   "cell_type": "code",
   "execution_count": null,
   "metadata": {},
   "outputs": [],
   "source": [
    "# Get axon diameter distribution\n",
    "axon_diam_list = [d['axon_diam'] for d in stats_array]"
   ]
  },
  {
   "cell_type": "code",
   "execution_count": null,
   "metadata": {},
   "outputs": [],
   "source": [

    "# Plot histogram of axon diameter distribution \n",

    "plt.figure(figsize=(8,6))\n",
    "n, bins, patches = plt.hist(axon_diam_list,30, facecolor='g', alpha=0.7)\n",
    "plt.xlabel('Axon diameter in um',fontsize=10)\n",
    "plt.ylabel('Frequency',fontsize=10)\n",
    "plt.title('Axon diameter distribution',fontsize=11)\n",
    "plt.grid(True)"
   ]
  },
  {
   "cell_type": "markdown",
   "metadata": {},
   "source": [
    "#### 4) Display boxplots of other axonal morphometrics (example with solidity and eccentricity)"
   ]
  },
  {
   "cell_type": "code",
   "execution_count": null,
   "metadata": {},
   "outputs": [],
   "source": [
    "# Get axon solidity distribution (measure of compactness of the axon)\n",
    "axon_solidity_list = [d['solidity'] for d in stats_array]\n",
    "# Get axon eccentricity distribution (measure of ellipticity/extent of the axon)\n",
    "axon_eccentricity_list = [d['eccentricity'] for d in stats_array]"
   ]
  },
  {
   "cell_type": "code",
   "execution_count": null,
   "metadata": {},
   "outputs": [],
   "source": [
    "# Plot boxplots of solidity and eccentricity\n",
    "plt.figure(figsize=(6,6))\n",
    "data_to_plot = [axon_solidity_list,axon_eccentricity_list]\n",
    "plt.boxplot(data_to_plot,patch_artist=True)\n",
    "plt.title('Solidity and eccentricity distributions of axons',fontsize=11)\n",
    "plt.grid(True)\n",
    "frame1 = plt.gca()\n",
    "frame1.set_xticklabels(['Solidity', 'Eccentricity'],fontsize=11)"
   ]
  },
  {
   "cell_type": "markdown",
   "metadata": {},
   "source": [
    "#### 5) Display and save axon mask overlay labelled for axon diameter"
   ]
  },
  {
   "cell_type": "code",
   "execution_count": null,
   "metadata": {},
   "outputs": [],
   "source": [

    "fig = draw_axon_diameter(img,path_pred,pred_axon,pred_myelin, axon_shape=shape)\n",

    "from IPython.core.display import display\n",
    "fig.canvas.draw()\n",
    "display(fig)"
   ]
  },
  {
   "cell_type": "markdown",
   "metadata": {},
   "source": [
    "#### 6) Compute aggregate axon/myelin morphometrics"
   ]
  },
  {
   "cell_type": "code",
   "execution_count": null,
   "metadata": {},
   "outputs": [],
   "source": [
    "# Compute aggregate metrics\n",
    "aggregate_metrics = get_aggregate_morphometrics(pred_axon,pred_myelin,path_folder, shape=shape)\n",
    "print(aggregate_metrics)"
   ]
  },
  {
   "cell_type": "markdown",
   "metadata": {},
   "source": [
    "#### 7) Save aggregate metrics"
   ]
  },
  {
   "cell_type": "code",
   "execution_count": null,
   "metadata": {},
   "outputs": [],
   "source": [
    "write_aggregate_morphometrics(path_folder,aggregate_metrics)"
   ]
  },
  {
   "cell_type": "markdown",
   "metadata": {},
   "source": [
    "#### Other useful code snippets"
   ]
  },
  {
   "cell_type": "code",
   "execution_count": null,
   "metadata": {},
   "outputs": [],
   "source": [
    "# Show metrics available for axons\n",
    "print(stats_array[0].keys())"
   ]
  },
  {
   "cell_type": "code",
   "execution_count": null,
   "metadata": {},
   "outputs": [],
   "source": [
    "# Get axon diameter value of axon object 0\n",
    "print(stats_array[0]['axon_diam'])"
   ]
  },
  {
   "cell_type": "code",
   "execution_count": null,
   "metadata": {},
   "outputs": [],
   "source": [
    "# Get solidity value of axon object 50\n",
    "print(stats_array[49]['solidity'])"
   ]
  },
  {
   "cell_type": "code",
   "execution_count": null,
   "metadata": {},
   "outputs": [],
   "source": [
    "# Display all stats for axon object 10\n",
    "print(stats_array[9])"
   ]
  },
  {
   "cell_type": "code",
   "execution_count": null,
   "metadata": {},
   "outputs": [],
   "source": [
    "# Get axon diameter value of all axons in list\n",
    "axon_diam_list = [d['axon_diam'] for d in stats_array]"
   ]
  },
  {
   "cell_type": "code",
   "execution_count": null,
   "metadata": {},
   "outputs": [],
   "source": [
    "# Get number of axons in sample\n",
    "print(np.size(axon_diam_list))"
   ]
  },
  {
   "cell_type": "code",
   "execution_count": null,
   "metadata": {},
   "outputs": [],
   "source": [
    "# Get mean diameter\n",
    "mean_diam = np.mean(axon_diam_list)\n",
    "print(mean_diam)"
   ]
  },
  {
   "cell_type": "code",
   "execution_count": null,
   "metadata": {},
   "outputs": [],
   "source": [
    "# Get max diameter\n",
    "max_diam = np.max(axon_diam_list)\n",
    "print(max_diam)"
   ]
  }
 ],
 "metadata": {
  "anaconda-cloud": {},
  "kernelspec": {
   "display_name": "Python 3",
   "language": "python",
   "name": "python3"
  },
  "language_info": {
   "codemirror_mode": {
    "name": "ipython",
    "version": 3
   },
   "file_extension": ".py",
   "mimetype": "text/x-python",
   "name": "python",
   "nbconvert_exporter": "python",
   "pygments_lexer": "ipython3",
   "version": "3.7.9"
  }
 },
 "nbformat": 4,
 "nbformat_minor": 2
}